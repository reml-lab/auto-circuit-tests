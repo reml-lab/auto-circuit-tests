{
 "cells": [
  {
   "cell_type": "code",
   "execution_count": 1,
   "metadata": {},
   "outputs": [],
   "source": [
    "# set cuda visible devices\n",
    "def is_notebook() -> bool:\n",
    "    try:\n",
    "        shell = get_ipython().__class__.__name__\n",
    "        if shell == 'ZMQInteractiveShell':\n",
    "            return True   # Jupyter notebook or qtconsole\n",
    "        elif shell == 'TerminalInteractiveShell':\n",
    "            return False  # Terminal running IPython\n",
    "        else:\n",
    "            return False  # Other type (?)\n",
    "    except NameError:\n",
    "        return False      # Probably standard Python interpreter\n",
    "\n",
    "import os\n",
    "if is_notebook():\n",
    "    os.environ[\"CUDA_VISIBLE_DEVICES\"] = \"3\" #\"1\"\n",
    "    # os.environ['CUDA_LAUNCH_BLOCKING']=\"1\"\n",
    "    # os.environ['TORCH_USE_CUDA_DSA'] = \"1\""
   ]
  },
  {
   "cell_type": "code",
   "execution_count": 2,
   "metadata": {},
   "outputs": [
    {
     "data": {
      "text/plain": [
       "True"
      ]
     },
     "execution_count": 2,
     "metadata": {},
     "output_type": "execute_result"
    }
   ],
   "source": [
    "import torch \n",
    "torch.cuda.is_available()"
   ]
  },
  {
   "cell_type": "markdown",
   "metadata": {},
   "source": [
    "# Hypothesis Testing Automatically Discovered Circuits\n",
    "\n",
    "Procedure: \n",
    "- Compute prune scores (via attribution patching) \n",
    "- Search over different thresholds to find the smallest circuit where the null hypotheis of Equivalence / Dominance cannot be rejected \n",
    "- Prune edges from circuit that are not in paths to the output, or in the case of resample ablation cannot be reached from the input\n",
    "- Test whether each edge in the circuit is minimal \n",
    "- Test whether the circuit is complete (by seeing if the null hypothesis on the independence test can be rejected)\n",
    "\n"
   ]
  },
  {
   "cell_type": "code",
   "execution_count": 3,
   "metadata": {},
   "outputs": [
    {
     "name": "stderr",
     "output_type": "stream",
     "text": [
      "/nas/ucb/oliveradk/miniforge3/envs/auto-circuit-tests/lib/python3.10/site-packages/tqdm/auto.py:21: TqdmWarning: IProgress not found. Please update jupyter and ipywidgets. See https://ipywidgets.readthedocs.io/en/stable/user_install.html\n",
      "  from .autonotebook import tqdm as notebook_tqdm\n"
     ]
    }
   ],
   "source": [
    "import os\n",
    "from typing import Callable, Dict, Tuple, Union, Optional, Any, Literal, NamedTuple\n",
    "from itertools import product\n",
    "from copy import deepcopy\n",
    "import random\n",
    "import math\n",
    "from collections import defaultdict\n",
    "from dataclasses import dataclass\n",
    "from pathlib import Path\n",
    "\n",
    "import torch\n",
    "import torch as t\n",
    "import numpy as np\n",
    "from scipy.stats import binom, beta\n",
    "\n",
    "import matplotlib.pyplot as plt\n",
    "from tqdm import tqdm\n",
    "\n",
    "from omegaconf import OmegaConf\n",
    "\n",
    "\n",
    "from auto_circuit.data import PromptPairBatch, PromptDataLoader\n",
    "from auto_circuit.utils.patchable_model import PatchableModel\n",
    "from auto_circuit.types import (BatchKey, PruneScores, CircuitOutputs, AblationType, \n",
    "                                Edge, BatchOutputs, EdgeCounts)\n",
    "from auto_circuit.prune_algos.mask_gradient import mask_gradient_prune_scores\n",
    "from auto_circuit.prune_algos.activation_patching import act_patch_prune_scores\n",
    "from auto_circuit.prune_algos.ACDC import acdc_prune_scores\n",
    "from auto_circuit.prune_algos.subnetwork_probing import subnetwork_probing_prune_scores\n",
    "from auto_circuit.prune_algos.circuit_probing import circuit_probing_prune_scores\n",
    "from auto_circuit.visualize import draw_seq_graph\n",
    "from auto_circuit.utils.custom_tqdm import tqdm\n",
    "from auto_circuit.utils.tensor_ops import desc_prune_scores\n",
    "from auto_circuit.utils.graph_utils import edge_counts_util\n",
    "\n",
    "from auto_circuit_tests.prune_algos import PruneAlgo\n",
    "from auto_circuit_tests.score_funcs import GradFunc, AnswerFunc, DIV_ANSWER_FUNCS\n",
    "# from auto_circuit_tests.faithful_metrics import FaithfulMetric\n",
    "\n",
    "from auto_circuit_tests.edge_scores import compute_edge_scores\n",
    "from auto_circuit_tests.utils.auto_circuit_utils import (\n",
    "    run_circuit_with_edge_ablated,\n",
    "    run_circuit_with_edges_ablated, \n",
    "    run_fully_ablated_model, \n",
    "    flat_prune_scores_ordered\n",
    ")\n",
    "\n",
    "from auto_circuit_tests.faith_metrics import compute_faith_metrics\n",
    "from auto_circuit_tests.hypo_tests.equiv_test import equiv_tests\n",
    "from auto_circuit_tests.hypo_tests.minimality_test import (\n",
    "    run_circuits_inflated_ablated, \n",
    "    score_diffs,\n",
    "    minimality_test_edge,\n",
    "    minimality_test, \n",
    ")\n",
    "from auto_circuit_tests.hypo_tests.indep_test import independence_tests, indep_test\n",
    "from auto_circuit_tests.hypo_tests.utils import (\n",
    "    join_values, \n",
    "    remove_el,\n",
    "    edges_from_mask, \n",
    "    result_to_json, \n",
    ")\n",
    "from auto_circuit_tests.edge_graph import (\n",
    "    SeqGraph,  \n",
    "    sample_paths, \n",
    "    SampleType,\n",
    "    edge_in_path, \n",
    "    find_unused_edges,\n",
    "    visualize_graph\n",
    ")\n",
    "\n",
    "from auto_circuit_tests.tasks import TASK_DICT, TASK_TO_OUTPUT_ANSWER_FUNCS\n",
    "from auto_circuit_tests.utils.auto_circuit_utils import edge_name\n",
    "from auto_circuit_tests.utils.utils import (\n",
    "    repo_path_to_abs_path, \n",
    "    load_cache, \n",
    "    save_cache, \n",
    "    save_json, \n",
    "    load_json, # should probably move this to auto_circuit_tests.utils\n",
    "    get_el_rank\n",
    ")\n",
    "from auto_circuit_tests.utils.utils import get_exp_dir\n"
   ]
  },
  {
   "cell_type": "code",
   "execution_count": 4,
   "metadata": {},
   "outputs": [],
   "source": [
    "# config class\n",
    "from dataclasses import dataclass, field\n",
    "@dataclass \n",
    "class Config: \n",
    "    task: str = \"Docstring Token Circuit\" # check how many edges in component circuit (probably do all but ioi toen)\n",
    "    ablation_type: AblationType = AblationType.RESAMPLE\n",
    "    grad_func: GradFunc = GradFunc.LOGPROB\n",
    "    answer_func: AnswerFunc = AnswerFunc.KL_DIV\n",
    "    eval_grad_func: Optional[GradFunc] = None # TODO: used to evaluate faithfulness\n",
    "    prune_algo: PruneAlgo = PruneAlgo.CIRC_PROBE\n",
    "    eval_answer_func: Optional[AnswerFunc] = None\n",
    "    ig_samples: Optional[int] = 50\n",
    "    layerwise: bool = True\n",
    "    edge_counts: EdgeCounts = EdgeCounts.LOGARITHMIC\n",
    "    tao_bases: list[float] = field(default_factory=lambda: [1, 5])\n",
    "    tao_exps: list[float] = field(default_factory=lambda: list(range(-5, -1)))\n",
    "    prune_score_thresh: bool = False\n",
    "    null_good: bool = True\n",
    "    alpha: float = 0.05\n",
    "    epsilon: Optional[float] = 0.1\n",
    "    q_star: float = 0.9 \n",
    "    n_paths: int = 200\n",
    "    sample_type: SampleType = SampleType.RANDOM_WALK\n",
    "    # TODO: remove these?\n",
    "    min_equiv_all_edges_thresh = 1000\n",
    "    max_edges_to_test_in_order: int = 0 #TODO: change to 125\n",
    "    max_edges_to_test_without_fail: int = 500 #TODO: change to 125\n",
    "    save_cache: bool = True\n",
    "    \n",
    "    def __post_init__(self):\n",
    "        # always override clean_corrupt for now\n",
    "        self.clean_corrupt = \"corrupt\" if self.ablation_type == AblationType.RESAMPLE else None\n",
    "\n",
    "        # set eval_grad_func and faith_answer_func to logit and max diff if answer_func is div\n",
    "        if self.answer_func in DIV_ANSWER_FUNCS: \n",
    "            if self.eval_grad_func is None:\n",
    "                self.eval_grad_func = GradFunc.LOGIT\n",
    "            if self.eval_answer_func is None:\n",
    "                self.eval_answer_func = AnswerFunc.MAX_DIFF"
   ]
  },
  {
   "cell_type": "code",
   "execution_count": 5,
   "metadata": {},
   "outputs": [],
   "source": [
    "# initialize config \n",
    "conf = Config()\n",
    "#get config overrides if runnign from command line\n",
    "if not is_notebook():\n",
    "    import sys \n",
    "    conf_dict = OmegaConf.merge(OmegaConf.structured(conf), OmegaConf.from_cli(sys.argv[1:]))\n",
    "    conf = Config(**conf_dict)"
   ]
  },
  {
   "cell_type": "code",
   "execution_count": 6,
   "metadata": {},
   "outputs": [],
   "source": [
    "# handle directories\n",
    "task_dir, ablation_dir, out_answer_dir, ps_dir, edge_dir, exp_dir = get_exp_dir(\n",
    "    task_key=conf.task, \n",
    "    ablation_type=conf.ablation_type,\n",
    "    grad_func=conf.grad_func,\n",
    "    answer_func=conf.answer_func,\n",
    "    prune_algo=conf.prune_algo,\n",
    "    ig_samples=conf.ig_samples,\n",
    "    layerwise=conf.layerwise,\n",
    "    alpha=conf.alpha,\n",
    "    epsilon=conf.epsilon,\n",
    "    q_star=conf.q_star,\n",
    "    prune_score_thresh=conf.prune_score_thresh,\n",
    ")\n",
    "exp_dir.mkdir(parents=True, exist_ok=True)"
   ]
  },
  {
   "cell_type": "code",
   "execution_count": 7,
   "metadata": {},
   "outputs": [
    {
     "name": "stderr",
     "output_type": "stream",
     "text": [
      "/nas/ucb/oliveradk/miniforge3/envs/auto-circuit-tests/lib/python3.10/site-packages/transformer_lens/utils.py:62: FutureWarning: You are using `torch.load` with `weights_only=False` (the current default value), which uses the default pickle module implicitly. It is possible to construct malicious pickle data which will execute arbitrary code during unpickling (See https://github.com/pytorch/pytorch/blob/main/SECURITY.md#untrusted-models for more details). In a future release, the default value for `weights_only` will be flipped to `True`. This limits the functions that could be executed during unpickling. Arbitrary objects will no longer be allowed to be loaded via this mode unless they are explicitly allowlisted by the user via `torch.serialization.add_safe_globals`. We recommend you start setting `weights_only=True` for any use case where you don't have full control of the loaded file. Please open an issue on GitHub for any issues related to this experimental feature.\n",
      "  return torch.load(file_path, map_location=\"cpu\")\n",
      "/nas/ucb/oliveradk/miniforge3/envs/auto-circuit-tests/lib/python3.10/site-packages/transformers/tokenization_utils_base.py:1601: FutureWarning: `clean_up_tokenization_spaces` was not set. It will be set to `True` by default. This behavior will be depracted in transformers v4.45, and will be then set to `False` by default. For more details check this issue: https://github.com/huggingface/transformers/issues/31884\n",
      "  warnings.warn(\n"
     ]
    },
    {
     "name": "stdout",
     "output_type": "stream",
     "text": [
      "Loaded pretrained model attn-only-4l into HookedTransformer\n",
      "seq_len before divergence 41\n",
      "seq_len after divergence 30\n"
     ]
    }
   ],
   "source": [
    "# initialize task\n",
    "task = TASK_DICT[conf.task]\n",
    "task.shuffle = False\n",
    "task.init_task()"
   ]
  },
  {
   "cell_type": "markdown",
   "metadata": {},
   "source": [
    "# Prune Scores"
   ]
  },
  {
   "cell_type": "markdown",
   "metadata": {},
   "source": [
    "## ACDC Prune Scores"
   ]
  },
  {
   "cell_type": "code",
   "execution_count": 8,
   "metadata": {},
   "outputs": [],
   "source": [
    "if conf.prune_algo == PruneAlgo.ACDC:\n",
    "    auto_ps_path = out_answer_dir / \"auto_prune_scores.pkl\"\n",
    "    if auto_ps_path.exists():\n",
    "        auto_prune_scores = torch.load(auto_ps_path)\n",
    "    else:\n",
    "        if conf.task == \"Indirect Object Identification Token Circuit\":\n",
    "            print(\"cannot run ACDC on IOI token circuit, too large\")\n",
    "            exit()\n",
    "        auto_prune_scores = acdc_prune_scores(\n",
    "            model=task.model, \n",
    "            dataloader=task.train_loader, \n",
    "            official_edges=None,\n",
    "            tao_exps=conf.tao_exps,\n",
    "            tao_bases=conf.tao_bases,\n",
    "            faithfulness_target=conf.answer_func.value, \n",
    "        )\n",
    "        if conf.save_cache:\n",
    "            torch.save(auto_prune_scores, auto_ps_path)\n",
    "    taos = sorted([tao_base * 10**tao_exp for tao_base, tao_exp in product(conf.tao_bases, conf.tao_exps)])"
   ]
  },
  {
   "cell_type": "markdown",
   "metadata": {},
   "source": [
    "## Circuit Probing Prune Scores"
   ]
  },
  {
   "cell_type": "code",
   "execution_count": 14,
   "metadata": {},
   "outputs": [
    {
     "name": "stderr",
     "output_type": "stream",
     "text": [
      "Circuit Probing Size 10:           | 0/3 [00:00<?, ?it/s]"
     ]
    },
    {
     "data": {
      "application/vnd.plotly.v1+json": {
       "config": {
        "plotlyServerURL": "https://plot.ly"
       },
       "data": [
        {
         "name": "Loss",
         "type": "scatter",
         "y": [
          310.9200439453125,
          308.67913818359375,
          305.8203430175781,
          302.5791320800781,
          298.1515808105469,
          293.6564025878906,
          290.86328125,
          285.58502197265625,
          280.9074401855469,
          276.8221130371094,
          270.2222900390625,
          266.2337646484375,
          260.8451232910156,
          255.63470458984375,
          249.92819213867188,
          244.47787475585938,
          238.2755889892578,
          232.84649658203125,
          226.87969970703125,
          220.61810302734375,
          214.01051330566406,
          207.9677276611328,
          201.45388793945312,
          195.6868133544922,
          190.14173889160156,
          183.80409240722656,
          175.9743194580078,
          169.9807891845703,
          162.8892364501953,
          155.21627807617188,
          150.77606201171875,
          144.175048828125,
          138.47727966308594,
          132.4612579345703,
          127.9209976196289,
          120.39707946777344,
          115.88003540039062,
          110.08000183105469,
          104.05472564697266,
          99.96509552001953,
          95.9232406616211,
          92.30532836914062,
          86.77714538574219,
          83.0542221069336,
          78.77710723876953,
          75.6610336303711,
          71.75736999511719,
          67.15353393554688,
          65.41873931884766,
          61.056060791015625,
          59.52429962158203,
          55.683353424072266,
          53.65371322631836,
          51.72746276855469,
          49.16634750366211,
          47.26911163330078,
          45.170318603515625,
          43.2608757019043,
          41.90067672729492,
          38.96843719482422,
          38.6387939453125,
          36.876346588134766,
          35.45649337768555,
          34.143211364746094,
          32.95503234863281,
          31.63321304321289,
          31.4814453125,
          30.86722755432129,
          28.641223907470703,
          28.054948806762695,
          26.71996307373047,
          26.30535316467285,
          24.860992431640625,
          24.553302764892578,
          24.255359649658203,
          22.74180793762207,
          22.524330139160156,
          22.158756256103516,
          21.49973487854004,
          21.150596618652344,
          20.302894592285156,
          20.026206970214844,
          19.65283966064453,
          19.21699333190918,
          18.934402465820312,
          18.28314208984375,
          17.67171287536621,
          17.226797103881836,
          17.753293991088867,
          16.622516632080078,
          16.570053100585938,
          16.492530822753906,
          15.795040130615234,
          15.254525184631348,
          15.00532341003418,
          14.641378402709961,
          14.505706787109375,
          14.385059356689453,
          14.574097633361816,
          13.928239822387695,
          14.35776424407959,
          13.644333839416504,
          13.11205768585205,
          13.18685531616211,
          12.929641723632812,
          12.591797828674316,
          13.191121101379395,
          12.435113906860352,
          12.00228500366211,
          12.10509204864502,
          12.070104598999023,
          11.397566795349121,
          11.529866218566895,
          10.990416526794434,
          11.34017562866211,
          11.0538330078125,
          11.119756698608398,
          10.832619667053223,
          10.713947296142578,
          10.221770286560059,
          10.381115913391113,
          10.77023696899414,
          10.442232131958008,
          9.976826667785645,
          9.714370727539062,
          9.898065567016602,
          9.80127239227295,
          9.552529335021973,
          9.66750717163086,
          9.338642120361328,
          9.143980026245117,
          9.0042724609375,
          8.46935749053955,
          9.098097801208496,
          8.84508991241455,
          8.905872344970703,
          8.857282638549805,
          8.867217063903809,
          8.491308212280273,
          8.503901481628418,
          8.359460830688477,
          8.157543182373047,
          8.049352645874023,
          8.14669418334961,
          7.854848384857178,
          7.821166038513184,
          7.583671569824219,
          7.896418571472168,
          7.765982151031494,
          7.487870216369629,
          7.661696434020996,
          7.253226280212402,
          7.516898155212402,
          7.6079230308532715,
          7.456472396850586,
          7.55797815322876,
          7.643105506896973,
          7.169382095336914,
          7.125227928161621,
          7.308772087097168,
          7.241885185241699,
          6.8098859786987305,
          6.816635608673096,
          6.764904975891113,
          6.758078098297119,
          6.741958141326904,
          6.790163040161133,
          6.56085205078125,
          6.805574893951416,
          6.264693260192871,
          6.2366557121276855,
          6.286928176879883,
          6.305570602416992,
          6.173786163330078,
          6.3620429039001465,
          6.364438533782959,
          5.968110084533691,
          6.342132568359375,
          6.028975963592529,
          6.3474016189575195,
          6.180934906005859,
          5.980936050415039,
          5.859623908996582,
          5.952340126037598,
          5.858703136444092,
          5.8530049324035645,
          5.5796122550964355,
          5.8105926513671875,
          5.487686634063721,
          5.78383731842041,
          5.612730979919434,
          5.445160865783691,
          5.549796104431152,
          5.23160457611084,
          5.6509199142456055,
          5.781955718994141,
          5.2832770347595215,
          5.126142978668213,
          5.409106254577637,
          5.190118312835693
         ]
        },
        {
         "name": "Kl_Div",
         "type": "scatter",
         "y": [
          1.483330488204956,
          1.4722661972045898,
          1.3043875694274902,
          1.3283815383911133,
          1.1021015644073486,
          1.181955099105835,
          0.9952777624130249,
          1.024606704711914,
          0.9064038395881653,
          1.0850597620010376,
          0.8959009647369385,
          1.01972234249115,
          0.9597132205963135,
          1.1166069507598877,
          0.8345630764961243,
          0.9238042831420898,
          0.93366539478302,
          0.798175573348999,
          0.7738591432571411,
          0.7901953458786011,
          0.8670369386672974,
          0.8855899572372437,
          0.7067080736160278,
          0.7846294641494751,
          0.8017238974571228,
          0.8007712364196777,
          0.7936885356903076,
          0.9505797624588013,
          0.890802800655365,
          0.8489929437637329,
          0.8328948020935059,
          0.8777629137039185,
          0.7831361293792725,
          0.8043148517608643,
          0.8422629833221436,
          0.6924939155578613,
          0.8334536552429199,
          0.8879278302192688,
          0.7522978782653809,
          0.8484737277030945,
          0.8029497861862183,
          0.931889533996582,
          0.8298562169075012,
          0.917556643486023,
          0.7502706050872803,
          0.8701739311218262,
          0.7833811044692993,
          0.9253119230270386,
          0.923754096031189,
          0.873285174369812,
          0.897915780544281,
          0.8872588872909546,
          0.7828527092933655,
          0.92105633020401,
          0.8558388352394104,
          0.8682518005371094,
          0.8531320095062256,
          0.8732193112373352,
          0.842391848564148,
          0.8193333148956299,
          0.8175050020217896,
          0.874393105506897,
          0.8105179071426392,
          0.9168069362640381,
          0.8244425058364868,
          0.8832899332046509,
          0.8762866258621216,
          0.8223824501037598,
          0.8366909623146057,
          0.812801718711853,
          0.8535956144332886,
          0.8812114596366882,
          0.8279446363449097,
          0.8310374021530151,
          0.81661057472229,
          0.8883703947067261,
          0.8612815141677856,
          0.8221157789230347,
          0.8388739824295044,
          0.8194643259048462,
          0.8059400916099548,
          0.8314391374588013,
          0.8875283002853394,
          0.7756656408309937,
          0.854753851890564,
          0.799508810043335,
          0.8096811771392822,
          0.8282816410064697,
          0.8489967584609985,
          0.816498875617981,
          0.8157564401626587,
          0.7286233901977539,
          0.8107423782348633,
          0.7340558171272278,
          0.7747372388839722,
          0.7816123962402344,
          0.8405507206916809,
          0.7533003091812134,
          0.8172218203544617,
          0.7171066999435425,
          0.7805755138397217,
          0.7841774225234985,
          0.7226822376251221,
          0.772792637348175,
          0.7809696197509766,
          0.8133982419967651,
          0.813620924949646,
          0.7330044507980347,
          0.7924402952194214,
          0.7564200162887573,
          0.7498314380645752,
          0.7651440501213074,
          0.7613505125045776,
          0.7806123495101929,
          0.8372064828872681,
          0.7154734134674072,
          0.8085848093032837,
          0.7813695669174194,
          0.7891030311584473,
          0.7549733519554138,
          0.76900714635849,
          0.7638297080993652,
          0.7640674114227295,
          0.7148736715316772,
          0.7598394751548767,
          0.6902140974998474,
          0.7318975329399109,
          0.742959201335907,
          0.7480143308639526,
          0.7203216552734375,
          0.7306985855102539,
          0.7352094650268555,
          0.712403416633606,
          0.7392303943634033,
          0.7470817565917969,
          0.7048564553260803,
          0.713843822479248,
          0.7127640247344971,
          0.6965430974960327,
          0.7166356444358826,
          0.7483667135238647,
          0.7275042533874512,
          0.7201334238052368,
          0.7101320028305054,
          0.7205510139465332,
          0.7108532786369324,
          0.7114835977554321,
          0.6989964246749878,
          0.7273877859115601,
          0.6916587352752686,
          0.7371258735656738,
          0.7474054098129272,
          0.7078747153282166,
          0.7192119359970093,
          0.7253783941268921,
          0.7257128953933716,
          0.7080657482147217,
          0.7096162438392639,
          0.7279229164123535,
          0.7201000452041626,
          0.737119197845459,
          0.7177765369415283,
          0.7335106730461121,
          0.7099052667617798,
          0.7043274641036987,
          0.7119580507278442,
          0.6971938610076904,
          0.7516723871231079,
          0.7090902328491211,
          0.7133650779724121,
          0.7209526896476746,
          0.7164201736450195,
          0.7130312919616699,
          0.6927705407142639,
          0.7061835527420044,
          0.70826655626297,
          0.7163127064704895,
          0.7677571773529053,
          0.6775302290916443,
          0.7336513996124268,
          0.7173020839691162,
          0.6870688199996948,
          0.6986079216003418,
          0.7054649591445923,
          0.7104215025901794,
          0.7005831599235535,
          0.6898464560508728,
          0.674967348575592,
          0.702061653137207,
          0.7289934754371643,
          0.6758553981781006,
          0.6988323330879211,
          0.7049524784088135,
          0.6787922382354736,
          0.7042009830474854,
          0.695549726486206,
          0.689527153968811,
          0.7086428999900818,
          0.7416061758995056,
          0.6963682770729065
         ]
        },
        {
         "error_y": {
          "array": [],
          "type": "data"
         },
         "name": "Val Kl_Div",
         "type": "scatter",
         "y": []
        },
        {
         "name": "Regularization",
         "type": "scatter",
         "y": [
          309.43669433593755,
          307.20688476562503,
          304.51596679687503,
          301.2507568359375,
          297.049462890625,
          292.4744384765625,
          289.8679931640625,
          284.5604248046875,
          280.001025390625,
          275.737060546875,
          269.32639160156253,
          265.2140380859375,
          259.885400390625,
          254.51809082031252,
          249.0936279296875,
          243.5540771484375,
          237.3419189453125,
          232.0483154296875,
          226.1058349609375,
          219.82790527343752,
          213.14348144531252,
          207.08212890625,
          200.74716796875,
          194.90218505859377,
          189.34000244140626,
          183.00332031250002,
          175.18062744140627,
          169.03021240234375,
          161.99842529296876,
          154.36727294921877,
          149.94316406250002,
          143.29729003906252,
          137.69412841796876,
          131.65693359375,
          127.0787353515625,
          119.70457763671875,
          115.04658203125001,
          109.19207763671875,
          103.30242919921875,
          99.11661987304689,
          95.12029418945313,
          91.37343750000001,
          85.94728393554688,
          82.13666381835938,
          78.02683715820314,
          74.79086303710938,
          70.97398681640625,
          66.22822265625,
          64.49498291015625,
          60.182775878906256,
          58.62638549804688,
          54.796093750000004,
          52.870861816406254,
          50.80640563964844,
          48.31050720214844,
          46.40086059570313,
          44.3171875,
          42.38765563964844,
          41.058282470703126,
          38.149102783203126,
          37.8212890625,
          36.001953125,
          34.64597778320313,
          33.22640686035157,
          32.13058776855469,
          30.749923706054688,
          30.605157470703126,
          30.044845581054688,
          27.804531860351563,
          27.24214782714844,
          25.86636657714844,
          25.42414093017578,
          24.033047485351563,
          23.722265625000002,
          23.43874969482422,
          21.853437805175783,
          21.663047790527344,
          21.336640930175783,
          20.660859680175783,
          20.33113250732422,
          19.49695281982422,
          19.194766235351562,
          18.76531219482422,
          18.441328430175783,
          18.079649353027346,
          17.483633422851565,
          16.862031555175783,
          16.39851531982422,
          16.904296875,
          15.806016540527345,
          15.754296875000001,
          15.763906860351563,
          14.984297180175782,
          14.520469665527344,
          14.230586242675782,
          13.859765625000001,
          13.665156555175782,
          13.631758117675782,
          13.756875610351564,
          13.2111328125,
          13.577188110351564,
          12.860156250000001,
          12.389375305175783,
          12.4140625,
          12.14867172241211,
          11.778398895263672,
          12.377500152587892,
          11.702109527587892,
          11.209844207763673,
          11.34867172241211,
          11.320273590087892,
          10.632421875,
          10.768515777587892,
          10.20980453491211,
          10.50296859741211,
          10.338359832763672,
          10.31117172241211,
          10.051250457763672,
          9.92484359741211,
          9.466796875,
          9.612109375000001,
          10.006406402587892,
          9.67816390991211,
          9.261952972412109,
          8.95453109741211,
          9.20785140991211,
          9.06937484741211,
          8.8095703125,
          8.91949234008789,
          8.61832046508789,
          8.41328125,
          8.269062805175782,
          7.756953430175781,
          8.358867645263672,
          8.098007965087891,
          8.20101547241211,
          8.143437957763672,
          8.15445327758789,
          7.794765472412109,
          7.787265777587891,
          7.611093902587891,
          7.430039215087891,
          7.329219055175781,
          7.43656234741211,
          7.134297180175782,
          7.110312652587891,
          6.872187805175781,
          7.197422027587891,
          7.038594055175782,
          6.796211242675781,
          6.924570465087891,
          6.505820465087891,
          6.80902328491211,
          6.88871078491211,
          6.7310935974121096,
          6.83226547241211,
          6.935039520263672,
          6.459765625,
          6.397304916381836,
          6.588671875,
          6.504766082763672,
          6.092109298706055,
          6.083124923706055,
          6.054999923706055,
          6.053750228881836,
          6.029999923706055,
          6.092968750000001,
          5.8091796875,
          6.096484375,
          5.551328277587891,
          5.515703201293945,
          5.570507812500001,
          5.592539215087891,
          5.481015777587891,
          5.655859375,
          5.656171798706055,
          5.251797103881836,
          5.574375152587891,
          5.3514453887939455,
          5.613750076293946,
          5.463632965087891,
          5.293867111206055,
          5.1610157012939455,
          5.246875,
          5.148281478881836,
          5.152421951293945,
          4.889765548706055,
          5.1356250762939455,
          4.785625076293946,
          5.054843902587891,
          4.936875152587891,
          4.746328353881836,
          4.844843673706055,
          4.552812576293945,
          4.946718978881837,
          5.086406326293946,
          4.59375,
          4.417499923706055,
          4.667499923706055,
          4.49375
         ]
        }
       ],
       "layout": {
        "template": {
         "data": {
          "bar": [
           {
            "error_x": {
             "color": "#2a3f5f"
            },
            "error_y": {
             "color": "#2a3f5f"
            },
            "marker": {
             "line": {
              "color": "#E5ECF6",
              "width": 0.5
             },
             "pattern": {
              "fillmode": "overlay",
              "size": 10,
              "solidity": 0.2
             }
            },
            "type": "bar"
           }
          ],
          "barpolar": [
           {
            "marker": {
             "line": {
              "color": "#E5ECF6",
              "width": 0.5
             },
             "pattern": {
              "fillmode": "overlay",
              "size": 10,
              "solidity": 0.2
             }
            },
            "type": "barpolar"
           }
          ],
          "carpet": [
           {
            "aaxis": {
             "endlinecolor": "#2a3f5f",
             "gridcolor": "white",
             "linecolor": "white",
             "minorgridcolor": "white",
             "startlinecolor": "#2a3f5f"
            },
            "baxis": {
             "endlinecolor": "#2a3f5f",
             "gridcolor": "white",
             "linecolor": "white",
             "minorgridcolor": "white",
             "startlinecolor": "#2a3f5f"
            },
            "type": "carpet"
           }
          ],
          "choropleth": [
           {
            "colorbar": {
             "outlinewidth": 0,
             "ticks": ""
            },
            "type": "choropleth"
           }
          ],
          "contour": [
           {
            "colorbar": {
             "outlinewidth": 0,
             "ticks": ""
            },
            "colorscale": [
             [
              0,
              "#0d0887"
             ],
             [
              0.1111111111111111,
              "#46039f"
             ],
             [
              0.2222222222222222,
              "#7201a8"
             ],
             [
              0.3333333333333333,
              "#9c179e"
             ],
             [
              0.4444444444444444,
              "#bd3786"
             ],
             [
              0.5555555555555556,
              "#d8576b"
             ],
             [
              0.6666666666666666,
              "#ed7953"
             ],
             [
              0.7777777777777778,
              "#fb9f3a"
             ],
             [
              0.8888888888888888,
              "#fdca26"
             ],
             [
              1,
              "#f0f921"
             ]
            ],
            "type": "contour"
           }
          ],
          "contourcarpet": [
           {
            "colorbar": {
             "outlinewidth": 0,
             "ticks": ""
            },
            "type": "contourcarpet"
           }
          ],
          "heatmap": [
           {
            "colorbar": {
             "outlinewidth": 0,
             "ticks": ""
            },
            "colorscale": [
             [
              0,
              "#0d0887"
             ],
             [
              0.1111111111111111,
              "#46039f"
             ],
             [
              0.2222222222222222,
              "#7201a8"
             ],
             [
              0.3333333333333333,
              "#9c179e"
             ],
             [
              0.4444444444444444,
              "#bd3786"
             ],
             [
              0.5555555555555556,
              "#d8576b"
             ],
             [
              0.6666666666666666,
              "#ed7953"
             ],
             [
              0.7777777777777778,
              "#fb9f3a"
             ],
             [
              0.8888888888888888,
              "#fdca26"
             ],
             [
              1,
              "#f0f921"
             ]
            ],
            "type": "heatmap"
           }
          ],
          "heatmapgl": [
           {
            "colorbar": {
             "outlinewidth": 0,
             "ticks": ""
            },
            "colorscale": [
             [
              0,
              "#0d0887"
             ],
             [
              0.1111111111111111,
              "#46039f"
             ],
             [
              0.2222222222222222,
              "#7201a8"
             ],
             [
              0.3333333333333333,
              "#9c179e"
             ],
             [
              0.4444444444444444,
              "#bd3786"
             ],
             [
              0.5555555555555556,
              "#d8576b"
             ],
             [
              0.6666666666666666,
              "#ed7953"
             ],
             [
              0.7777777777777778,
              "#fb9f3a"
             ],
             [
              0.8888888888888888,
              "#fdca26"
             ],
             [
              1,
              "#f0f921"
             ]
            ],
            "type": "heatmapgl"
           }
          ],
          "histogram": [
           {
            "marker": {
             "pattern": {
              "fillmode": "overlay",
              "size": 10,
              "solidity": 0.2
             }
            },
            "type": "histogram"
           }
          ],
          "histogram2d": [
           {
            "colorbar": {
             "outlinewidth": 0,
             "ticks": ""
            },
            "colorscale": [
             [
              0,
              "#0d0887"
             ],
             [
              0.1111111111111111,
              "#46039f"
             ],
             [
              0.2222222222222222,
              "#7201a8"
             ],
             [
              0.3333333333333333,
              "#9c179e"
             ],
             [
              0.4444444444444444,
              "#bd3786"
             ],
             [
              0.5555555555555556,
              "#d8576b"
             ],
             [
              0.6666666666666666,
              "#ed7953"
             ],
             [
              0.7777777777777778,
              "#fb9f3a"
             ],
             [
              0.8888888888888888,
              "#fdca26"
             ],
             [
              1,
              "#f0f921"
             ]
            ],
            "type": "histogram2d"
           }
          ],
          "histogram2dcontour": [
           {
            "colorbar": {
             "outlinewidth": 0,
             "ticks": ""
            },
            "colorscale": [
             [
              0,
              "#0d0887"
             ],
             [
              0.1111111111111111,
              "#46039f"
             ],
             [
              0.2222222222222222,
              "#7201a8"
             ],
             [
              0.3333333333333333,
              "#9c179e"
             ],
             [
              0.4444444444444444,
              "#bd3786"
             ],
             [
              0.5555555555555556,
              "#d8576b"
             ],
             [
              0.6666666666666666,
              "#ed7953"
             ],
             [
              0.7777777777777778,
              "#fb9f3a"
             ],
             [
              0.8888888888888888,
              "#fdca26"
             ],
             [
              1,
              "#f0f921"
             ]
            ],
            "type": "histogram2dcontour"
           }
          ],
          "mesh3d": [
           {
            "colorbar": {
             "outlinewidth": 0,
             "ticks": ""
            },
            "type": "mesh3d"
           }
          ],
          "parcoords": [
           {
            "line": {
             "colorbar": {
              "outlinewidth": 0,
              "ticks": ""
             }
            },
            "type": "parcoords"
           }
          ],
          "pie": [
           {
            "automargin": true,
            "type": "pie"
           }
          ],
          "scatter": [
           {
            "fillpattern": {
             "fillmode": "overlay",
             "size": 10,
             "solidity": 0.2
            },
            "type": "scatter"
           }
          ],
          "scatter3d": [
           {
            "line": {
             "colorbar": {
              "outlinewidth": 0,
              "ticks": ""
             }
            },
            "marker": {
             "colorbar": {
              "outlinewidth": 0,
              "ticks": ""
             }
            },
            "type": "scatter3d"
           }
          ],
          "scattercarpet": [
           {
            "marker": {
             "colorbar": {
              "outlinewidth": 0,
              "ticks": ""
             }
            },
            "type": "scattercarpet"
           }
          ],
          "scattergeo": [
           {
            "marker": {
             "colorbar": {
              "outlinewidth": 0,
              "ticks": ""
             }
            },
            "type": "scattergeo"
           }
          ],
          "scattergl": [
           {
            "marker": {
             "colorbar": {
              "outlinewidth": 0,
              "ticks": ""
             }
            },
            "type": "scattergl"
           }
          ],
          "scattermapbox": [
           {
            "marker": {
             "colorbar": {
              "outlinewidth": 0,
              "ticks": ""
             }
            },
            "type": "scattermapbox"
           }
          ],
          "scatterpolar": [
           {
            "marker": {
             "colorbar": {
              "outlinewidth": 0,
              "ticks": ""
             }
            },
            "type": "scatterpolar"
           }
          ],
          "scatterpolargl": [
           {
            "marker": {
             "colorbar": {
              "outlinewidth": 0,
              "ticks": ""
             }
            },
            "type": "scatterpolargl"
           }
          ],
          "scatterternary": [
           {
            "marker": {
             "colorbar": {
              "outlinewidth": 0,
              "ticks": ""
             }
            },
            "type": "scatterternary"
           }
          ],
          "surface": [
           {
            "colorbar": {
             "outlinewidth": 0,
             "ticks": ""
            },
            "colorscale": [
             [
              0,
              "#0d0887"
             ],
             [
              0.1111111111111111,
              "#46039f"
             ],
             [
              0.2222222222222222,
              "#7201a8"
             ],
             [
              0.3333333333333333,
              "#9c179e"
             ],
             [
              0.4444444444444444,
              "#bd3786"
             ],
             [
              0.5555555555555556,
              "#d8576b"
             ],
             [
              0.6666666666666666,
              "#ed7953"
             ],
             [
              0.7777777777777778,
              "#fb9f3a"
             ],
             [
              0.8888888888888888,
              "#fdca26"
             ],
             [
              1,
              "#f0f921"
             ]
            ],
            "type": "surface"
           }
          ],
          "table": [
           {
            "cells": {
             "fill": {
              "color": "#EBF0F8"
             },
             "line": {
              "color": "white"
             }
            },
            "header": {
             "fill": {
              "color": "#C8D4E3"
             },
             "line": {
              "color": "white"
             }
            },
            "type": "table"
           }
          ]
         },
         "layout": {
          "annotationdefaults": {
           "arrowcolor": "#2a3f5f",
           "arrowhead": 0,
           "arrowwidth": 1
          },
          "autotypenumbers": "strict",
          "coloraxis": {
           "colorbar": {
            "outlinewidth": 0,
            "ticks": ""
           }
          },
          "colorscale": {
           "diverging": [
            [
             0,
             "#8e0152"
            ],
            [
             0.1,
             "#c51b7d"
            ],
            [
             0.2,
             "#de77ae"
            ],
            [
             0.3,
             "#f1b6da"
            ],
            [
             0.4,
             "#fde0ef"
            ],
            [
             0.5,
             "#f7f7f7"
            ],
            [
             0.6,
             "#e6f5d0"
            ],
            [
             0.7,
             "#b8e186"
            ],
            [
             0.8,
             "#7fbc41"
            ],
            [
             0.9,
             "#4d9221"
            ],
            [
             1,
             "#276419"
            ]
           ],
           "sequential": [
            [
             0,
             "#0d0887"
            ],
            [
             0.1111111111111111,
             "#46039f"
            ],
            [
             0.2222222222222222,
             "#7201a8"
            ],
            [
             0.3333333333333333,
             "#9c179e"
            ],
            [
             0.4444444444444444,
             "#bd3786"
            ],
            [
             0.5555555555555556,
             "#d8576b"
            ],
            [
             0.6666666666666666,
             "#ed7953"
            ],
            [
             0.7777777777777778,
             "#fb9f3a"
            ],
            [
             0.8888888888888888,
             "#fdca26"
            ],
            [
             1,
             "#f0f921"
            ]
           ],
           "sequentialminus": [
            [
             0,
             "#0d0887"
            ],
            [
             0.1111111111111111,
             "#46039f"
            ],
            [
             0.2222222222222222,
             "#7201a8"
            ],
            [
             0.3333333333333333,
             "#9c179e"
            ],
            [
             0.4444444444444444,
             "#bd3786"
            ],
            [
             0.5555555555555556,
             "#d8576b"
            ],
            [
             0.6666666666666666,
             "#ed7953"
            ],
            [
             0.7777777777777778,
             "#fb9f3a"
            ],
            [
             0.8888888888888888,
             "#fdca26"
            ],
            [
             1,
             "#f0f921"
            ]
           ]
          },
          "colorway": [
           "rgb(55, 126, 184)",
           "rgb(255, 127, 0)",
           "rgb(77, 175, 74)",
           "rgb(247, 129, 191)",
           "rgb(228, 26, 28)",
           "rgb(152, 78, 163)",
           "rgb(166, 86, 40)",
           "rgb(153, 153, 153)",
           "rgb(222, 222, 0)"
          ],
          "font": {
           "color": "#2a3f5f",
           "size": 19
          },
          "geo": {
           "bgcolor": "white",
           "lakecolor": "white",
           "landcolor": "#E5ECF6",
           "showlakes": true,
           "showland": true,
           "subunitcolor": "white"
          },
          "hoverlabel": {
           "align": "left"
          },
          "hovermode": "closest",
          "mapbox": {
           "style": "light"
          },
          "paper_bgcolor": "white",
          "plot_bgcolor": "#E5ECF6",
          "polar": {
           "angularaxis": {
            "gridcolor": "white",
            "linecolor": "white",
            "ticks": ""
           },
           "bgcolor": "#E5ECF6",
           "radialaxis": {
            "gridcolor": "white",
            "linecolor": "white",
            "ticks": ""
           }
          },
          "scene": {
           "xaxis": {
            "backgroundcolor": "#E5ECF6",
            "gridcolor": "white",
            "gridwidth": 2,
            "linecolor": "white",
            "showbackground": true,
            "ticks": "",
            "zerolinecolor": "white"
           },
           "yaxis": {
            "backgroundcolor": "#E5ECF6",
            "gridcolor": "white",
            "gridwidth": 2,
            "linecolor": "white",
            "showbackground": true,
            "ticks": "",
            "zerolinecolor": "white"
           },
           "zaxis": {
            "backgroundcolor": "#E5ECF6",
            "gridcolor": "white",
            "gridwidth": 2,
            "linecolor": "white",
            "showbackground": true,
            "ticks": "",
            "zerolinecolor": "white"
           }
          },
          "shapedefaults": {
           "line": {
            "color": "#2a3f5f"
           }
          },
          "ternary": {
           "aaxis": {
            "gridcolor": "white",
            "linecolor": "white",
            "ticks": ""
           },
           "baxis": {
            "gridcolor": "white",
            "linecolor": "white",
            "ticks": ""
           },
           "bgcolor": "#E5ECF6",
           "caxis": {
            "gridcolor": "white",
            "linecolor": "white",
            "ticks": ""
           }
          },
          "title": {
           "x": 0.05
          },
          "xaxis": {
           "automargin": true,
           "gridcolor": "white",
           "linecolor": "white",
           "ticks": "",
           "title": {
            "standoff": 15
           },
           "zerolinecolor": "white",
           "zerolinewidth": 2
          },
          "yaxis": {
           "automargin": true,
           "gridcolor": "white",
           "linecolor": "white",
           "ticks": "",
           "title": {
            "standoff": 15
           },
           "zerolinecolor": "white",
           "zerolinewidth": 2
          }
         }
        },
        "title": {
         "text": "Subnetwork Probing"
        },
        "xaxis": {
         "title": {
          "text": "Step"
         }
        }
       }
      },
      "text/html": [
       "<div>                            <div id=\"906ccc16-2f83-496b-8fa4-2f891133b08c\" class=\"plotly-graph-div\" style=\"height:525px; width:100%;\"></div>            <script type=\"text/javascript\">                require([\"plotly\"], function(Plotly) {                    window.PLOTLYENV=window.PLOTLYENV || {};                                    if (document.getElementById(\"906ccc16-2f83-496b-8fa4-2f891133b08c\")) {                    Plotly.newPlot(                        \"906ccc16-2f83-496b-8fa4-2f891133b08c\",                        [{\"name\":\"Loss\",\"y\":[310.9200439453125,308.67913818359375,305.8203430175781,302.5791320800781,298.1515808105469,293.6564025878906,290.86328125,285.58502197265625,280.9074401855469,276.8221130371094,270.2222900390625,266.2337646484375,260.8451232910156,255.63470458984375,249.92819213867188,244.47787475585938,238.2755889892578,232.84649658203125,226.87969970703125,220.61810302734375,214.01051330566406,207.9677276611328,201.45388793945312,195.6868133544922,190.14173889160156,183.80409240722656,175.9743194580078,169.9807891845703,162.8892364501953,155.21627807617188,150.77606201171875,144.175048828125,138.47727966308594,132.4612579345703,127.9209976196289,120.39707946777344,115.88003540039062,110.08000183105469,104.05472564697266,99.96509552001953,95.9232406616211,92.30532836914062,86.77714538574219,83.0542221069336,78.77710723876953,75.6610336303711,71.75736999511719,67.15353393554688,65.41873931884766,61.056060791015625,59.52429962158203,55.683353424072266,53.65371322631836,51.72746276855469,49.16634750366211,47.26911163330078,45.170318603515625,43.2608757019043,41.90067672729492,38.96843719482422,38.6387939453125,36.876346588134766,35.45649337768555,34.143211364746094,32.95503234863281,31.63321304321289,31.4814453125,30.86722755432129,28.641223907470703,28.054948806762695,26.71996307373047,26.30535316467285,24.860992431640625,24.553302764892578,24.255359649658203,22.74180793762207,22.524330139160156,22.158756256103516,21.49973487854004,21.150596618652344,20.302894592285156,20.026206970214844,19.65283966064453,19.21699333190918,18.934402465820312,18.28314208984375,17.67171287536621,17.226797103881836,17.753293991088867,16.622516632080078,16.570053100585938,16.492530822753906,15.795040130615234,15.254525184631348,15.00532341003418,14.641378402709961,14.505706787109375,14.385059356689453,14.574097633361816,13.928239822387695,14.35776424407959,13.644333839416504,13.11205768585205,13.18685531616211,12.929641723632812,12.591797828674316,13.191121101379395,12.435113906860352,12.00228500366211,12.10509204864502,12.070104598999023,11.397566795349121,11.529866218566895,10.990416526794434,11.34017562866211,11.0538330078125,11.119756698608398,10.832619667053223,10.713947296142578,10.221770286560059,10.381115913391113,10.77023696899414,10.442232131958008,9.976826667785645,9.714370727539062,9.898065567016602,9.80127239227295,9.552529335021973,9.66750717163086,9.338642120361328,9.143980026245117,9.0042724609375,8.46935749053955,9.098097801208496,8.84508991241455,8.905872344970703,8.857282638549805,8.867217063903809,8.491308212280273,8.503901481628418,8.359460830688477,8.157543182373047,8.049352645874023,8.14669418334961,7.854848384857178,7.821166038513184,7.583671569824219,7.896418571472168,7.765982151031494,7.487870216369629,7.661696434020996,7.253226280212402,7.516898155212402,7.6079230308532715,7.456472396850586,7.55797815322876,7.643105506896973,7.169382095336914,7.125227928161621,7.308772087097168,7.241885185241699,6.8098859786987305,6.816635608673096,6.764904975891113,6.758078098297119,6.741958141326904,6.790163040161133,6.56085205078125,6.805574893951416,6.264693260192871,6.2366557121276855,6.286928176879883,6.305570602416992,6.173786163330078,6.3620429039001465,6.364438533782959,5.968110084533691,6.342132568359375,6.028975963592529,6.3474016189575195,6.180934906005859,5.980936050415039,5.859623908996582,5.952340126037598,5.858703136444092,5.8530049324035645,5.5796122550964355,5.8105926513671875,5.487686634063721,5.78383731842041,5.612730979919434,5.445160865783691,5.549796104431152,5.23160457611084,5.6509199142456055,5.781955718994141,5.2832770347595215,5.126142978668213,5.409106254577637,5.190118312835693],\"type\":\"scatter\"},{\"name\":\"Kl_Div\",\"y\":[1.483330488204956,1.4722661972045898,1.3043875694274902,1.3283815383911133,1.1021015644073486,1.181955099105835,0.9952777624130249,1.024606704711914,0.9064038395881653,1.0850597620010376,0.8959009647369385,1.01972234249115,0.9597132205963135,1.1166069507598877,0.8345630764961243,0.9238042831420898,0.93366539478302,0.798175573348999,0.7738591432571411,0.7901953458786011,0.8670369386672974,0.8855899572372437,0.7067080736160278,0.7846294641494751,0.8017238974571228,0.8007712364196777,0.7936885356903076,0.9505797624588013,0.890802800655365,0.8489929437637329,0.8328948020935059,0.8777629137039185,0.7831361293792725,0.8043148517608643,0.8422629833221436,0.6924939155578613,0.8334536552429199,0.8879278302192688,0.7522978782653809,0.8484737277030945,0.8029497861862183,0.931889533996582,0.8298562169075012,0.917556643486023,0.7502706050872803,0.8701739311218262,0.7833811044692993,0.9253119230270386,0.923754096031189,0.873285174369812,0.897915780544281,0.8872588872909546,0.7828527092933655,0.92105633020401,0.8558388352394104,0.8682518005371094,0.8531320095062256,0.8732193112373352,0.842391848564148,0.8193333148956299,0.8175050020217896,0.874393105506897,0.8105179071426392,0.9168069362640381,0.8244425058364868,0.8832899332046509,0.8762866258621216,0.8223824501037598,0.8366909623146057,0.812801718711853,0.8535956144332886,0.8812114596366882,0.8279446363449097,0.8310374021530151,0.81661057472229,0.8883703947067261,0.8612815141677856,0.8221157789230347,0.8388739824295044,0.8194643259048462,0.8059400916099548,0.8314391374588013,0.8875283002853394,0.7756656408309937,0.854753851890564,0.799508810043335,0.8096811771392822,0.8282816410064697,0.8489967584609985,0.816498875617981,0.8157564401626587,0.7286233901977539,0.8107423782348633,0.7340558171272278,0.7747372388839722,0.7816123962402344,0.8405507206916809,0.7533003091812134,0.8172218203544617,0.7171066999435425,0.7805755138397217,0.7841774225234985,0.7226822376251221,0.772792637348175,0.7809696197509766,0.8133982419967651,0.813620924949646,0.7330044507980347,0.7924402952194214,0.7564200162887573,0.7498314380645752,0.7651440501213074,0.7613505125045776,0.7806123495101929,0.8372064828872681,0.7154734134674072,0.8085848093032837,0.7813695669174194,0.7891030311584473,0.7549733519554138,0.76900714635849,0.7638297080993652,0.7640674114227295,0.7148736715316772,0.7598394751548767,0.6902140974998474,0.7318975329399109,0.742959201335907,0.7480143308639526,0.7203216552734375,0.7306985855102539,0.7352094650268555,0.712403416633606,0.7392303943634033,0.7470817565917969,0.7048564553260803,0.713843822479248,0.7127640247344971,0.6965430974960327,0.7166356444358826,0.7483667135238647,0.7275042533874512,0.7201334238052368,0.7101320028305054,0.7205510139465332,0.7108532786369324,0.7114835977554321,0.6989964246749878,0.7273877859115601,0.6916587352752686,0.7371258735656738,0.7474054098129272,0.7078747153282166,0.7192119359970093,0.7253783941268921,0.7257128953933716,0.7080657482147217,0.7096162438392639,0.7279229164123535,0.7201000452041626,0.737119197845459,0.7177765369415283,0.7335106730461121,0.7099052667617798,0.7043274641036987,0.7119580507278442,0.6971938610076904,0.7516723871231079,0.7090902328491211,0.7133650779724121,0.7209526896476746,0.7164201736450195,0.7130312919616699,0.6927705407142639,0.7061835527420044,0.70826655626297,0.7163127064704895,0.7677571773529053,0.6775302290916443,0.7336513996124268,0.7173020839691162,0.6870688199996948,0.6986079216003418,0.7054649591445923,0.7104215025901794,0.7005831599235535,0.6898464560508728,0.674967348575592,0.702061653137207,0.7289934754371643,0.6758553981781006,0.6988323330879211,0.7049524784088135,0.6787922382354736,0.7042009830474854,0.695549726486206,0.689527153968811,0.7086428999900818,0.7416061758995056,0.6963682770729065],\"type\":\"scatter\"},{\"error_y\":{\"array\":[],\"type\":\"data\"},\"name\":\"Val Kl_Div\",\"y\":[],\"type\":\"scatter\"},{\"name\":\"Regularization\",\"y\":[309.43669433593755,307.20688476562503,304.51596679687503,301.2507568359375,297.049462890625,292.4744384765625,289.8679931640625,284.5604248046875,280.001025390625,275.737060546875,269.32639160156253,265.2140380859375,259.885400390625,254.51809082031252,249.0936279296875,243.5540771484375,237.3419189453125,232.0483154296875,226.1058349609375,219.82790527343752,213.14348144531252,207.08212890625,200.74716796875,194.90218505859377,189.34000244140626,183.00332031250002,175.18062744140627,169.03021240234375,161.99842529296876,154.36727294921877,149.94316406250002,143.29729003906252,137.69412841796876,131.65693359375,127.0787353515625,119.70457763671875,115.04658203125001,109.19207763671875,103.30242919921875,99.11661987304689,95.12029418945313,91.37343750000001,85.94728393554688,82.13666381835938,78.02683715820314,74.79086303710938,70.97398681640625,66.22822265625,64.49498291015625,60.182775878906256,58.62638549804688,54.796093750000004,52.870861816406254,50.80640563964844,48.31050720214844,46.40086059570313,44.3171875,42.38765563964844,41.058282470703126,38.149102783203126,37.8212890625,36.001953125,34.64597778320313,33.22640686035157,32.13058776855469,30.749923706054688,30.605157470703126,30.044845581054688,27.804531860351563,27.24214782714844,25.86636657714844,25.42414093017578,24.033047485351563,23.722265625000002,23.43874969482422,21.853437805175783,21.663047790527344,21.336640930175783,20.660859680175783,20.33113250732422,19.49695281982422,19.194766235351562,18.76531219482422,18.441328430175783,18.079649353027346,17.483633422851565,16.862031555175783,16.39851531982422,16.904296875,15.806016540527345,15.754296875000001,15.763906860351563,14.984297180175782,14.520469665527344,14.230586242675782,13.859765625000001,13.665156555175782,13.631758117675782,13.756875610351564,13.2111328125,13.577188110351564,12.860156250000001,12.389375305175783,12.4140625,12.14867172241211,11.778398895263672,12.377500152587892,11.702109527587892,11.209844207763673,11.34867172241211,11.320273590087892,10.632421875,10.768515777587892,10.20980453491211,10.50296859741211,10.338359832763672,10.31117172241211,10.051250457763672,9.92484359741211,9.466796875,9.612109375000001,10.006406402587892,9.67816390991211,9.261952972412109,8.95453109741211,9.20785140991211,9.06937484741211,8.8095703125,8.91949234008789,8.61832046508789,8.41328125,8.269062805175782,7.756953430175781,8.358867645263672,8.098007965087891,8.20101547241211,8.143437957763672,8.15445327758789,7.794765472412109,7.787265777587891,7.611093902587891,7.430039215087891,7.329219055175781,7.43656234741211,7.134297180175782,7.110312652587891,6.872187805175781,7.197422027587891,7.038594055175782,6.796211242675781,6.924570465087891,6.505820465087891,6.80902328491211,6.88871078491211,6.7310935974121096,6.83226547241211,6.935039520263672,6.459765625,6.397304916381836,6.588671875,6.504766082763672,6.092109298706055,6.083124923706055,6.054999923706055,6.053750228881836,6.029999923706055,6.092968750000001,5.8091796875,6.096484375,5.551328277587891,5.515703201293945,5.570507812500001,5.592539215087891,5.481015777587891,5.655859375,5.656171798706055,5.251797103881836,5.574375152587891,5.3514453887939455,5.613750076293946,5.463632965087891,5.293867111206055,5.1610157012939455,5.246875,5.148281478881836,5.152421951293945,4.889765548706055,5.1356250762939455,4.785625076293946,5.054843902587891,4.936875152587891,4.746328353881836,4.844843673706055,4.552812576293945,4.946718978881837,5.086406326293946,4.59375,4.417499923706055,4.667499923706055,4.49375],\"type\":\"scatter\"}],                        {\"template\":{\"data\":{\"histogram2dcontour\":[{\"type\":\"histogram2dcontour\",\"colorbar\":{\"outlinewidth\":0,\"ticks\":\"\"},\"colorscale\":[[0.0,\"#0d0887\"],[0.1111111111111111,\"#46039f\"],[0.2222222222222222,\"#7201a8\"],[0.3333333333333333,\"#9c179e\"],[0.4444444444444444,\"#bd3786\"],[0.5555555555555556,\"#d8576b\"],[0.6666666666666666,\"#ed7953\"],[0.7777777777777778,\"#fb9f3a\"],[0.8888888888888888,\"#fdca26\"],[1.0,\"#f0f921\"]]}],\"choropleth\":[{\"type\":\"choropleth\",\"colorbar\":{\"outlinewidth\":0,\"ticks\":\"\"}}],\"histogram2d\":[{\"type\":\"histogram2d\",\"colorbar\":{\"outlinewidth\":0,\"ticks\":\"\"},\"colorscale\":[[0.0,\"#0d0887\"],[0.1111111111111111,\"#46039f\"],[0.2222222222222222,\"#7201a8\"],[0.3333333333333333,\"#9c179e\"],[0.4444444444444444,\"#bd3786\"],[0.5555555555555556,\"#d8576b\"],[0.6666666666666666,\"#ed7953\"],[0.7777777777777778,\"#fb9f3a\"],[0.8888888888888888,\"#fdca26\"],[1.0,\"#f0f921\"]]}],\"heatmap\":[{\"type\":\"heatmap\",\"colorbar\":{\"outlinewidth\":0,\"ticks\":\"\"},\"colorscale\":[[0.0,\"#0d0887\"],[0.1111111111111111,\"#46039f\"],[0.2222222222222222,\"#7201a8\"],[0.3333333333333333,\"#9c179e\"],[0.4444444444444444,\"#bd3786\"],[0.5555555555555556,\"#d8576b\"],[0.6666666666666666,\"#ed7953\"],[0.7777777777777778,\"#fb9f3a\"],[0.8888888888888888,\"#fdca26\"],[1.0,\"#f0f921\"]]}],\"heatmapgl\":[{\"type\":\"heatmapgl\",\"colorbar\":{\"outlinewidth\":0,\"ticks\":\"\"},\"colorscale\":[[0.0,\"#0d0887\"],[0.1111111111111111,\"#46039f\"],[0.2222222222222222,\"#7201a8\"],[0.3333333333333333,\"#9c179e\"],[0.4444444444444444,\"#bd3786\"],[0.5555555555555556,\"#d8576b\"],[0.6666666666666666,\"#ed7953\"],[0.7777777777777778,\"#fb9f3a\"],[0.8888888888888888,\"#fdca26\"],[1.0,\"#f0f921\"]]}],\"contourcarpet\":[{\"type\":\"contourcarpet\",\"colorbar\":{\"outlinewidth\":0,\"ticks\":\"\"}}],\"contour\":[{\"type\":\"contour\",\"colorbar\":{\"outlinewidth\":0,\"ticks\":\"\"},\"colorscale\":[[0.0,\"#0d0887\"],[0.1111111111111111,\"#46039f\"],[0.2222222222222222,\"#7201a8\"],[0.3333333333333333,\"#9c179e\"],[0.4444444444444444,\"#bd3786\"],[0.5555555555555556,\"#d8576b\"],[0.6666666666666666,\"#ed7953\"],[0.7777777777777778,\"#fb9f3a\"],[0.8888888888888888,\"#fdca26\"],[1.0,\"#f0f921\"]]}],\"surface\":[{\"type\":\"surface\",\"colorbar\":{\"outlinewidth\":0,\"ticks\":\"\"},\"colorscale\":[[0.0,\"#0d0887\"],[0.1111111111111111,\"#46039f\"],[0.2222222222222222,\"#7201a8\"],[0.3333333333333333,\"#9c179e\"],[0.4444444444444444,\"#bd3786\"],[0.5555555555555556,\"#d8576b\"],[0.6666666666666666,\"#ed7953\"],[0.7777777777777778,\"#fb9f3a\"],[0.8888888888888888,\"#fdca26\"],[1.0,\"#f0f921\"]]}],\"mesh3d\":[{\"type\":\"mesh3d\",\"colorbar\":{\"outlinewidth\":0,\"ticks\":\"\"}}],\"scatter\":[{\"fillpattern\":{\"fillmode\":\"overlay\",\"size\":10,\"solidity\":0.2},\"type\":\"scatter\"}],\"parcoords\":[{\"type\":\"parcoords\",\"line\":{\"colorbar\":{\"outlinewidth\":0,\"ticks\":\"\"}}}],\"scatterpolargl\":[{\"type\":\"scatterpolargl\",\"marker\":{\"colorbar\":{\"outlinewidth\":0,\"ticks\":\"\"}}}],\"bar\":[{\"error_x\":{\"color\":\"#2a3f5f\"},\"error_y\":{\"color\":\"#2a3f5f\"},\"marker\":{\"line\":{\"color\":\"#E5ECF6\",\"width\":0.5},\"pattern\":{\"fillmode\":\"overlay\",\"size\":10,\"solidity\":0.2}},\"type\":\"bar\"}],\"scattergeo\":[{\"type\":\"scattergeo\",\"marker\":{\"colorbar\":{\"outlinewidth\":0,\"ticks\":\"\"}}}],\"scatterpolar\":[{\"type\":\"scatterpolar\",\"marker\":{\"colorbar\":{\"outlinewidth\":0,\"ticks\":\"\"}}}],\"histogram\":[{\"marker\":{\"pattern\":{\"fillmode\":\"overlay\",\"size\":10,\"solidity\":0.2}},\"type\":\"histogram\"}],\"scattergl\":[{\"type\":\"scattergl\",\"marker\":{\"colorbar\":{\"outlinewidth\":0,\"ticks\":\"\"}}}],\"scatter3d\":[{\"type\":\"scatter3d\",\"line\":{\"colorbar\":{\"outlinewidth\":0,\"ticks\":\"\"}},\"marker\":{\"colorbar\":{\"outlinewidth\":0,\"ticks\":\"\"}}}],\"scattermapbox\":[{\"type\":\"scattermapbox\",\"marker\":{\"colorbar\":{\"outlinewidth\":0,\"ticks\":\"\"}}}],\"scatterternary\":[{\"type\":\"scatterternary\",\"marker\":{\"colorbar\":{\"outlinewidth\":0,\"ticks\":\"\"}}}],\"scattercarpet\":[{\"type\":\"scattercarpet\",\"marker\":{\"colorbar\":{\"outlinewidth\":0,\"ticks\":\"\"}}}],\"carpet\":[{\"aaxis\":{\"endlinecolor\":\"#2a3f5f\",\"gridcolor\":\"white\",\"linecolor\":\"white\",\"minorgridcolor\":\"white\",\"startlinecolor\":\"#2a3f5f\"},\"baxis\":{\"endlinecolor\":\"#2a3f5f\",\"gridcolor\":\"white\",\"linecolor\":\"white\",\"minorgridcolor\":\"white\",\"startlinecolor\":\"#2a3f5f\"},\"type\":\"carpet\"}],\"table\":[{\"cells\":{\"fill\":{\"color\":\"#EBF0F8\"},\"line\":{\"color\":\"white\"}},\"header\":{\"fill\":{\"color\":\"#C8D4E3\"},\"line\":{\"color\":\"white\"}},\"type\":\"table\"}],\"barpolar\":[{\"marker\":{\"line\":{\"color\":\"#E5ECF6\",\"width\":0.5},\"pattern\":{\"fillmode\":\"overlay\",\"size\":10,\"solidity\":0.2}},\"type\":\"barpolar\"}],\"pie\":[{\"automargin\":true,\"type\":\"pie\"}]},\"layout\":{\"autotypenumbers\":\"strict\",\"colorway\":[\"rgb(55, 126, 184)\",\"rgb(255, 127, 0)\",\"rgb(77, 175, 74)\",\"rgb(247, 129, 191)\",\"rgb(228, 26, 28)\",\"rgb(152, 78, 163)\",\"rgb(166, 86, 40)\",\"rgb(153, 153, 153)\",\"rgb(222, 222, 0)\"],\"font\":{\"color\":\"#2a3f5f\",\"size\":19},\"hovermode\":\"closest\",\"hoverlabel\":{\"align\":\"left\"},\"paper_bgcolor\":\"white\",\"plot_bgcolor\":\"#E5ECF6\",\"polar\":{\"bgcolor\":\"#E5ECF6\",\"angularaxis\":{\"gridcolor\":\"white\",\"linecolor\":\"white\",\"ticks\":\"\"},\"radialaxis\":{\"gridcolor\":\"white\",\"linecolor\":\"white\",\"ticks\":\"\"}},\"ternary\":{\"bgcolor\":\"#E5ECF6\",\"aaxis\":{\"gridcolor\":\"white\",\"linecolor\":\"white\",\"ticks\":\"\"},\"baxis\":{\"gridcolor\":\"white\",\"linecolor\":\"white\",\"ticks\":\"\"},\"caxis\":{\"gridcolor\":\"white\",\"linecolor\":\"white\",\"ticks\":\"\"}},\"coloraxis\":{\"colorbar\":{\"outlinewidth\":0,\"ticks\":\"\"}},\"colorscale\":{\"sequential\":[[0.0,\"#0d0887\"],[0.1111111111111111,\"#46039f\"],[0.2222222222222222,\"#7201a8\"],[0.3333333333333333,\"#9c179e\"],[0.4444444444444444,\"#bd3786\"],[0.5555555555555556,\"#d8576b\"],[0.6666666666666666,\"#ed7953\"],[0.7777777777777778,\"#fb9f3a\"],[0.8888888888888888,\"#fdca26\"],[1.0,\"#f0f921\"]],\"sequentialminus\":[[0.0,\"#0d0887\"],[0.1111111111111111,\"#46039f\"],[0.2222222222222222,\"#7201a8\"],[0.3333333333333333,\"#9c179e\"],[0.4444444444444444,\"#bd3786\"],[0.5555555555555556,\"#d8576b\"],[0.6666666666666666,\"#ed7953\"],[0.7777777777777778,\"#fb9f3a\"],[0.8888888888888888,\"#fdca26\"],[1.0,\"#f0f921\"]],\"diverging\":[[0,\"#8e0152\"],[0.1,\"#c51b7d\"],[0.2,\"#de77ae\"],[0.3,\"#f1b6da\"],[0.4,\"#fde0ef\"],[0.5,\"#f7f7f7\"],[0.6,\"#e6f5d0\"],[0.7,\"#b8e186\"],[0.8,\"#7fbc41\"],[0.9,\"#4d9221\"],[1,\"#276419\"]]},\"xaxis\":{\"gridcolor\":\"white\",\"linecolor\":\"white\",\"ticks\":\"\",\"title\":{\"standoff\":15},\"zerolinecolor\":\"white\",\"automargin\":true,\"zerolinewidth\":2},\"yaxis\":{\"gridcolor\":\"white\",\"linecolor\":\"white\",\"ticks\":\"\",\"title\":{\"standoff\":15},\"zerolinecolor\":\"white\",\"automargin\":true,\"zerolinewidth\":2},\"scene\":{\"xaxis\":{\"backgroundcolor\":\"#E5ECF6\",\"gridcolor\":\"white\",\"linecolor\":\"white\",\"showbackground\":true,\"ticks\":\"\",\"zerolinecolor\":\"white\",\"gridwidth\":2},\"yaxis\":{\"backgroundcolor\":\"#E5ECF6\",\"gridcolor\":\"white\",\"linecolor\":\"white\",\"showbackground\":true,\"ticks\":\"\",\"zerolinecolor\":\"white\",\"gridwidth\":2},\"zaxis\":{\"backgroundcolor\":\"#E5ECF6\",\"gridcolor\":\"white\",\"linecolor\":\"white\",\"showbackground\":true,\"ticks\":\"\",\"zerolinecolor\":\"white\",\"gridwidth\":2}},\"shapedefaults\":{\"line\":{\"color\":\"#2a3f5f\"}},\"annotationdefaults\":{\"arrowcolor\":\"#2a3f5f\",\"arrowhead\":0,\"arrowwidth\":1},\"geo\":{\"bgcolor\":\"white\",\"landcolor\":\"#E5ECF6\",\"subunitcolor\":\"white\",\"showland\":true,\"showlakes\":true,\"lakecolor\":\"white\"},\"title\":{\"x\":0.05},\"mapbox\":{\"style\":\"light\"}}},\"title\":{\"text\":\"Subnetwork Probing\"},\"xaxis\":{\"title\":{\"text\":\"Step\"}}},                        {\"responsive\": true}                    ).then(function(){\n",
       "                            \n",
       "var gd = document.getElementById('906ccc16-2f83-496b-8fa4-2f891133b08c');\n",
       "var x = new MutationObserver(function (mutations, observer) {{\n",
       "        var display = window.getComputedStyle(gd).display;\n",
       "        if (!display || display === 'none') {{\n",
       "            console.log([gd, 'removed!']);\n",
       "            Plotly.purge(gd);\n",
       "            observer.disconnect();\n",
       "        }}\n",
       "}});\n",
       "\n",
       "// Listen for the removal of the full notebook cells\n",
       "var notebookContainer = gd.closest('#notebook-container');\n",
       "if (notebookContainer) {{\n",
       "    x.observe(notebookContainer, {childList: true});\n",
       "}}\n",
       "\n",
       "// Listen for the clearing of the current output cell\n",
       "var outputEl = gd.closest('.output');\n",
       "if (outputEl) {{\n",
       "    x.observe(outputEl, {childList: true});\n",
       "}}\n",
       "\n",
       "                        })                };                });            </script>        </div>"
      ]
     },
     "metadata": {},
     "output_type": "display_data"
    },
    {
     "name": "stderr",
     "output_type": "stream",
     "text": [
      "Circuit Probing Size 20: ███▎      | 1/3 [00:36<01:12, 36.31s/it]"
     ]
    },
    {
     "data": {
      "application/vnd.plotly.v1+json": {
       "config": {
        "plotlyServerURL": "https://plot.ly"
       },
       "data": [
        {
         "name": "Loss",
         "type": "scatter",
         "y": [
          156.68600463867188,
          155.76959228515625,
          153.49273681640625,
          151.4137725830078,
          149.48072814941406,
          148.25332641601562,
          145.16001892089844,
          143.2415008544922,
          141.09613037109375,
          138.59768676757812,
          135.93402099609375,
          134.08888244628906,
          131.0750732421875,
          128.4645538330078,
          126.09700775146484,
          123.03080749511719,
          119.68657684326172,
          117.8869400024414,
          113.05197143554688,
          111.00577545166016,
          107.98798370361328,
          104.35779571533203,
          102.56317901611328,
          98.673583984375,
          95.03868865966797,
          91.65003204345703,
          88.61222076416016,
          85.48711395263672,
          82.80713653564453,
          79.11542510986328,
          76.13532257080078,
          72.50414276123047,
          70.38031005859375,
          67.2491683959961,
          63.99538040161133,
          61.550716400146484,
          58.81015396118164,
          55.60575485229492,
          53.2203483581543,
          50.59404373168945,
          49.19306564331055,
          46.16658020019531,
          43.77924728393555,
          42.33955383300781,
          40.48313903808594,
          38.332359313964844,
          36.559810638427734,
          34.54804992675781,
          32.87152099609375,
          31.15513038635254,
          30.17636489868164,
          29.106115341186523,
          27.833600997924805,
          26.452640533447266,
          25.733430862426758,
          24.77716827392578,
          23.189016342163086,
          22.312597274780273,
          21.974279403686523,
          20.703277587890625,
          19.8688907623291,
          19.49822235107422,
          19.117591857910156,
          18.510610580444336,
          17.70473861694336,
          16.902490615844727,
          15.995162010192871,
          15.348596572875977,
          15.482330322265625,
          14.852652549743652,
          14.144245147705078,
          13.79908275604248,
          13.849017143249512,
          13.011855125427246,
          12.712261199951172,
          12.338582992553711,
          12.497064590454102,
          12.065088272094727,
          11.572603225708008,
          10.981843948364258,
          10.861690521240234,
          10.906519889831543,
          10.475029945373535,
          10.343141555786133,
          9.739960670471191,
          9.949822425842285,
          9.725658416748047,
          9.590011596679688,
          9.353503227233887,
          9.306244850158691,
          9.136643409729004,
          8.59994125366211,
          8.777650833129883,
          8.674200057983398,
          8.383171081542969,
          7.92548131942749,
          7.941938877105713,
          7.897690773010254,
          7.897050380706787,
          7.802696704864502,
          7.755916595458984,
          7.535614490509033,
          7.439510345458984,
          7.180278778076172,
          7.422443389892578,
          7.284992694854736,
          6.780706405639648,
          6.875667095184326,
          6.807665824890137,
          6.847237586975098,
          6.780658721923828,
          6.65332555770874,
          6.30453634262085,
          6.3896403312683105,
          6.471535682678223,
          6.025198459625244,
          6.041520118713379,
          5.899075031280518,
          5.9002861976623535,
          5.964104175567627,
          5.933220863342285,
          5.750434875488281,
          5.630853652954102,
          5.688333988189697,
          5.598176002502441,
          5.5428924560546875,
          5.354180335998535,
          5.368685245513916,
          5.145443916320801,
          5.166172027587891,
          5.281918048858643,
          5.205441474914551,
          5.031942844390869,
          5.129525184631348,
          5.0389299392700195,
          4.946532726287842,
          4.894300937652588,
          4.8672966957092285,
          4.768847465515137,
          4.58892822265625,
          4.9374165534973145,
          4.68304967880249,
          4.64537239074707,
          4.558656215667725,
          4.853863716125488,
          4.428264141082764,
          4.377114772796631,
          4.435428619384766,
          4.582148551940918,
          4.302617073059082,
          4.374650001525879,
          4.400318145751953,
          4.172919750213623,
          4.23702335357666,
          4.242820739746094,
          4.051065921783447,
          4.163132190704346,
          4.148767948150635,
          3.967454671859741,
          3.8462166786193848,
          4.076343059539795,
          4.251899719238281,
          3.92463755607605,
          4.125345230102539,
          3.8363561630249023,
          3.7857468128204346,
          3.8237662315368652,
          3.814232349395752,
          3.6163835525512695,
          3.585224151611328,
          3.7500956058502197,
          3.798365354537964,
          3.7053003311157227,
          3.7222650051116943,
          3.6182737350463867,
          3.5560109615325928,
          3.638362169265747,
          3.4745352268218994,
          3.6398491859436035,
          3.3783702850341797,
          3.553522825241089,
          3.5594635009765625,
          3.3254048824310303,
          3.365773916244507,
          3.3980414867401123,
          3.4222774505615234,
          3.380631446838379,
          3.45121431350708,
          3.5309977531433105,
          3.35473895072937,
          3.2994425296783447,
          3.1799724102020264,
          3.2044739723205566,
          3.1492743492126465,
          3.258212089538574,
          3.1405467987060547,
          3.1392641067504883,
          3.011108636856079,
          3.104593276977539,
          3.0860719680786133
         ]
        },
        {
         "name": "Kl_Div",
         "type": "scatter",
         "y": [
          1.4893126487731934,
          1.419090747833252,
          1.1642802953720093,
          1.225700855255127,
          1.0188360214233398,
          1.0884300470352173,
          0.888149619102478,
          1.0425487756729126,
          0.9328802824020386,
          0.9357112646102905,
          0.9411735534667969,
          1.0610166788101196,
          0.8906095027923584,
          0.910466194152832,
          0.8755793571472168,
          0.8806265592575073,
          0.6803942918777466,
          0.8691277503967285,
          0.8727074265480042,
          0.8383035659790039,
          0.775283932685852,
          0.7565860748291016,
          0.8163982629776001,
          0.7523711919784546,
          0.6167454719543457,
          0.7388760447502136,
          0.7657955288887024,
          0.7562863826751709,
          0.7072635889053345,
          0.8355787992477417,
          0.7163634300231934,
          0.77517169713974,
          0.765292763710022,
          0.7810589075088501,
          0.7351813316345215,
          0.7807495594024658,
          0.7248002886772156,
          0.6973398327827454,
          0.756206214427948,
          0.7104980945587158,
          0.7184933423995972,
          0.7402876019477844,
          0.73334801197052,
          0.7715967297554016,
          0.7799901366233826,
          0.7905600070953369,
          0.7451630234718323,
          0.7252147197723389,
          0.7767353057861328,
          0.7487826347351074,
          0.6944094896316528,
          0.769385576248169,
          0.7495958209037781,
          0.7414277791976929,
          0.745773434638977,
          0.720233678817749,
          0.7675328850746155,
          0.6808192729949951,
          0.7879891395568848,
          0.6503084897994995,
          0.7518585920333862,
          0.7925195693969727,
          0.771010160446167,
          0.6902585029602051,
          0.8021395206451416,
          0.7756165862083435,
          0.730473518371582,
          0.7259006500244141,
          0.7781882286071777,
          0.7124557495117188,
          0.727057695388794,
          0.6665628552436829,
          0.7851106524467468,
          0.7471082210540771,
          0.7721630334854126,
          0.7878206968307495,
          0.7517522573471069,
          0.7123926281929016,
          0.7914899587631226,
          0.7065114974975586,
          0.7744447588920593,
          0.7389801740646362,
          0.6724518537521362,
          0.694743275642395,
          0.720038652420044,
          0.7404274344444275,
          0.6598570942878723,
          0.7132921814918518,
          0.7007876634597778,
          0.7534711360931396,
          0.6301195621490479,
          0.7610929608345032,
          0.7230996489524841,
          0.7372859716415405,
          0.6989712715148926,
          0.6804808378219604,
          0.6924072504043579,
          0.6883543133735657,
          0.6747456789016724,
          0.7028131484985352,
          0.749588131904602,
          0.706473708152771,
          0.7325567007064819,
          0.7206693291664124,
          0.6470528244972229,
          0.715851902961731,
          0.6512143611907959,
          0.6770342588424683,
          0.7483490705490112,
          0.7166907787322998,
          0.6460488438606262,
          0.7018997073173523,
          0.6516456007957458,
          0.6448746919631958,
          0.6808322072029114,
          0.6373857259750366,
          0.7255628108978271,
          0.6657549738883972,
          0.6129225492477417,
          0.6470337510108948,
          0.7030839920043945,
          0.6461766362190247,
          0.6406195163726807,
          0.692591667175293,
          0.7318089008331299,
          0.6602165699005127,
          0.6775392293930054,
          0.6740754842758179,
          0.6597017049789429,
          0.6556249856948853,
          0.7118005752563477,
          0.6406762003898621,
          0.681083083152771,
          0.6447198987007141,
          0.6609604954719543,
          0.6515129804611206,
          0.6387149095535278,
          0.6031752228736877,
          0.674940824508667,
          0.6378536224365234,
          0.6870449781417847,
          0.6317404508590698,
          0.668751060962677,
          0.5835776925086975,
          0.6882970333099365,
          0.6275805234909058,
          0.6450441479682922,
          0.633162796497345,
          0.6438277363777161,
          0.6102925539016724,
          0.6323648691177368,
          0.6570170521736145,
          0.6280368566513062,
          0.679093599319458,
          0.6248713731765747,
          0.5501283407211304,
          0.6468431353569031,
          0.6184943914413452,
          0.5762435793876648,
          0.5640681982040405,
          0.6408349275588989,
          0.6162359714508057,
          0.605320930480957,
          0.598880410194397,
          0.6470787525177002,
          0.6230905652046204,
          0.6285511255264282,
          0.6193689107894897,
          0.5913052558898926,
          0.5945404767990112,
          0.6573612689971924,
          0.5864120125770569,
          0.6483081579208374,
          0.6207024455070496,
          0.598664402961731,
          0.582456111907959,
          0.6475026607513428,
          0.5982460379600525,
          0.5949662923812866,
          0.5839952230453491,
          0.6351633071899414,
          0.5912212133407593,
          0.5907172560691833,
          0.6086645722389221,
          0.6382560133934021,
          0.5911446809768677,
          0.6172717809677124,
          0.6129525899887085,
          0.6500211954116821,
          0.5893092751502991,
          0.636668860912323,
          0.5721793174743652,
          0.6331650018692017,
          0.5915204286575317,
          0.612587034702301,
          0.577031135559082,
          0.6030334234237671,
          0.612358570098877,
          0.6555699110031128,
          0.6038454174995422
         ]
        },
        {
         "error_y": {
          "array": [],
          "type": "data"
         },
         "name": "Val Kl_Div",
         "type": "scatter",
         "y": []
        },
        {
         "name": "Regularization",
         "type": "scatter",
         "y": [
          155.19667968750002,
          154.35048828125002,
          152.32845458984374,
          150.1880615234375,
          148.46190185546877,
          147.16490478515627,
          144.27186279296876,
          142.1989501953125,
          140.16325683593752,
          137.661962890625,
          134.99283447265626,
          133.0278564453125,
          130.18446044921876,
          127.55408935546876,
          125.22142333984375,
          122.15018310546876,
          119.00617675781251,
          117.01781005859375,
          112.17926025390625,
          110.16746826171875,
          107.2126953125,
          103.60120849609376,
          101.74677734375001,
          97.92120971679688,
          94.42194213867188,
          90.91115112304688,
          87.84642944335938,
          84.73082275390625,
          82.09987182617188,
          78.27984619140625,
          75.41895751953125,
          71.72897338867188,
          69.61502075195312,
          66.46810913085938,
          63.26019897460938,
          60.76996459960938,
          58.0853515625,
          54.908416748046875,
          52.464141845703125,
          49.883544921875,
          48.47456970214844,
          45.42629089355469,
          43.0458984375,
          41.56795959472657,
          39.70314636230469,
          37.541796875,
          35.814648437500004,
          33.82283325195313,
          32.09478454589844,
          30.406347656250002,
          29.48195495605469,
          28.336727905273438,
          27.08400573730469,
          25.711212158203125,
          24.987657165527345,
          24.056933593750003,
          22.421484375000002,
          21.631777954101565,
          21.186289978027347,
          20.052969360351565,
          19.117031860351563,
          18.705703735351562,
          18.34658203125,
          17.820352172851564,
          16.902598571777343,
          16.126875305175783,
          15.264688110351564,
          14.622695922851562,
          14.704141235351564,
          14.140196228027344,
          13.4171875,
          13.13251953125,
          13.063906860351564,
          12.26474609375,
          11.94009780883789,
          11.550762176513672,
          11.7453125,
          11.35269546508789,
          10.781113433837891,
          10.27533187866211,
          10.08724594116211,
          10.167539215087892,
          9.80257797241211,
          9.648398590087892,
          9.019921875,
          9.209394836425782,
          9.065801239013672,
          8.876718902587891,
          8.652715301513672,
          8.55277328491211,
          8.506523895263673,
          7.838848114013672,
          8.054550933837891,
          7.9369140625000005,
          7.684199523925781,
          7.245000457763672,
          7.249531555175782,
          7.209336090087891,
          7.2223045349121096,
          7.099883270263672,
          7.006328582763672,
          6.82914047241211,
          6.706953430175782,
          6.4596092224121096,
          6.775390625,
          6.569140625,
          6.1294921875,
          6.1986328125000005,
          6.059316635131836,
          6.130546951293946,
          6.134609603881836,
          5.951425933837891,
          5.652890777587891,
          5.7447658538818365,
          5.790703201293946,
          5.387812423706055,
          5.315957260131836,
          5.233320236206055,
          5.287363433837891,
          5.317070388793946,
          5.230136871337891,
          5.104257965087891,
          4.990234375,
          4.9957424163818365,
          4.866367340087891,
          4.882675933837891,
          4.6766407012939455,
          4.694609451293945,
          4.4857421875000005,
          4.510546875,
          4.5701171875,
          4.564765548706055,
          4.350859451293945,
          4.484804916381836,
          4.377968978881836,
          4.29501953125,
          4.255585861206055,
          4.264121246337891,
          4.093906402587891,
          3.95107421875,
          4.2503711700439455,
          4.051308822631836,
          3.9766212463378907,
          3.9750782012939454,
          4.165566635131836,
          3.80068359375,
          3.732070541381836,
          3.802265548706055,
          3.9383205413818363,
          3.692324447631836,
          3.7422851562500004,
          3.743301010131836,
          3.544882965087891,
          3.5579296112060548,
          3.6179492950439456,
          3.500937652587891,
          3.5162891387939457,
          3.5302734375,
          3.3912109375000004,
          3.2821483612060547,
          3.435507965087891,
          3.6356639862060547,
          3.3193164825439454,
          3.5264648437500004,
          3.1892774581909182,
          3.1626562118530277,
          3.19521484375,
          3.1948633193969727,
          3.0250782012939457,
          2.9906835556030273,
          3.0927343368530273,
          3.211953353881836,
          3.0569921493530274,
          3.1015625,
          3.0196094512939453,
          2.973554801940918,
          2.990859413146973,
          2.8762891769409182,
          3.0448827743530273,
          2.7943750381469727,
          2.918359375,
          2.9682422637939454,
          2.7346876144409182,
          2.7571094512939456,
          2.759785270690918,
          2.8311328887939453,
          2.7633594512939457,
          2.8382617950439455,
          2.880976676940918,
          2.7654296875,
          2.6627735137939457,
          2.6077930450439455,
          2.571308708190918,
          2.557753944396973,
          2.645625114440918,
          2.5635156631469727,
          2.5362304687500004,
          2.3987501144409182,
          2.4490234375,
          2.4822265625
         ]
        }
       ],
       "layout": {
        "template": {
         "data": {
          "bar": [
           {
            "error_x": {
             "color": "#2a3f5f"
            },
            "error_y": {
             "color": "#2a3f5f"
            },
            "marker": {
             "line": {
              "color": "#E5ECF6",
              "width": 0.5
             },
             "pattern": {
              "fillmode": "overlay",
              "size": 10,
              "solidity": 0.2
             }
            },
            "type": "bar"
           }
          ],
          "barpolar": [
           {
            "marker": {
             "line": {
              "color": "#E5ECF6",
              "width": 0.5
             },
             "pattern": {
              "fillmode": "overlay",
              "size": 10,
              "solidity": 0.2
             }
            },
            "type": "barpolar"
           }
          ],
          "carpet": [
           {
            "aaxis": {
             "endlinecolor": "#2a3f5f",
             "gridcolor": "white",
             "linecolor": "white",
             "minorgridcolor": "white",
             "startlinecolor": "#2a3f5f"
            },
            "baxis": {
             "endlinecolor": "#2a3f5f",
             "gridcolor": "white",
             "linecolor": "white",
             "minorgridcolor": "white",
             "startlinecolor": "#2a3f5f"
            },
            "type": "carpet"
           }
          ],
          "choropleth": [
           {
            "colorbar": {
             "outlinewidth": 0,
             "ticks": ""
            },
            "type": "choropleth"
           }
          ],
          "contour": [
           {
            "colorbar": {
             "outlinewidth": 0,
             "ticks": ""
            },
            "colorscale": [
             [
              0,
              "#0d0887"
             ],
             [
              0.1111111111111111,
              "#46039f"
             ],
             [
              0.2222222222222222,
              "#7201a8"
             ],
             [
              0.3333333333333333,
              "#9c179e"
             ],
             [
              0.4444444444444444,
              "#bd3786"
             ],
             [
              0.5555555555555556,
              "#d8576b"
             ],
             [
              0.6666666666666666,
              "#ed7953"
             ],
             [
              0.7777777777777778,
              "#fb9f3a"
             ],
             [
              0.8888888888888888,
              "#fdca26"
             ],
             [
              1,
              "#f0f921"
             ]
            ],
            "type": "contour"
           }
          ],
          "contourcarpet": [
           {
            "colorbar": {
             "outlinewidth": 0,
             "ticks": ""
            },
            "type": "contourcarpet"
           }
          ],
          "heatmap": [
           {
            "colorbar": {
             "outlinewidth": 0,
             "ticks": ""
            },
            "colorscale": [
             [
              0,
              "#0d0887"
             ],
             [
              0.1111111111111111,
              "#46039f"
             ],
             [
              0.2222222222222222,
              "#7201a8"
             ],
             [
              0.3333333333333333,
              "#9c179e"
             ],
             [
              0.4444444444444444,
              "#bd3786"
             ],
             [
              0.5555555555555556,
              "#d8576b"
             ],
             [
              0.6666666666666666,
              "#ed7953"
             ],
             [
              0.7777777777777778,
              "#fb9f3a"
             ],
             [
              0.8888888888888888,
              "#fdca26"
             ],
             [
              1,
              "#f0f921"
             ]
            ],
            "type": "heatmap"
           }
          ],
          "heatmapgl": [
           {
            "colorbar": {
             "outlinewidth": 0,
             "ticks": ""
            },
            "colorscale": [
             [
              0,
              "#0d0887"
             ],
             [
              0.1111111111111111,
              "#46039f"
             ],
             [
              0.2222222222222222,
              "#7201a8"
             ],
             [
              0.3333333333333333,
              "#9c179e"
             ],
             [
              0.4444444444444444,
              "#bd3786"
             ],
             [
              0.5555555555555556,
              "#d8576b"
             ],
             [
              0.6666666666666666,
              "#ed7953"
             ],
             [
              0.7777777777777778,
              "#fb9f3a"
             ],
             [
              0.8888888888888888,
              "#fdca26"
             ],
             [
              1,
              "#f0f921"
             ]
            ],
            "type": "heatmapgl"
           }
          ],
          "histogram": [
           {
            "marker": {
             "pattern": {
              "fillmode": "overlay",
              "size": 10,
              "solidity": 0.2
             }
            },
            "type": "histogram"
           }
          ],
          "histogram2d": [
           {
            "colorbar": {
             "outlinewidth": 0,
             "ticks": ""
            },
            "colorscale": [
             [
              0,
              "#0d0887"
             ],
             [
              0.1111111111111111,
              "#46039f"
             ],
             [
              0.2222222222222222,
              "#7201a8"
             ],
             [
              0.3333333333333333,
              "#9c179e"
             ],
             [
              0.4444444444444444,
              "#bd3786"
             ],
             [
              0.5555555555555556,
              "#d8576b"
             ],
             [
              0.6666666666666666,
              "#ed7953"
             ],
             [
              0.7777777777777778,
              "#fb9f3a"
             ],
             [
              0.8888888888888888,
              "#fdca26"
             ],
             [
              1,
              "#f0f921"
             ]
            ],
            "type": "histogram2d"
           }
          ],
          "histogram2dcontour": [
           {
            "colorbar": {
             "outlinewidth": 0,
             "ticks": ""
            },
            "colorscale": [
             [
              0,
              "#0d0887"
             ],
             [
              0.1111111111111111,
              "#46039f"
             ],
             [
              0.2222222222222222,
              "#7201a8"
             ],
             [
              0.3333333333333333,
              "#9c179e"
             ],
             [
              0.4444444444444444,
              "#bd3786"
             ],
             [
              0.5555555555555556,
              "#d8576b"
             ],
             [
              0.6666666666666666,
              "#ed7953"
             ],
             [
              0.7777777777777778,
              "#fb9f3a"
             ],
             [
              0.8888888888888888,
              "#fdca26"
             ],
             [
              1,
              "#f0f921"
             ]
            ],
            "type": "histogram2dcontour"
           }
          ],
          "mesh3d": [
           {
            "colorbar": {
             "outlinewidth": 0,
             "ticks": ""
            },
            "type": "mesh3d"
           }
          ],
          "parcoords": [
           {
            "line": {
             "colorbar": {
              "outlinewidth": 0,
              "ticks": ""
             }
            },
            "type": "parcoords"
           }
          ],
          "pie": [
           {
            "automargin": true,
            "type": "pie"
           }
          ],
          "scatter": [
           {
            "fillpattern": {
             "fillmode": "overlay",
             "size": 10,
             "solidity": 0.2
            },
            "type": "scatter"
           }
          ],
          "scatter3d": [
           {
            "line": {
             "colorbar": {
              "outlinewidth": 0,
              "ticks": ""
             }
            },
            "marker": {
             "colorbar": {
              "outlinewidth": 0,
              "ticks": ""
             }
            },
            "type": "scatter3d"
           }
          ],
          "scattercarpet": [
           {
            "marker": {
             "colorbar": {
              "outlinewidth": 0,
              "ticks": ""
             }
            },
            "type": "scattercarpet"
           }
          ],
          "scattergeo": [
           {
            "marker": {
             "colorbar": {
              "outlinewidth": 0,
              "ticks": ""
             }
            },
            "type": "scattergeo"
           }
          ],
          "scattergl": [
           {
            "marker": {
             "colorbar": {
              "outlinewidth": 0,
              "ticks": ""
             }
            },
            "type": "scattergl"
           }
          ],
          "scattermapbox": [
           {
            "marker": {
             "colorbar": {
              "outlinewidth": 0,
              "ticks": ""
             }
            },
            "type": "scattermapbox"
           }
          ],
          "scatterpolar": [
           {
            "marker": {
             "colorbar": {
              "outlinewidth": 0,
              "ticks": ""
             }
            },
            "type": "scatterpolar"
           }
          ],
          "scatterpolargl": [
           {
            "marker": {
             "colorbar": {
              "outlinewidth": 0,
              "ticks": ""
             }
            },
            "type": "scatterpolargl"
           }
          ],
          "scatterternary": [
           {
            "marker": {
             "colorbar": {
              "outlinewidth": 0,
              "ticks": ""
             }
            },
            "type": "scatterternary"
           }
          ],
          "surface": [
           {
            "colorbar": {
             "outlinewidth": 0,
             "ticks": ""
            },
            "colorscale": [
             [
              0,
              "#0d0887"
             ],
             [
              0.1111111111111111,
              "#46039f"
             ],
             [
              0.2222222222222222,
              "#7201a8"
             ],
             [
              0.3333333333333333,
              "#9c179e"
             ],
             [
              0.4444444444444444,
              "#bd3786"
             ],
             [
              0.5555555555555556,
              "#d8576b"
             ],
             [
              0.6666666666666666,
              "#ed7953"
             ],
             [
              0.7777777777777778,
              "#fb9f3a"
             ],
             [
              0.8888888888888888,
              "#fdca26"
             ],
             [
              1,
              "#f0f921"
             ]
            ],
            "type": "surface"
           }
          ],
          "table": [
           {
            "cells": {
             "fill": {
              "color": "#EBF0F8"
             },
             "line": {
              "color": "white"
             }
            },
            "header": {
             "fill": {
              "color": "#C8D4E3"
             },
             "line": {
              "color": "white"
             }
            },
            "type": "table"
           }
          ]
         },
         "layout": {
          "annotationdefaults": {
           "arrowcolor": "#2a3f5f",
           "arrowhead": 0,
           "arrowwidth": 1
          },
          "autotypenumbers": "strict",
          "coloraxis": {
           "colorbar": {
            "outlinewidth": 0,
            "ticks": ""
           }
          },
          "colorscale": {
           "diverging": [
            [
             0,
             "#8e0152"
            ],
            [
             0.1,
             "#c51b7d"
            ],
            [
             0.2,
             "#de77ae"
            ],
            [
             0.3,
             "#f1b6da"
            ],
            [
             0.4,
             "#fde0ef"
            ],
            [
             0.5,
             "#f7f7f7"
            ],
            [
             0.6,
             "#e6f5d0"
            ],
            [
             0.7,
             "#b8e186"
            ],
            [
             0.8,
             "#7fbc41"
            ],
            [
             0.9,
             "#4d9221"
            ],
            [
             1,
             "#276419"
            ]
           ],
           "sequential": [
            [
             0,
             "#0d0887"
            ],
            [
             0.1111111111111111,
             "#46039f"
            ],
            [
             0.2222222222222222,
             "#7201a8"
            ],
            [
             0.3333333333333333,
             "#9c179e"
            ],
            [
             0.4444444444444444,
             "#bd3786"
            ],
            [
             0.5555555555555556,
             "#d8576b"
            ],
            [
             0.6666666666666666,
             "#ed7953"
            ],
            [
             0.7777777777777778,
             "#fb9f3a"
            ],
            [
             0.8888888888888888,
             "#fdca26"
            ],
            [
             1,
             "#f0f921"
            ]
           ],
           "sequentialminus": [
            [
             0,
             "#0d0887"
            ],
            [
             0.1111111111111111,
             "#46039f"
            ],
            [
             0.2222222222222222,
             "#7201a8"
            ],
            [
             0.3333333333333333,
             "#9c179e"
            ],
            [
             0.4444444444444444,
             "#bd3786"
            ],
            [
             0.5555555555555556,
             "#d8576b"
            ],
            [
             0.6666666666666666,
             "#ed7953"
            ],
            [
             0.7777777777777778,
             "#fb9f3a"
            ],
            [
             0.8888888888888888,
             "#fdca26"
            ],
            [
             1,
             "#f0f921"
            ]
           ]
          },
          "colorway": [
           "rgb(55, 126, 184)",
           "rgb(255, 127, 0)",
           "rgb(77, 175, 74)",
           "rgb(247, 129, 191)",
           "rgb(228, 26, 28)",
           "rgb(152, 78, 163)",
           "rgb(166, 86, 40)",
           "rgb(153, 153, 153)",
           "rgb(222, 222, 0)"
          ],
          "font": {
           "color": "#2a3f5f",
           "size": 19
          },
          "geo": {
           "bgcolor": "white",
           "lakecolor": "white",
           "landcolor": "#E5ECF6",
           "showlakes": true,
           "showland": true,
           "subunitcolor": "white"
          },
          "hoverlabel": {
           "align": "left"
          },
          "hovermode": "closest",
          "mapbox": {
           "style": "light"
          },
          "paper_bgcolor": "white",
          "plot_bgcolor": "#E5ECF6",
          "polar": {
           "angularaxis": {
            "gridcolor": "white",
            "linecolor": "white",
            "ticks": ""
           },
           "bgcolor": "#E5ECF6",
           "radialaxis": {
            "gridcolor": "white",
            "linecolor": "white",
            "ticks": ""
           }
          },
          "scene": {
           "xaxis": {
            "backgroundcolor": "#E5ECF6",
            "gridcolor": "white",
            "gridwidth": 2,
            "linecolor": "white",
            "showbackground": true,
            "ticks": "",
            "zerolinecolor": "white"
           },
           "yaxis": {
            "backgroundcolor": "#E5ECF6",
            "gridcolor": "white",
            "gridwidth": 2,
            "linecolor": "white",
            "showbackground": true,
            "ticks": "",
            "zerolinecolor": "white"
           },
           "zaxis": {
            "backgroundcolor": "#E5ECF6",
            "gridcolor": "white",
            "gridwidth": 2,
            "linecolor": "white",
            "showbackground": true,
            "ticks": "",
            "zerolinecolor": "white"
           }
          },
          "shapedefaults": {
           "line": {
            "color": "#2a3f5f"
           }
          },
          "ternary": {
           "aaxis": {
            "gridcolor": "white",
            "linecolor": "white",
            "ticks": ""
           },
           "baxis": {
            "gridcolor": "white",
            "linecolor": "white",
            "ticks": ""
           },
           "bgcolor": "#E5ECF6",
           "caxis": {
            "gridcolor": "white",
            "linecolor": "white",
            "ticks": ""
           }
          },
          "title": {
           "x": 0.05
          },
          "xaxis": {
           "automargin": true,
           "gridcolor": "white",
           "linecolor": "white",
           "ticks": "",
           "title": {
            "standoff": 15
           },
           "zerolinecolor": "white",
           "zerolinewidth": 2
          },
          "yaxis": {
           "automargin": true,
           "gridcolor": "white",
           "linecolor": "white",
           "ticks": "",
           "title": {
            "standoff": 15
           },
           "zerolinecolor": "white",
           "zerolinewidth": 2
          }
         }
        },
        "title": {
         "text": "Subnetwork Probing"
        },
        "xaxis": {
         "title": {
          "text": "Step"
         }
        }
       }
      },
      "text/html": [
       "<div>                            <div id=\"ae73bd3e-72f6-4d78-a64c-8c45b442e41a\" class=\"plotly-graph-div\" style=\"height:525px; width:100%;\"></div>            <script type=\"text/javascript\">                require([\"plotly\"], function(Plotly) {                    window.PLOTLYENV=window.PLOTLYENV || {};                                    if (document.getElementById(\"ae73bd3e-72f6-4d78-a64c-8c45b442e41a\")) {                    Plotly.newPlot(                        \"ae73bd3e-72f6-4d78-a64c-8c45b442e41a\",                        [{\"name\":\"Loss\",\"y\":[156.68600463867188,155.76959228515625,153.49273681640625,151.4137725830078,149.48072814941406,148.25332641601562,145.16001892089844,143.2415008544922,141.09613037109375,138.59768676757812,135.93402099609375,134.08888244628906,131.0750732421875,128.4645538330078,126.09700775146484,123.03080749511719,119.68657684326172,117.8869400024414,113.05197143554688,111.00577545166016,107.98798370361328,104.35779571533203,102.56317901611328,98.673583984375,95.03868865966797,91.65003204345703,88.61222076416016,85.48711395263672,82.80713653564453,79.11542510986328,76.13532257080078,72.50414276123047,70.38031005859375,67.2491683959961,63.99538040161133,61.550716400146484,58.81015396118164,55.60575485229492,53.2203483581543,50.59404373168945,49.19306564331055,46.16658020019531,43.77924728393555,42.33955383300781,40.48313903808594,38.332359313964844,36.559810638427734,34.54804992675781,32.87152099609375,31.15513038635254,30.17636489868164,29.106115341186523,27.833600997924805,26.452640533447266,25.733430862426758,24.77716827392578,23.189016342163086,22.312597274780273,21.974279403686523,20.703277587890625,19.8688907623291,19.49822235107422,19.117591857910156,18.510610580444336,17.70473861694336,16.902490615844727,15.995162010192871,15.348596572875977,15.482330322265625,14.852652549743652,14.144245147705078,13.79908275604248,13.849017143249512,13.011855125427246,12.712261199951172,12.338582992553711,12.497064590454102,12.065088272094727,11.572603225708008,10.981843948364258,10.861690521240234,10.906519889831543,10.475029945373535,10.343141555786133,9.739960670471191,9.949822425842285,9.725658416748047,9.590011596679688,9.353503227233887,9.306244850158691,9.136643409729004,8.59994125366211,8.777650833129883,8.674200057983398,8.383171081542969,7.92548131942749,7.941938877105713,7.897690773010254,7.897050380706787,7.802696704864502,7.755916595458984,7.535614490509033,7.439510345458984,7.180278778076172,7.422443389892578,7.284992694854736,6.780706405639648,6.875667095184326,6.807665824890137,6.847237586975098,6.780658721923828,6.65332555770874,6.30453634262085,6.3896403312683105,6.471535682678223,6.025198459625244,6.041520118713379,5.899075031280518,5.9002861976623535,5.964104175567627,5.933220863342285,5.750434875488281,5.630853652954102,5.688333988189697,5.598176002502441,5.5428924560546875,5.354180335998535,5.368685245513916,5.145443916320801,5.166172027587891,5.281918048858643,5.205441474914551,5.031942844390869,5.129525184631348,5.0389299392700195,4.946532726287842,4.894300937652588,4.8672966957092285,4.768847465515137,4.58892822265625,4.9374165534973145,4.68304967880249,4.64537239074707,4.558656215667725,4.853863716125488,4.428264141082764,4.377114772796631,4.435428619384766,4.582148551940918,4.302617073059082,4.374650001525879,4.400318145751953,4.172919750213623,4.23702335357666,4.242820739746094,4.051065921783447,4.163132190704346,4.148767948150635,3.967454671859741,3.8462166786193848,4.076343059539795,4.251899719238281,3.92463755607605,4.125345230102539,3.8363561630249023,3.7857468128204346,3.8237662315368652,3.814232349395752,3.6163835525512695,3.585224151611328,3.7500956058502197,3.798365354537964,3.7053003311157227,3.7222650051116943,3.6182737350463867,3.5560109615325928,3.638362169265747,3.4745352268218994,3.6398491859436035,3.3783702850341797,3.553522825241089,3.5594635009765625,3.3254048824310303,3.365773916244507,3.3980414867401123,3.4222774505615234,3.380631446838379,3.45121431350708,3.5309977531433105,3.35473895072937,3.2994425296783447,3.1799724102020264,3.2044739723205566,3.1492743492126465,3.258212089538574,3.1405467987060547,3.1392641067504883,3.011108636856079,3.104593276977539,3.0860719680786133],\"type\":\"scatter\"},{\"name\":\"Kl_Div\",\"y\":[1.4893126487731934,1.419090747833252,1.1642802953720093,1.225700855255127,1.0188360214233398,1.0884300470352173,0.888149619102478,1.0425487756729126,0.9328802824020386,0.9357112646102905,0.9411735534667969,1.0610166788101196,0.8906095027923584,0.910466194152832,0.8755793571472168,0.8806265592575073,0.6803942918777466,0.8691277503967285,0.8727074265480042,0.8383035659790039,0.775283932685852,0.7565860748291016,0.8163982629776001,0.7523711919784546,0.6167454719543457,0.7388760447502136,0.7657955288887024,0.7562863826751709,0.7072635889053345,0.8355787992477417,0.7163634300231934,0.77517169713974,0.765292763710022,0.7810589075088501,0.7351813316345215,0.7807495594024658,0.7248002886772156,0.6973398327827454,0.756206214427948,0.7104980945587158,0.7184933423995972,0.7402876019477844,0.73334801197052,0.7715967297554016,0.7799901366233826,0.7905600070953369,0.7451630234718323,0.7252147197723389,0.7767353057861328,0.7487826347351074,0.6944094896316528,0.769385576248169,0.7495958209037781,0.7414277791976929,0.745773434638977,0.720233678817749,0.7675328850746155,0.6808192729949951,0.7879891395568848,0.6503084897994995,0.7518585920333862,0.7925195693969727,0.771010160446167,0.6902585029602051,0.8021395206451416,0.7756165862083435,0.730473518371582,0.7259006500244141,0.7781882286071777,0.7124557495117188,0.727057695388794,0.6665628552436829,0.7851106524467468,0.7471082210540771,0.7721630334854126,0.7878206968307495,0.7517522573471069,0.7123926281929016,0.7914899587631226,0.7065114974975586,0.7744447588920593,0.7389801740646362,0.6724518537521362,0.694743275642395,0.720038652420044,0.7404274344444275,0.6598570942878723,0.7132921814918518,0.7007876634597778,0.7534711360931396,0.6301195621490479,0.7610929608345032,0.7230996489524841,0.7372859716415405,0.6989712715148926,0.6804808378219604,0.6924072504043579,0.6883543133735657,0.6747456789016724,0.7028131484985352,0.749588131904602,0.706473708152771,0.7325567007064819,0.7206693291664124,0.6470528244972229,0.715851902961731,0.6512143611907959,0.6770342588424683,0.7483490705490112,0.7166907787322998,0.6460488438606262,0.7018997073173523,0.6516456007957458,0.6448746919631958,0.6808322072029114,0.6373857259750366,0.7255628108978271,0.6657549738883972,0.6129225492477417,0.6470337510108948,0.7030839920043945,0.6461766362190247,0.6406195163726807,0.692591667175293,0.7318089008331299,0.6602165699005127,0.6775392293930054,0.6740754842758179,0.6597017049789429,0.6556249856948853,0.7118005752563477,0.6406762003898621,0.681083083152771,0.6447198987007141,0.6609604954719543,0.6515129804611206,0.6387149095535278,0.6031752228736877,0.674940824508667,0.6378536224365234,0.6870449781417847,0.6317404508590698,0.668751060962677,0.5835776925086975,0.6882970333099365,0.6275805234909058,0.6450441479682922,0.633162796497345,0.6438277363777161,0.6102925539016724,0.6323648691177368,0.6570170521736145,0.6280368566513062,0.679093599319458,0.6248713731765747,0.5501283407211304,0.6468431353569031,0.6184943914413452,0.5762435793876648,0.5640681982040405,0.6408349275588989,0.6162359714508057,0.605320930480957,0.598880410194397,0.6470787525177002,0.6230905652046204,0.6285511255264282,0.6193689107894897,0.5913052558898926,0.5945404767990112,0.6573612689971924,0.5864120125770569,0.6483081579208374,0.6207024455070496,0.598664402961731,0.582456111907959,0.6475026607513428,0.5982460379600525,0.5949662923812866,0.5839952230453491,0.6351633071899414,0.5912212133407593,0.5907172560691833,0.6086645722389221,0.6382560133934021,0.5911446809768677,0.6172717809677124,0.6129525899887085,0.6500211954116821,0.5893092751502991,0.636668860912323,0.5721793174743652,0.6331650018692017,0.5915204286575317,0.612587034702301,0.577031135559082,0.6030334234237671,0.612358570098877,0.6555699110031128,0.6038454174995422],\"type\":\"scatter\"},{\"error_y\":{\"array\":[],\"type\":\"data\"},\"name\":\"Val Kl_Div\",\"y\":[],\"type\":\"scatter\"},{\"name\":\"Regularization\",\"y\":[155.19667968750002,154.35048828125002,152.32845458984374,150.1880615234375,148.46190185546877,147.16490478515627,144.27186279296876,142.1989501953125,140.16325683593752,137.661962890625,134.99283447265626,133.0278564453125,130.18446044921876,127.55408935546876,125.22142333984375,122.15018310546876,119.00617675781251,117.01781005859375,112.17926025390625,110.16746826171875,107.2126953125,103.60120849609376,101.74677734375001,97.92120971679688,94.42194213867188,90.91115112304688,87.84642944335938,84.73082275390625,82.09987182617188,78.27984619140625,75.41895751953125,71.72897338867188,69.61502075195312,66.46810913085938,63.26019897460938,60.76996459960938,58.0853515625,54.908416748046875,52.464141845703125,49.883544921875,48.47456970214844,45.42629089355469,43.0458984375,41.56795959472657,39.70314636230469,37.541796875,35.814648437500004,33.82283325195313,32.09478454589844,30.406347656250002,29.48195495605469,28.336727905273438,27.08400573730469,25.711212158203125,24.987657165527345,24.056933593750003,22.421484375000002,21.631777954101565,21.186289978027347,20.052969360351565,19.117031860351563,18.705703735351562,18.34658203125,17.820352172851564,16.902598571777343,16.126875305175783,15.264688110351564,14.622695922851562,14.704141235351564,14.140196228027344,13.4171875,13.13251953125,13.063906860351564,12.26474609375,11.94009780883789,11.550762176513672,11.7453125,11.35269546508789,10.781113433837891,10.27533187866211,10.08724594116211,10.167539215087892,9.80257797241211,9.648398590087892,9.019921875,9.209394836425782,9.065801239013672,8.876718902587891,8.652715301513672,8.55277328491211,8.506523895263673,7.838848114013672,8.054550933837891,7.9369140625000005,7.684199523925781,7.245000457763672,7.249531555175782,7.209336090087891,7.2223045349121096,7.099883270263672,7.006328582763672,6.82914047241211,6.706953430175782,6.4596092224121096,6.775390625,6.569140625,6.1294921875,6.1986328125000005,6.059316635131836,6.130546951293946,6.134609603881836,5.951425933837891,5.652890777587891,5.7447658538818365,5.790703201293946,5.387812423706055,5.315957260131836,5.233320236206055,5.287363433837891,5.317070388793946,5.230136871337891,5.104257965087891,4.990234375,4.9957424163818365,4.866367340087891,4.882675933837891,4.6766407012939455,4.694609451293945,4.4857421875000005,4.510546875,4.5701171875,4.564765548706055,4.350859451293945,4.484804916381836,4.377968978881836,4.29501953125,4.255585861206055,4.264121246337891,4.093906402587891,3.95107421875,4.2503711700439455,4.051308822631836,3.9766212463378907,3.9750782012939454,4.165566635131836,3.80068359375,3.732070541381836,3.802265548706055,3.9383205413818363,3.692324447631836,3.7422851562500004,3.743301010131836,3.544882965087891,3.5579296112060548,3.6179492950439456,3.500937652587891,3.5162891387939457,3.5302734375,3.3912109375000004,3.2821483612060547,3.435507965087891,3.6356639862060547,3.3193164825439454,3.5264648437500004,3.1892774581909182,3.1626562118530277,3.19521484375,3.1948633193969727,3.0250782012939457,2.9906835556030273,3.0927343368530273,3.211953353881836,3.0569921493530274,3.1015625,3.0196094512939453,2.973554801940918,2.990859413146973,2.8762891769409182,3.0448827743530273,2.7943750381469727,2.918359375,2.9682422637939454,2.7346876144409182,2.7571094512939456,2.759785270690918,2.8311328887939453,2.7633594512939457,2.8382617950439455,2.880976676940918,2.7654296875,2.6627735137939457,2.6077930450439455,2.571308708190918,2.557753944396973,2.645625114440918,2.5635156631469727,2.5362304687500004,2.3987501144409182,2.4490234375,2.4822265625],\"type\":\"scatter\"}],                        {\"template\":{\"data\":{\"histogram2dcontour\":[{\"type\":\"histogram2dcontour\",\"colorbar\":{\"outlinewidth\":0,\"ticks\":\"\"},\"colorscale\":[[0.0,\"#0d0887\"],[0.1111111111111111,\"#46039f\"],[0.2222222222222222,\"#7201a8\"],[0.3333333333333333,\"#9c179e\"],[0.4444444444444444,\"#bd3786\"],[0.5555555555555556,\"#d8576b\"],[0.6666666666666666,\"#ed7953\"],[0.7777777777777778,\"#fb9f3a\"],[0.8888888888888888,\"#fdca26\"],[1.0,\"#f0f921\"]]}],\"choropleth\":[{\"type\":\"choropleth\",\"colorbar\":{\"outlinewidth\":0,\"ticks\":\"\"}}],\"histogram2d\":[{\"type\":\"histogram2d\",\"colorbar\":{\"outlinewidth\":0,\"ticks\":\"\"},\"colorscale\":[[0.0,\"#0d0887\"],[0.1111111111111111,\"#46039f\"],[0.2222222222222222,\"#7201a8\"],[0.3333333333333333,\"#9c179e\"],[0.4444444444444444,\"#bd3786\"],[0.5555555555555556,\"#d8576b\"],[0.6666666666666666,\"#ed7953\"],[0.7777777777777778,\"#fb9f3a\"],[0.8888888888888888,\"#fdca26\"],[1.0,\"#f0f921\"]]}],\"heatmap\":[{\"type\":\"heatmap\",\"colorbar\":{\"outlinewidth\":0,\"ticks\":\"\"},\"colorscale\":[[0.0,\"#0d0887\"],[0.1111111111111111,\"#46039f\"],[0.2222222222222222,\"#7201a8\"],[0.3333333333333333,\"#9c179e\"],[0.4444444444444444,\"#bd3786\"],[0.5555555555555556,\"#d8576b\"],[0.6666666666666666,\"#ed7953\"],[0.7777777777777778,\"#fb9f3a\"],[0.8888888888888888,\"#fdca26\"],[1.0,\"#f0f921\"]]}],\"heatmapgl\":[{\"type\":\"heatmapgl\",\"colorbar\":{\"outlinewidth\":0,\"ticks\":\"\"},\"colorscale\":[[0.0,\"#0d0887\"],[0.1111111111111111,\"#46039f\"],[0.2222222222222222,\"#7201a8\"],[0.3333333333333333,\"#9c179e\"],[0.4444444444444444,\"#bd3786\"],[0.5555555555555556,\"#d8576b\"],[0.6666666666666666,\"#ed7953\"],[0.7777777777777778,\"#fb9f3a\"],[0.8888888888888888,\"#fdca26\"],[1.0,\"#f0f921\"]]}],\"contourcarpet\":[{\"type\":\"contourcarpet\",\"colorbar\":{\"outlinewidth\":0,\"ticks\":\"\"}}],\"contour\":[{\"type\":\"contour\",\"colorbar\":{\"outlinewidth\":0,\"ticks\":\"\"},\"colorscale\":[[0.0,\"#0d0887\"],[0.1111111111111111,\"#46039f\"],[0.2222222222222222,\"#7201a8\"],[0.3333333333333333,\"#9c179e\"],[0.4444444444444444,\"#bd3786\"],[0.5555555555555556,\"#d8576b\"],[0.6666666666666666,\"#ed7953\"],[0.7777777777777778,\"#fb9f3a\"],[0.8888888888888888,\"#fdca26\"],[1.0,\"#f0f921\"]]}],\"surface\":[{\"type\":\"surface\",\"colorbar\":{\"outlinewidth\":0,\"ticks\":\"\"},\"colorscale\":[[0.0,\"#0d0887\"],[0.1111111111111111,\"#46039f\"],[0.2222222222222222,\"#7201a8\"],[0.3333333333333333,\"#9c179e\"],[0.4444444444444444,\"#bd3786\"],[0.5555555555555556,\"#d8576b\"],[0.6666666666666666,\"#ed7953\"],[0.7777777777777778,\"#fb9f3a\"],[0.8888888888888888,\"#fdca26\"],[1.0,\"#f0f921\"]]}],\"mesh3d\":[{\"type\":\"mesh3d\",\"colorbar\":{\"outlinewidth\":0,\"ticks\":\"\"}}],\"scatter\":[{\"fillpattern\":{\"fillmode\":\"overlay\",\"size\":10,\"solidity\":0.2},\"type\":\"scatter\"}],\"parcoords\":[{\"type\":\"parcoords\",\"line\":{\"colorbar\":{\"outlinewidth\":0,\"ticks\":\"\"}}}],\"scatterpolargl\":[{\"type\":\"scatterpolargl\",\"marker\":{\"colorbar\":{\"outlinewidth\":0,\"ticks\":\"\"}}}],\"bar\":[{\"error_x\":{\"color\":\"#2a3f5f\"},\"error_y\":{\"color\":\"#2a3f5f\"},\"marker\":{\"line\":{\"color\":\"#E5ECF6\",\"width\":0.5},\"pattern\":{\"fillmode\":\"overlay\",\"size\":10,\"solidity\":0.2}},\"type\":\"bar\"}],\"scattergeo\":[{\"type\":\"scattergeo\",\"marker\":{\"colorbar\":{\"outlinewidth\":0,\"ticks\":\"\"}}}],\"scatterpolar\":[{\"type\":\"scatterpolar\",\"marker\":{\"colorbar\":{\"outlinewidth\":0,\"ticks\":\"\"}}}],\"histogram\":[{\"marker\":{\"pattern\":{\"fillmode\":\"overlay\",\"size\":10,\"solidity\":0.2}},\"type\":\"histogram\"}],\"scattergl\":[{\"type\":\"scattergl\",\"marker\":{\"colorbar\":{\"outlinewidth\":0,\"ticks\":\"\"}}}],\"scatter3d\":[{\"type\":\"scatter3d\",\"line\":{\"colorbar\":{\"outlinewidth\":0,\"ticks\":\"\"}},\"marker\":{\"colorbar\":{\"outlinewidth\":0,\"ticks\":\"\"}}}],\"scattermapbox\":[{\"type\":\"scattermapbox\",\"marker\":{\"colorbar\":{\"outlinewidth\":0,\"ticks\":\"\"}}}],\"scatterternary\":[{\"type\":\"scatterternary\",\"marker\":{\"colorbar\":{\"outlinewidth\":0,\"ticks\":\"\"}}}],\"scattercarpet\":[{\"type\":\"scattercarpet\",\"marker\":{\"colorbar\":{\"outlinewidth\":0,\"ticks\":\"\"}}}],\"carpet\":[{\"aaxis\":{\"endlinecolor\":\"#2a3f5f\",\"gridcolor\":\"white\",\"linecolor\":\"white\",\"minorgridcolor\":\"white\",\"startlinecolor\":\"#2a3f5f\"},\"baxis\":{\"endlinecolor\":\"#2a3f5f\",\"gridcolor\":\"white\",\"linecolor\":\"white\",\"minorgridcolor\":\"white\",\"startlinecolor\":\"#2a3f5f\"},\"type\":\"carpet\"}],\"table\":[{\"cells\":{\"fill\":{\"color\":\"#EBF0F8\"},\"line\":{\"color\":\"white\"}},\"header\":{\"fill\":{\"color\":\"#C8D4E3\"},\"line\":{\"color\":\"white\"}},\"type\":\"table\"}],\"barpolar\":[{\"marker\":{\"line\":{\"color\":\"#E5ECF6\",\"width\":0.5},\"pattern\":{\"fillmode\":\"overlay\",\"size\":10,\"solidity\":0.2}},\"type\":\"barpolar\"}],\"pie\":[{\"automargin\":true,\"type\":\"pie\"}]},\"layout\":{\"autotypenumbers\":\"strict\",\"colorway\":[\"rgb(55, 126, 184)\",\"rgb(255, 127, 0)\",\"rgb(77, 175, 74)\",\"rgb(247, 129, 191)\",\"rgb(228, 26, 28)\",\"rgb(152, 78, 163)\",\"rgb(166, 86, 40)\",\"rgb(153, 153, 153)\",\"rgb(222, 222, 0)\"],\"font\":{\"color\":\"#2a3f5f\",\"size\":19},\"hovermode\":\"closest\",\"hoverlabel\":{\"align\":\"left\"},\"paper_bgcolor\":\"white\",\"plot_bgcolor\":\"#E5ECF6\",\"polar\":{\"bgcolor\":\"#E5ECF6\",\"angularaxis\":{\"gridcolor\":\"white\",\"linecolor\":\"white\",\"ticks\":\"\"},\"radialaxis\":{\"gridcolor\":\"white\",\"linecolor\":\"white\",\"ticks\":\"\"}},\"ternary\":{\"bgcolor\":\"#E5ECF6\",\"aaxis\":{\"gridcolor\":\"white\",\"linecolor\":\"white\",\"ticks\":\"\"},\"baxis\":{\"gridcolor\":\"white\",\"linecolor\":\"white\",\"ticks\":\"\"},\"caxis\":{\"gridcolor\":\"white\",\"linecolor\":\"white\",\"ticks\":\"\"}},\"coloraxis\":{\"colorbar\":{\"outlinewidth\":0,\"ticks\":\"\"}},\"colorscale\":{\"sequential\":[[0.0,\"#0d0887\"],[0.1111111111111111,\"#46039f\"],[0.2222222222222222,\"#7201a8\"],[0.3333333333333333,\"#9c179e\"],[0.4444444444444444,\"#bd3786\"],[0.5555555555555556,\"#d8576b\"],[0.6666666666666666,\"#ed7953\"],[0.7777777777777778,\"#fb9f3a\"],[0.8888888888888888,\"#fdca26\"],[1.0,\"#f0f921\"]],\"sequentialminus\":[[0.0,\"#0d0887\"],[0.1111111111111111,\"#46039f\"],[0.2222222222222222,\"#7201a8\"],[0.3333333333333333,\"#9c179e\"],[0.4444444444444444,\"#bd3786\"],[0.5555555555555556,\"#d8576b\"],[0.6666666666666666,\"#ed7953\"],[0.7777777777777778,\"#fb9f3a\"],[0.8888888888888888,\"#fdca26\"],[1.0,\"#f0f921\"]],\"diverging\":[[0,\"#8e0152\"],[0.1,\"#c51b7d\"],[0.2,\"#de77ae\"],[0.3,\"#f1b6da\"],[0.4,\"#fde0ef\"],[0.5,\"#f7f7f7\"],[0.6,\"#e6f5d0\"],[0.7,\"#b8e186\"],[0.8,\"#7fbc41\"],[0.9,\"#4d9221\"],[1,\"#276419\"]]},\"xaxis\":{\"gridcolor\":\"white\",\"linecolor\":\"white\",\"ticks\":\"\",\"title\":{\"standoff\":15},\"zerolinecolor\":\"white\",\"automargin\":true,\"zerolinewidth\":2},\"yaxis\":{\"gridcolor\":\"white\",\"linecolor\":\"white\",\"ticks\":\"\",\"title\":{\"standoff\":15},\"zerolinecolor\":\"white\",\"automargin\":true,\"zerolinewidth\":2},\"scene\":{\"xaxis\":{\"backgroundcolor\":\"#E5ECF6\",\"gridcolor\":\"white\",\"linecolor\":\"white\",\"showbackground\":true,\"ticks\":\"\",\"zerolinecolor\":\"white\",\"gridwidth\":2},\"yaxis\":{\"backgroundcolor\":\"#E5ECF6\",\"gridcolor\":\"white\",\"linecolor\":\"white\",\"showbackground\":true,\"ticks\":\"\",\"zerolinecolor\":\"white\",\"gridwidth\":2},\"zaxis\":{\"backgroundcolor\":\"#E5ECF6\",\"gridcolor\":\"white\",\"linecolor\":\"white\",\"showbackground\":true,\"ticks\":\"\",\"zerolinecolor\":\"white\",\"gridwidth\":2}},\"shapedefaults\":{\"line\":{\"color\":\"#2a3f5f\"}},\"annotationdefaults\":{\"arrowcolor\":\"#2a3f5f\",\"arrowhead\":0,\"arrowwidth\":1},\"geo\":{\"bgcolor\":\"white\",\"landcolor\":\"#E5ECF6\",\"subunitcolor\":\"white\",\"showland\":true,\"showlakes\":true,\"lakecolor\":\"white\"},\"title\":{\"x\":0.05},\"mapbox\":{\"style\":\"light\"}}},\"title\":{\"text\":\"Subnetwork Probing\"},\"xaxis\":{\"title\":{\"text\":\"Step\"}}},                        {\"responsive\": true}                    ).then(function(){\n",
       "                            \n",
       "var gd = document.getElementById('ae73bd3e-72f6-4d78-a64c-8c45b442e41a');\n",
       "var x = new MutationObserver(function (mutations, observer) {{\n",
       "        var display = window.getComputedStyle(gd).display;\n",
       "        if (!display || display === 'none') {{\n",
       "            console.log([gd, 'removed!']);\n",
       "            Plotly.purge(gd);\n",
       "            observer.disconnect();\n",
       "        }}\n",
       "}});\n",
       "\n",
       "// Listen for the removal of the full notebook cells\n",
       "var notebookContainer = gd.closest('#notebook-container');\n",
       "if (notebookContainer) {{\n",
       "    x.observe(notebookContainer, {childList: true});\n",
       "}}\n",
       "\n",
       "// Listen for the clearing of the current output cell\n",
       "var outputEl = gd.closest('.output');\n",
       "if (outputEl) {{\n",
       "    x.observe(outputEl, {childList: true});\n",
       "}}\n",
       "\n",
       "                        })                };                });            </script>        </div>"
      ]
     },
     "metadata": {},
     "output_type": "display_data"
    },
    {
     "name": "stderr",
     "output_type": "stream",
     "text": [
      "Circuit Probing Size 50: ██████▋   | 2/3 [01:12<00:36, 36.40s/it]"
     ]
    },
    {
     "data": {
      "application/vnd.plotly.v1+json": {
       "config": {
        "plotlyServerURL": "https://plot.ly"
       },
       "data": [
        {
         "name": "Loss",
         "type": "scatter",
         "y": [
          63.54749298095703,
          63.009864807128906,
          61.933692932128906,
          61.45998764038086,
          60.648136138916016,
          59.7095832824707,
          58.6874885559082,
          57.92388916015625,
          56.806175231933594,
          56.236289978027344,
          55.2431526184082,
          54.17879867553711,
          52.99534606933594,
          51.95974349975586,
          50.74566650390625,
          49.65422439575195,
          48.50857162475586,
          47.51699447631836,
          46.30302429199219,
          45.21514129638672,
          43.90776443481445,
          42.820892333984375,
          41.31047058105469,
          40.3101806640625,
          38.80925369262695,
          37.74003219604492,
          36.219154357910156,
          35.437503814697266,
          33.88732147216797,
          32.27655029296875,
          31.263057708740234,
          30.40838623046875,
          28.919599533081055,
          27.838024139404297,
          26.683177947998047,
          25.715314865112305,
          24.598360061645508,
          23.19468116760254,
          22.446453094482422,
          21.627239227294922,
          20.312942504882812,
          19.60125732421875,
          18.761526107788086,
          17.697296142578125,
          17.031980514526367,
          16.523033142089844,
          15.696344375610352,
          15.062524795532227,
          14.283211708068848,
          13.873763084411621,
          12.875186920166016,
          12.665106773376465,
          11.957209587097168,
          11.538914680480957,
          11.30771255493164,
          10.722926139831543,
          10.323678016662598,
          9.938127517700195,
          9.616232872009277,
          9.15188980102539,
          8.901548385620117,
          8.629919052124023,
          8.4242582321167,
          8.067987442016602,
          7.801609039306641,
          7.542508602142334,
          7.429222106933594,
          7.033407688140869,
          6.997600555419922,
          6.623796463012695,
          6.620763778686523,
          6.322375774383545,
          6.135124206542969,
          5.989863872528076,
          5.951844692230225,
          5.801486968994141,
          5.744936466217041,
          5.616327285766602,
          5.459033012390137,
          5.412590026855469,
          5.216156005859375,
          4.980880260467529,
          4.980629920959473,
          4.965116500854492,
          4.835522174835205,
          4.686404228210449,
          4.672153472900391,
          4.553479194641113,
          4.421969413757324,
          4.484084606170654,
          4.269603252410889,
          4.244045734405518,
          4.171149253845215,
          4.098815441131592,
          4.034811973571777,
          3.9810988903045654,
          3.9475653171539307,
          3.678837299346924,
          3.7732834815979004,
          3.890157699584961,
          3.6940534114837646,
          3.806428909301758,
          3.56636905670166,
          3.6107163429260254,
          3.5183849334716797,
          3.468447208404541,
          3.47395396232605,
          3.49006986618042,
          3.3733413219451904,
          3.25955867767334,
          3.1965155601501465,
          3.28334379196167,
          3.1949548721313477,
          3.106163501739502,
          3.2139971256256104,
          3.0461392402648926,
          3.014293670654297,
          3.051720142364502,
          2.856353759765625,
          2.909345865249634,
          3.0738887786865234,
          2.830272674560547,
          2.8818163871765137,
          2.9018144607543945,
          2.6588423252105713,
          2.7055931091308594,
          2.721160411834717,
          2.7205471992492676,
          2.7644693851470947,
          2.6287970542907715,
          2.7326207160949707,
          2.6929099559783936,
          2.636627435684204,
          2.578214406967163,
          2.444416046142578,
          2.5194950103759766,
          2.472716808319092,
          2.472116231918335,
          2.322253704071045,
          2.451997756958008,
          2.4078619480133057,
          2.4077248573303223,
          2.3889734745025635,
          2.371735095977783,
          2.3394055366516113,
          2.2984511852264404,
          2.3129820823669434,
          2.305027723312378,
          2.2820591926574707,
          2.2636308670043945,
          2.282719850540161,
          2.182560443878174,
          2.2885494232177734,
          2.1803812980651855,
          2.1800320148468018,
          2.1641311645507812,
          2.21954607963562,
          2.083549976348877,
          2.1593289375305176,
          2.1237387657165527,
          2.0839877128601074,
          2.0619633197784424,
          2.109116315841675,
          2.0367493629455566,
          2.120915412902832,
          2.014913320541382,
          2.0627481937408447,
          1.974931001663208,
          2.0882656574249268,
          2.0302035808563232,
          1.9330450296401978,
          2.030240297317505,
          1.9463309049606323,
          1.9661834239959717,
          1.9239612817764282,
          1.8799259662628174,
          1.879150390625,
          1.8357046842575073,
          1.9030190706253052,
          1.8217958211898804,
          1.9189472198486328,
          1.854920506477356,
          1.8549535274505615,
          1.8777443170547485,
          1.8730851411819458,
          1.7817292213439941,
          1.84940767288208,
          1.804614543914795,
          1.8058301210403442,
          1.7002238035202026,
          1.767229437828064,
          1.7693700790405273,
          1.7712748050689697,
          1.7242777347564697,
          1.7457966804504395,
          1.7033334970474243,
          1.7515712976455688,
          1.5896449089050293,
          1.6700797080993652,
          1.640181303024292
         ]
        },
        {
         "name": "Kl_Div",
         "type": "scatter",
         "y": [
          1.4484996795654297,
          1.5534747838974,
          1.0416756868362427,
          1.4054837226867676,
          1.0276238918304443,
          1.1078674793243408,
          0.8960796594619751,
          1.0489506721496582,
          0.9096009731292725,
          0.9132421612739563,
          0.9983233213424683,
          0.7922521829605103,
          0.7669834494590759,
          0.8210680484771729,
          0.810687243938446,
          0.7656407356262207,
          0.7735259532928467,
          0.7639394998550415,
          0.6811184883117676,
          0.7044607400894165,
          0.7143075466156006,
          0.7082915902137756,
          0.7076346278190613,
          0.6767618656158447,
          0.6974701881408691,
          0.6982192993164062,
          0.6612962484359741,
          0.6779040098190308,
          0.6534326076507568,
          0.6631694436073303,
          0.646003246307373,
          0.6854656934738159,
          0.5972908735275269,
          0.6627976298332214,
          0.6898676753044128,
          0.675308108329773,
          0.6138808131217957,
          0.6315091848373413,
          0.517439603805542,
          0.6514178514480591,
          0.5944832563400269,
          0.6561394929885864,
          0.6516475677490234,
          0.5800936818122864,
          0.665871262550354,
          0.6009749174118042,
          0.5646488666534424,
          0.6391573548316956,
          0.6305398941040039,
          0.5663264989852905,
          0.5364482998847961,
          0.5553447604179382,
          0.5018657445907593,
          0.5232893228530884,
          0.5447049140930176,
          0.5993090867996216,
          0.5636780261993408,
          0.5557847023010254,
          0.5206398367881775,
          0.6067572832107544,
          0.5389937162399292,
          0.5697938203811646,
          0.6015549898147583,
          0.5304241180419922,
          0.5164840221405029,
          0.5651182532310486,
          0.5039254426956177,
          0.5133918523788452,
          0.5282254815101624,
          0.47548413276672363,
          0.5074980854988098,
          0.5446568131446838,
          0.5094836950302124,
          0.5118326544761658,
          0.5369073152542114,
          0.4680810272693634,
          0.561710000038147,
          0.5167886018753052,
          0.5637047290802002,
          0.49626195430755615,
          0.5220077037811279,
          0.49933359026908875,
          0.5173488855361938,
          0.5668818950653076,
          0.506553053855896,
          0.507685661315918,
          0.5287001132965088,
          0.5230886936187744,
          0.5237666964530945,
          0.4772254228591919,
          0.4898529648780823,
          0.4472801387310028,
          0.5074150562286377,
          0.49684685468673706,
          0.5133509635925293,
          0.4334583878517151,
          0.5097842216491699,
          0.42816534638404846,
          0.49687740206718445,
          0.4870952069759369,
          0.4994440972805023,
          0.5246787071228027,
          0.4995564818382263,
          0.46777892112731934,
          0.46207261085510254,
          0.5151033401489258,
          0.5044068694114685,
          0.48469504714012146,
          0.49939602613449097,
          0.46193361282348633,
          0.5097185969352722,
          0.455328106880188,
          0.4606267213821411,
          0.4247729480266571,
          0.46538791060447693,
          0.5121861100196838,
          0.4359418451786041,
          0.4398999512195587,
          0.4651193618774414,
          0.47373661398887634,
          0.48439666628837585,
          0.45808541774749756,
          0.46026188135147095,
          0.5169631242752075,
          0.4129204750061035,
          0.4651789367198944,
          0.43776965141296387,
          0.4379064440727234,
          0.45212551951408386,
          0.46712520718574524,
          0.45901915431022644,
          0.45133188366889954,
          0.473627507686615,
          0.47688618302345276,
          0.4476034641265869,
          0.4207841753959656,
          0.47670137882232666,
          0.4436630606651306,
          0.44255828857421875,
          0.44381803274154663,
          0.4559478163719177,
          0.43046706914901733,
          0.470981240272522,
          0.426188200712204,
          0.44240570068359375,
          0.38870128989219666,
          0.4415602684020996,
          0.4266839027404785,
          0.4722387492656708,
          0.3910214304924011,
          0.4809776842594147,
          0.41040438413619995,
          0.46111977100372314,
          0.3932249844074249,
          0.47600069642066956,
          0.41206079721450806,
          0.4873116612434387,
          0.401174932718277,
          0.44541478157043457,
          0.40837955474853516,
          0.4523705244064331,
          0.4475570321083069,
          0.44180381298065186,
          0.38342106342315674,
          0.4137122333049774,
          0.4256789982318878,
          0.45863884687423706,
          0.4108528792858124,
          0.49673452973365784,
          0.4562036395072937,
          0.44451382756233215,
          0.40374037623405457,
          0.4359560012817383,
          0.43883973360061646,
          0.446187824010849,
          0.40166038274765015,
          0.465697318315506,
          0.38082969188690186,
          0.42319098114967346,
          0.39971768856048584,
          0.4780644178390503,
          0.40087366104125977,
          0.44043785333633423,
          0.42738497257232666,
          0.42787420749664307,
          0.3966824412345886,
          0.43133729696273804,
          0.39345836639404297,
          0.4234786033630371,
          0.38888001441955566,
          0.450573205947876,
          0.4134013056755066,
          0.4524543881416321,
          0.3898792862892151,
          0.44356226921081543,
          0.40608346462249756,
          0.4400634765625,
          0.38528546690940857,
          0.43057188391685486,
          0.39614230394363403
         ]
        },
        {
         "error_y": {
          "array": [],
          "type": "data"
         },
         "name": "Val Kl_Div",
         "type": "scatter",
         "y": []
        },
        {
         "name": "Regularization",
         "type": "scatter",
         "y": [
          62.098992919921876,
          61.456390380859375,
          60.8920166015625,
          60.05450439453125,
          59.620513916015625,
          58.601715087890625,
          57.79140625,
          56.87493896484375,
          55.896575927734375,
          55.323046875,
          54.24483032226563,
          53.386547851562504,
          52.228363037109375,
          51.138674926757815,
          49.934976196289064,
          48.88858337402344,
          47.73504638671875,
          46.753054809570315,
          45.62190551757813,
          44.51068115234375,
          43.193457031250006,
          42.11260070800782,
          40.60283508300782,
          39.63341979980469,
          38.11177978515625,
          37.041812133789065,
          35.55785827636719,
          34.75960083007813,
          33.233889770507815,
          31.613381958007814,
          30.617053222656253,
          29.72292175292969,
          28.322308349609376,
          27.175225830078126,
          25.993310546875,
          25.04000701904297,
          23.984480285644533,
          22.56317138671875,
          21.929014587402346,
          20.975819396972657,
          19.718460083007812,
          18.9451171875,
          18.109878540039062,
          17.117202758789062,
          16.366108703613282,
          15.92205810546875,
          15.131695556640626,
          14.423367309570313,
          13.652671813964844,
          13.307437133789064,
          12.338738250732423,
          12.109761810302736,
          11.455343627929688,
          11.015625,
          10.76300735473633,
          10.123616790771486,
          9.75999984741211,
          9.382343292236328,
          9.09559326171875,
          8.545132446289063,
          8.362554168701172,
          8.060124969482422,
          7.822702789306641,
          7.537562561035156,
          7.285124969482422,
          6.977390289306641,
          6.925296783447266,
          6.520015716552734,
          6.4693748474121096,
          6.148312377929688,
          6.1132656097412115,
          5.777718734741211,
          5.625640487670899,
          5.478031158447266,
          5.414937210083008,
          5.333406066894532,
          5.183226394653321,
          5.099538803100586,
          4.89532814025879,
          4.916328048706055,
          4.694148254394531,
          4.481546783447266,
          4.4632812500000005,
          4.398234176635742,
          4.328968811035156,
          4.178718566894531,
          4.143453216552735,
          4.0303905487060545,
          3.898202896118164,
          4.006859207153321,
          3.7797500610351564,
          3.7967655181884767,
          3.6637344360351562,
          3.601968765258789,
          3.5214607238769533,
          3.547640609741211,
          3.437781143188477,
          3.250671768188477,
          3.2764060974121096,
          3.403062438964844,
          3.194609260559082,
          3.281750106811524,
          3.066812515258789,
          3.142937469482422,
          3.0563123703002932,
          2.953343772888184,
          2.969546890258789,
          3.0053749084472656,
          2.8739452362060547,
          2.7976249694824222,
          2.686796760559082,
          2.8280155181884767,
          2.734328079223633,
          2.6813905715942385,
          2.7486093521118167,
          2.5339530944824222,
          2.578351593017578,
          2.6118202209472656,
          2.3912343978881836,
          2.4356092453002933,
          2.5894920349121096,
          2.372187423706055,
          2.4215545654296875,
          2.3848514556884766,
          2.245921897888184,
          2.240414047241211,
          2.2833906173706056,
          2.2826406478881838,
          2.312343788146973,
          2.161671829223633,
          2.273601531982422,
          2.2415781021118164,
          2.1629999160766604,
          2.1013280868530275,
          1.9968124389648438,
          2.0987108230590823,
          1.9960155487060547,
          2.028453063964844,
          1.8796953201293947,
          2.0081796646118164,
          1.9519140243530275,
          1.9772577285766602,
          1.9179922103881837,
          1.9455469131469727,
          1.8969999313354493,
          1.909749984741211,
          1.8714218139648438,
          1.8783437728881838,
          1.809820365905762,
          1.872609329223633,
          1.801742172241211,
          1.7721561431884767,
          1.8274295806884766,
          1.7871562957763674,
          1.7040311813354494,
          1.7520702362060547,
          1.7322343826293947,
          1.6823749542236328,
          1.7139141082763674,
          1.7153593063354493,
          1.6316171646118165,
          1.614406204223633,
          1.6673124313354493,
          1.6533281326293947,
          1.7072031021118166,
          1.5892343521118164,
          1.6041093826293946,
          1.5640780448913576,
          1.5915311813354494,
          1.5739999771118165,
          1.4885312080383302,
          1.6264999389648438,
          1.510374927520752,
          1.52734375,
          1.4777733802795412,
          1.4782655715942383,
          1.4134531021118164,
          1.4548749923706055,
          1.4798280715942385,
          1.4220781326293945,
          1.4408827781677247,
          1.4540468215942384,
          1.4145155906677247,
          1.4503593444824219,
          1.4452109336853027,
          1.3850468635559083,
          1.4180703163146973,
          1.411156177520752,
          1.3823514938354493,
          1.3113437652587892,
          1.3166562080383302,
          1.3559687614440918,
          1.3188202857971192,
          1.334398365020752,
          1.3022343635559084,
          1.2972499847412111,
          1.311507797241211,
          1.2043593406677247,
          1.2395077705383302,
          1.2440390586853027
         ]
        }
       ],
       "layout": {
        "template": {
         "data": {
          "bar": [
           {
            "error_x": {
             "color": "#2a3f5f"
            },
            "error_y": {
             "color": "#2a3f5f"
            },
            "marker": {
             "line": {
              "color": "#E5ECF6",
              "width": 0.5
             },
             "pattern": {
              "fillmode": "overlay",
              "size": 10,
              "solidity": 0.2
             }
            },
            "type": "bar"
           }
          ],
          "barpolar": [
           {
            "marker": {
             "line": {
              "color": "#E5ECF6",
              "width": 0.5
             },
             "pattern": {
              "fillmode": "overlay",
              "size": 10,
              "solidity": 0.2
             }
            },
            "type": "barpolar"
           }
          ],
          "carpet": [
           {
            "aaxis": {
             "endlinecolor": "#2a3f5f",
             "gridcolor": "white",
             "linecolor": "white",
             "minorgridcolor": "white",
             "startlinecolor": "#2a3f5f"
            },
            "baxis": {
             "endlinecolor": "#2a3f5f",
             "gridcolor": "white",
             "linecolor": "white",
             "minorgridcolor": "white",
             "startlinecolor": "#2a3f5f"
            },
            "type": "carpet"
           }
          ],
          "choropleth": [
           {
            "colorbar": {
             "outlinewidth": 0,
             "ticks": ""
            },
            "type": "choropleth"
           }
          ],
          "contour": [
           {
            "colorbar": {
             "outlinewidth": 0,
             "ticks": ""
            },
            "colorscale": [
             [
              0,
              "#0d0887"
             ],
             [
              0.1111111111111111,
              "#46039f"
             ],
             [
              0.2222222222222222,
              "#7201a8"
             ],
             [
              0.3333333333333333,
              "#9c179e"
             ],
             [
              0.4444444444444444,
              "#bd3786"
             ],
             [
              0.5555555555555556,
              "#d8576b"
             ],
             [
              0.6666666666666666,
              "#ed7953"
             ],
             [
              0.7777777777777778,
              "#fb9f3a"
             ],
             [
              0.8888888888888888,
              "#fdca26"
             ],
             [
              1,
              "#f0f921"
             ]
            ],
            "type": "contour"
           }
          ],
          "contourcarpet": [
           {
            "colorbar": {
             "outlinewidth": 0,
             "ticks": ""
            },
            "type": "contourcarpet"
           }
          ],
          "heatmap": [
           {
            "colorbar": {
             "outlinewidth": 0,
             "ticks": ""
            },
            "colorscale": [
             [
              0,
              "#0d0887"
             ],
             [
              0.1111111111111111,
              "#46039f"
             ],
             [
              0.2222222222222222,
              "#7201a8"
             ],
             [
              0.3333333333333333,
              "#9c179e"
             ],
             [
              0.4444444444444444,
              "#bd3786"
             ],
             [
              0.5555555555555556,
              "#d8576b"
             ],
             [
              0.6666666666666666,
              "#ed7953"
             ],
             [
              0.7777777777777778,
              "#fb9f3a"
             ],
             [
              0.8888888888888888,
              "#fdca26"
             ],
             [
              1,
              "#f0f921"
             ]
            ],
            "type": "heatmap"
           }
          ],
          "heatmapgl": [
           {
            "colorbar": {
             "outlinewidth": 0,
             "ticks": ""
            },
            "colorscale": [
             [
              0,
              "#0d0887"
             ],
             [
              0.1111111111111111,
              "#46039f"
             ],
             [
              0.2222222222222222,
              "#7201a8"
             ],
             [
              0.3333333333333333,
              "#9c179e"
             ],
             [
              0.4444444444444444,
              "#bd3786"
             ],
             [
              0.5555555555555556,
              "#d8576b"
             ],
             [
              0.6666666666666666,
              "#ed7953"
             ],
             [
              0.7777777777777778,
              "#fb9f3a"
             ],
             [
              0.8888888888888888,
              "#fdca26"
             ],
             [
              1,
              "#f0f921"
             ]
            ],
            "type": "heatmapgl"
           }
          ],
          "histogram": [
           {
            "marker": {
             "pattern": {
              "fillmode": "overlay",
              "size": 10,
              "solidity": 0.2
             }
            },
            "type": "histogram"
           }
          ],
          "histogram2d": [
           {
            "colorbar": {
             "outlinewidth": 0,
             "ticks": ""
            },
            "colorscale": [
             [
              0,
              "#0d0887"
             ],
             [
              0.1111111111111111,
              "#46039f"
             ],
             [
              0.2222222222222222,
              "#7201a8"
             ],
             [
              0.3333333333333333,
              "#9c179e"
             ],
             [
              0.4444444444444444,
              "#bd3786"
             ],
             [
              0.5555555555555556,
              "#d8576b"
             ],
             [
              0.6666666666666666,
              "#ed7953"
             ],
             [
              0.7777777777777778,
              "#fb9f3a"
             ],
             [
              0.8888888888888888,
              "#fdca26"
             ],
             [
              1,
              "#f0f921"
             ]
            ],
            "type": "histogram2d"
           }
          ],
          "histogram2dcontour": [
           {
            "colorbar": {
             "outlinewidth": 0,
             "ticks": ""
            },
            "colorscale": [
             [
              0,
              "#0d0887"
             ],
             [
              0.1111111111111111,
              "#46039f"
             ],
             [
              0.2222222222222222,
              "#7201a8"
             ],
             [
              0.3333333333333333,
              "#9c179e"
             ],
             [
              0.4444444444444444,
              "#bd3786"
             ],
             [
              0.5555555555555556,
              "#d8576b"
             ],
             [
              0.6666666666666666,
              "#ed7953"
             ],
             [
              0.7777777777777778,
              "#fb9f3a"
             ],
             [
              0.8888888888888888,
              "#fdca26"
             ],
             [
              1,
              "#f0f921"
             ]
            ],
            "type": "histogram2dcontour"
           }
          ],
          "mesh3d": [
           {
            "colorbar": {
             "outlinewidth": 0,
             "ticks": ""
            },
            "type": "mesh3d"
           }
          ],
          "parcoords": [
           {
            "line": {
             "colorbar": {
              "outlinewidth": 0,
              "ticks": ""
             }
            },
            "type": "parcoords"
           }
          ],
          "pie": [
           {
            "automargin": true,
            "type": "pie"
           }
          ],
          "scatter": [
           {
            "fillpattern": {
             "fillmode": "overlay",
             "size": 10,
             "solidity": 0.2
            },
            "type": "scatter"
           }
          ],
          "scatter3d": [
           {
            "line": {
             "colorbar": {
              "outlinewidth": 0,
              "ticks": ""
             }
            },
            "marker": {
             "colorbar": {
              "outlinewidth": 0,
              "ticks": ""
             }
            },
            "type": "scatter3d"
           }
          ],
          "scattercarpet": [
           {
            "marker": {
             "colorbar": {
              "outlinewidth": 0,
              "ticks": ""
             }
            },
            "type": "scattercarpet"
           }
          ],
          "scattergeo": [
           {
            "marker": {
             "colorbar": {
              "outlinewidth": 0,
              "ticks": ""
             }
            },
            "type": "scattergeo"
           }
          ],
          "scattergl": [
           {
            "marker": {
             "colorbar": {
              "outlinewidth": 0,
              "ticks": ""
             }
            },
            "type": "scattergl"
           }
          ],
          "scattermapbox": [
           {
            "marker": {
             "colorbar": {
              "outlinewidth": 0,
              "ticks": ""
             }
            },
            "type": "scattermapbox"
           }
          ],
          "scatterpolar": [
           {
            "marker": {
             "colorbar": {
              "outlinewidth": 0,
              "ticks": ""
             }
            },
            "type": "scatterpolar"
           }
          ],
          "scatterpolargl": [
           {
            "marker": {
             "colorbar": {
              "outlinewidth": 0,
              "ticks": ""
             }
            },
            "type": "scatterpolargl"
           }
          ],
          "scatterternary": [
           {
            "marker": {
             "colorbar": {
              "outlinewidth": 0,
              "ticks": ""
             }
            },
            "type": "scatterternary"
           }
          ],
          "surface": [
           {
            "colorbar": {
             "outlinewidth": 0,
             "ticks": ""
            },
            "colorscale": [
             [
              0,
              "#0d0887"
             ],
             [
              0.1111111111111111,
              "#46039f"
             ],
             [
              0.2222222222222222,
              "#7201a8"
             ],
             [
              0.3333333333333333,
              "#9c179e"
             ],
             [
              0.4444444444444444,
              "#bd3786"
             ],
             [
              0.5555555555555556,
              "#d8576b"
             ],
             [
              0.6666666666666666,
              "#ed7953"
             ],
             [
              0.7777777777777778,
              "#fb9f3a"
             ],
             [
              0.8888888888888888,
              "#fdca26"
             ],
             [
              1,
              "#f0f921"
             ]
            ],
            "type": "surface"
           }
          ],
          "table": [
           {
            "cells": {
             "fill": {
              "color": "#EBF0F8"
             },
             "line": {
              "color": "white"
             }
            },
            "header": {
             "fill": {
              "color": "#C8D4E3"
             },
             "line": {
              "color": "white"
             }
            },
            "type": "table"
           }
          ]
         },
         "layout": {
          "annotationdefaults": {
           "arrowcolor": "#2a3f5f",
           "arrowhead": 0,
           "arrowwidth": 1
          },
          "autotypenumbers": "strict",
          "coloraxis": {
           "colorbar": {
            "outlinewidth": 0,
            "ticks": ""
           }
          },
          "colorscale": {
           "diverging": [
            [
             0,
             "#8e0152"
            ],
            [
             0.1,
             "#c51b7d"
            ],
            [
             0.2,
             "#de77ae"
            ],
            [
             0.3,
             "#f1b6da"
            ],
            [
             0.4,
             "#fde0ef"
            ],
            [
             0.5,
             "#f7f7f7"
            ],
            [
             0.6,
             "#e6f5d0"
            ],
            [
             0.7,
             "#b8e186"
            ],
            [
             0.8,
             "#7fbc41"
            ],
            [
             0.9,
             "#4d9221"
            ],
            [
             1,
             "#276419"
            ]
           ],
           "sequential": [
            [
             0,
             "#0d0887"
            ],
            [
             0.1111111111111111,
             "#46039f"
            ],
            [
             0.2222222222222222,
             "#7201a8"
            ],
            [
             0.3333333333333333,
             "#9c179e"
            ],
            [
             0.4444444444444444,
             "#bd3786"
            ],
            [
             0.5555555555555556,
             "#d8576b"
            ],
            [
             0.6666666666666666,
             "#ed7953"
            ],
            [
             0.7777777777777778,
             "#fb9f3a"
            ],
            [
             0.8888888888888888,
             "#fdca26"
            ],
            [
             1,
             "#f0f921"
            ]
           ],
           "sequentialminus": [
            [
             0,
             "#0d0887"
            ],
            [
             0.1111111111111111,
             "#46039f"
            ],
            [
             0.2222222222222222,
             "#7201a8"
            ],
            [
             0.3333333333333333,
             "#9c179e"
            ],
            [
             0.4444444444444444,
             "#bd3786"
            ],
            [
             0.5555555555555556,
             "#d8576b"
            ],
            [
             0.6666666666666666,
             "#ed7953"
            ],
            [
             0.7777777777777778,
             "#fb9f3a"
            ],
            [
             0.8888888888888888,
             "#fdca26"
            ],
            [
             1,
             "#f0f921"
            ]
           ]
          },
          "colorway": [
           "rgb(55, 126, 184)",
           "rgb(255, 127, 0)",
           "rgb(77, 175, 74)",
           "rgb(247, 129, 191)",
           "rgb(228, 26, 28)",
           "rgb(152, 78, 163)",
           "rgb(166, 86, 40)",
           "rgb(153, 153, 153)",
           "rgb(222, 222, 0)"
          ],
          "font": {
           "color": "#2a3f5f",
           "size": 19
          },
          "geo": {
           "bgcolor": "white",
           "lakecolor": "white",
           "landcolor": "#E5ECF6",
           "showlakes": true,
           "showland": true,
           "subunitcolor": "white"
          },
          "hoverlabel": {
           "align": "left"
          },
          "hovermode": "closest",
          "mapbox": {
           "style": "light"
          },
          "paper_bgcolor": "white",
          "plot_bgcolor": "#E5ECF6",
          "polar": {
           "angularaxis": {
            "gridcolor": "white",
            "linecolor": "white",
            "ticks": ""
           },
           "bgcolor": "#E5ECF6",
           "radialaxis": {
            "gridcolor": "white",
            "linecolor": "white",
            "ticks": ""
           }
          },
          "scene": {
           "xaxis": {
            "backgroundcolor": "#E5ECF6",
            "gridcolor": "white",
            "gridwidth": 2,
            "linecolor": "white",
            "showbackground": true,
            "ticks": "",
            "zerolinecolor": "white"
           },
           "yaxis": {
            "backgroundcolor": "#E5ECF6",
            "gridcolor": "white",
            "gridwidth": 2,
            "linecolor": "white",
            "showbackground": true,
            "ticks": "",
            "zerolinecolor": "white"
           },
           "zaxis": {
            "backgroundcolor": "#E5ECF6",
            "gridcolor": "white",
            "gridwidth": 2,
            "linecolor": "white",
            "showbackground": true,
            "ticks": "",
            "zerolinecolor": "white"
           }
          },
          "shapedefaults": {
           "line": {
            "color": "#2a3f5f"
           }
          },
          "ternary": {
           "aaxis": {
            "gridcolor": "white",
            "linecolor": "white",
            "ticks": ""
           },
           "baxis": {
            "gridcolor": "white",
            "linecolor": "white",
            "ticks": ""
           },
           "bgcolor": "#E5ECF6",
           "caxis": {
            "gridcolor": "white",
            "linecolor": "white",
            "ticks": ""
           }
          },
          "title": {
           "x": 0.05
          },
          "xaxis": {
           "automargin": true,
           "gridcolor": "white",
           "linecolor": "white",
           "ticks": "",
           "title": {
            "standoff": 15
           },
           "zerolinecolor": "white",
           "zerolinewidth": 2
          },
          "yaxis": {
           "automargin": true,
           "gridcolor": "white",
           "linecolor": "white",
           "ticks": "",
           "title": {
            "standoff": 15
           },
           "zerolinecolor": "white",
           "zerolinewidth": 2
          }
         }
        },
        "title": {
         "text": "Subnetwork Probing"
        },
        "xaxis": {
         "title": {
          "text": "Step"
         }
        }
       }
      },
      "text/html": [
       "<div>                            <div id=\"b73828b7-a53d-4af4-8375-a8076939f2c9\" class=\"plotly-graph-div\" style=\"height:525px; width:100%;\"></div>            <script type=\"text/javascript\">                require([\"plotly\"], function(Plotly) {                    window.PLOTLYENV=window.PLOTLYENV || {};                                    if (document.getElementById(\"b73828b7-a53d-4af4-8375-a8076939f2c9\")) {                    Plotly.newPlot(                        \"b73828b7-a53d-4af4-8375-a8076939f2c9\",                        [{\"name\":\"Loss\",\"y\":[63.54749298095703,63.009864807128906,61.933692932128906,61.45998764038086,60.648136138916016,59.7095832824707,58.6874885559082,57.92388916015625,56.806175231933594,56.236289978027344,55.2431526184082,54.17879867553711,52.99534606933594,51.95974349975586,50.74566650390625,49.65422439575195,48.50857162475586,47.51699447631836,46.30302429199219,45.21514129638672,43.90776443481445,42.820892333984375,41.31047058105469,40.3101806640625,38.80925369262695,37.74003219604492,36.219154357910156,35.437503814697266,33.88732147216797,32.27655029296875,31.263057708740234,30.40838623046875,28.919599533081055,27.838024139404297,26.683177947998047,25.715314865112305,24.598360061645508,23.19468116760254,22.446453094482422,21.627239227294922,20.312942504882812,19.60125732421875,18.761526107788086,17.697296142578125,17.031980514526367,16.523033142089844,15.696344375610352,15.062524795532227,14.283211708068848,13.873763084411621,12.875186920166016,12.665106773376465,11.957209587097168,11.538914680480957,11.30771255493164,10.722926139831543,10.323678016662598,9.938127517700195,9.616232872009277,9.15188980102539,8.901548385620117,8.629919052124023,8.4242582321167,8.067987442016602,7.801609039306641,7.542508602142334,7.429222106933594,7.033407688140869,6.997600555419922,6.623796463012695,6.620763778686523,6.322375774383545,6.135124206542969,5.989863872528076,5.951844692230225,5.801486968994141,5.744936466217041,5.616327285766602,5.459033012390137,5.412590026855469,5.216156005859375,4.980880260467529,4.980629920959473,4.965116500854492,4.835522174835205,4.686404228210449,4.672153472900391,4.553479194641113,4.421969413757324,4.484084606170654,4.269603252410889,4.244045734405518,4.171149253845215,4.098815441131592,4.034811973571777,3.9810988903045654,3.9475653171539307,3.678837299346924,3.7732834815979004,3.890157699584961,3.6940534114837646,3.806428909301758,3.56636905670166,3.6107163429260254,3.5183849334716797,3.468447208404541,3.47395396232605,3.49006986618042,3.3733413219451904,3.25955867767334,3.1965155601501465,3.28334379196167,3.1949548721313477,3.106163501739502,3.2139971256256104,3.0461392402648926,3.014293670654297,3.051720142364502,2.856353759765625,2.909345865249634,3.0738887786865234,2.830272674560547,2.8818163871765137,2.9018144607543945,2.6588423252105713,2.7055931091308594,2.721160411834717,2.7205471992492676,2.7644693851470947,2.6287970542907715,2.7326207160949707,2.6929099559783936,2.636627435684204,2.578214406967163,2.444416046142578,2.5194950103759766,2.472716808319092,2.472116231918335,2.322253704071045,2.451997756958008,2.4078619480133057,2.4077248573303223,2.3889734745025635,2.371735095977783,2.3394055366516113,2.2984511852264404,2.3129820823669434,2.305027723312378,2.2820591926574707,2.2636308670043945,2.282719850540161,2.182560443878174,2.2885494232177734,2.1803812980651855,2.1800320148468018,2.1641311645507812,2.21954607963562,2.083549976348877,2.1593289375305176,2.1237387657165527,2.0839877128601074,2.0619633197784424,2.109116315841675,2.0367493629455566,2.120915412902832,2.014913320541382,2.0627481937408447,1.974931001663208,2.0882656574249268,2.0302035808563232,1.9330450296401978,2.030240297317505,1.9463309049606323,1.9661834239959717,1.9239612817764282,1.8799259662628174,1.879150390625,1.8357046842575073,1.9030190706253052,1.8217958211898804,1.9189472198486328,1.854920506477356,1.8549535274505615,1.8777443170547485,1.8730851411819458,1.7817292213439941,1.84940767288208,1.804614543914795,1.8058301210403442,1.7002238035202026,1.767229437828064,1.7693700790405273,1.7712748050689697,1.7242777347564697,1.7457966804504395,1.7033334970474243,1.7515712976455688,1.5896449089050293,1.6700797080993652,1.640181303024292],\"type\":\"scatter\"},{\"name\":\"Kl_Div\",\"y\":[1.4484996795654297,1.5534747838974,1.0416756868362427,1.4054837226867676,1.0276238918304443,1.1078674793243408,0.8960796594619751,1.0489506721496582,0.9096009731292725,0.9132421612739563,0.9983233213424683,0.7922521829605103,0.7669834494590759,0.8210680484771729,0.810687243938446,0.7656407356262207,0.7735259532928467,0.7639394998550415,0.6811184883117676,0.7044607400894165,0.7143075466156006,0.7082915902137756,0.7076346278190613,0.6767618656158447,0.6974701881408691,0.6982192993164062,0.6612962484359741,0.6779040098190308,0.6534326076507568,0.6631694436073303,0.646003246307373,0.6854656934738159,0.5972908735275269,0.6627976298332214,0.6898676753044128,0.675308108329773,0.6138808131217957,0.6315091848373413,0.517439603805542,0.6514178514480591,0.5944832563400269,0.6561394929885864,0.6516475677490234,0.5800936818122864,0.665871262550354,0.6009749174118042,0.5646488666534424,0.6391573548316956,0.6305398941040039,0.5663264989852905,0.5364482998847961,0.5553447604179382,0.5018657445907593,0.5232893228530884,0.5447049140930176,0.5993090867996216,0.5636780261993408,0.5557847023010254,0.5206398367881775,0.6067572832107544,0.5389937162399292,0.5697938203811646,0.6015549898147583,0.5304241180419922,0.5164840221405029,0.5651182532310486,0.5039254426956177,0.5133918523788452,0.5282254815101624,0.47548413276672363,0.5074980854988098,0.5446568131446838,0.5094836950302124,0.5118326544761658,0.5369073152542114,0.4680810272693634,0.561710000038147,0.5167886018753052,0.5637047290802002,0.49626195430755615,0.5220077037811279,0.49933359026908875,0.5173488855361938,0.5668818950653076,0.506553053855896,0.507685661315918,0.5287001132965088,0.5230886936187744,0.5237666964530945,0.4772254228591919,0.4898529648780823,0.4472801387310028,0.5074150562286377,0.49684685468673706,0.5133509635925293,0.4334583878517151,0.5097842216491699,0.42816534638404846,0.49687740206718445,0.4870952069759369,0.4994440972805023,0.5246787071228027,0.4995564818382263,0.46777892112731934,0.46207261085510254,0.5151033401489258,0.5044068694114685,0.48469504714012146,0.49939602613449097,0.46193361282348633,0.5097185969352722,0.455328106880188,0.4606267213821411,0.4247729480266571,0.46538791060447693,0.5121861100196838,0.4359418451786041,0.4398999512195587,0.4651193618774414,0.47373661398887634,0.48439666628837585,0.45808541774749756,0.46026188135147095,0.5169631242752075,0.4129204750061035,0.4651789367198944,0.43776965141296387,0.4379064440727234,0.45212551951408386,0.46712520718574524,0.45901915431022644,0.45133188366889954,0.473627507686615,0.47688618302345276,0.4476034641265869,0.4207841753959656,0.47670137882232666,0.4436630606651306,0.44255828857421875,0.44381803274154663,0.4559478163719177,0.43046706914901733,0.470981240272522,0.426188200712204,0.44240570068359375,0.38870128989219666,0.4415602684020996,0.4266839027404785,0.4722387492656708,0.3910214304924011,0.4809776842594147,0.41040438413619995,0.46111977100372314,0.3932249844074249,0.47600069642066956,0.41206079721450806,0.4873116612434387,0.401174932718277,0.44541478157043457,0.40837955474853516,0.4523705244064331,0.4475570321083069,0.44180381298065186,0.38342106342315674,0.4137122333049774,0.4256789982318878,0.45863884687423706,0.4108528792858124,0.49673452973365784,0.4562036395072937,0.44451382756233215,0.40374037623405457,0.4359560012817383,0.43883973360061646,0.446187824010849,0.40166038274765015,0.465697318315506,0.38082969188690186,0.42319098114967346,0.39971768856048584,0.4780644178390503,0.40087366104125977,0.44043785333633423,0.42738497257232666,0.42787420749664307,0.3966824412345886,0.43133729696273804,0.39345836639404297,0.4234786033630371,0.38888001441955566,0.450573205947876,0.4134013056755066,0.4524543881416321,0.3898792862892151,0.44356226921081543,0.40608346462249756,0.4400634765625,0.38528546690940857,0.43057188391685486,0.39614230394363403],\"type\":\"scatter\"},{\"error_y\":{\"array\":[],\"type\":\"data\"},\"name\":\"Val Kl_Div\",\"y\":[],\"type\":\"scatter\"},{\"name\":\"Regularization\",\"y\":[62.098992919921876,61.456390380859375,60.8920166015625,60.05450439453125,59.620513916015625,58.601715087890625,57.79140625,56.87493896484375,55.896575927734375,55.323046875,54.24483032226563,53.386547851562504,52.228363037109375,51.138674926757815,49.934976196289064,48.88858337402344,47.73504638671875,46.753054809570315,45.62190551757813,44.51068115234375,43.193457031250006,42.11260070800782,40.60283508300782,39.63341979980469,38.11177978515625,37.041812133789065,35.55785827636719,34.75960083007813,33.233889770507815,31.613381958007814,30.617053222656253,29.72292175292969,28.322308349609376,27.175225830078126,25.993310546875,25.04000701904297,23.984480285644533,22.56317138671875,21.929014587402346,20.975819396972657,19.718460083007812,18.9451171875,18.109878540039062,17.117202758789062,16.366108703613282,15.92205810546875,15.131695556640626,14.423367309570313,13.652671813964844,13.307437133789064,12.338738250732423,12.109761810302736,11.455343627929688,11.015625,10.76300735473633,10.123616790771486,9.75999984741211,9.382343292236328,9.09559326171875,8.545132446289063,8.362554168701172,8.060124969482422,7.822702789306641,7.537562561035156,7.285124969482422,6.977390289306641,6.925296783447266,6.520015716552734,6.4693748474121096,6.148312377929688,6.1132656097412115,5.777718734741211,5.625640487670899,5.478031158447266,5.414937210083008,5.333406066894532,5.183226394653321,5.099538803100586,4.89532814025879,4.916328048706055,4.694148254394531,4.481546783447266,4.4632812500000005,4.398234176635742,4.328968811035156,4.178718566894531,4.143453216552735,4.0303905487060545,3.898202896118164,4.006859207153321,3.7797500610351564,3.7967655181884767,3.6637344360351562,3.601968765258789,3.5214607238769533,3.547640609741211,3.437781143188477,3.250671768188477,3.2764060974121096,3.403062438964844,3.194609260559082,3.281750106811524,3.066812515258789,3.142937469482422,3.0563123703002932,2.953343772888184,2.969546890258789,3.0053749084472656,2.8739452362060547,2.7976249694824222,2.686796760559082,2.8280155181884767,2.734328079223633,2.6813905715942385,2.7486093521118167,2.5339530944824222,2.578351593017578,2.6118202209472656,2.3912343978881836,2.4356092453002933,2.5894920349121096,2.372187423706055,2.4215545654296875,2.3848514556884766,2.245921897888184,2.240414047241211,2.2833906173706056,2.2826406478881838,2.312343788146973,2.161671829223633,2.273601531982422,2.2415781021118164,2.1629999160766604,2.1013280868530275,1.9968124389648438,2.0987108230590823,1.9960155487060547,2.028453063964844,1.8796953201293947,2.0081796646118164,1.9519140243530275,1.9772577285766602,1.9179922103881837,1.9455469131469727,1.8969999313354493,1.909749984741211,1.8714218139648438,1.8783437728881838,1.809820365905762,1.872609329223633,1.801742172241211,1.7721561431884767,1.8274295806884766,1.7871562957763674,1.7040311813354494,1.7520702362060547,1.7322343826293947,1.6823749542236328,1.7139141082763674,1.7153593063354493,1.6316171646118165,1.614406204223633,1.6673124313354493,1.6533281326293947,1.7072031021118166,1.5892343521118164,1.6041093826293946,1.5640780448913576,1.5915311813354494,1.5739999771118165,1.4885312080383302,1.6264999389648438,1.510374927520752,1.52734375,1.4777733802795412,1.4782655715942383,1.4134531021118164,1.4548749923706055,1.4798280715942385,1.4220781326293945,1.4408827781677247,1.4540468215942384,1.4145155906677247,1.4503593444824219,1.4452109336853027,1.3850468635559083,1.4180703163146973,1.411156177520752,1.3823514938354493,1.3113437652587892,1.3166562080383302,1.3559687614440918,1.3188202857971192,1.334398365020752,1.3022343635559084,1.2972499847412111,1.311507797241211,1.2043593406677247,1.2395077705383302,1.2440390586853027],\"type\":\"scatter\"}],                        {\"template\":{\"data\":{\"histogram2dcontour\":[{\"type\":\"histogram2dcontour\",\"colorbar\":{\"outlinewidth\":0,\"ticks\":\"\"},\"colorscale\":[[0.0,\"#0d0887\"],[0.1111111111111111,\"#46039f\"],[0.2222222222222222,\"#7201a8\"],[0.3333333333333333,\"#9c179e\"],[0.4444444444444444,\"#bd3786\"],[0.5555555555555556,\"#d8576b\"],[0.6666666666666666,\"#ed7953\"],[0.7777777777777778,\"#fb9f3a\"],[0.8888888888888888,\"#fdca26\"],[1.0,\"#f0f921\"]]}],\"choropleth\":[{\"type\":\"choropleth\",\"colorbar\":{\"outlinewidth\":0,\"ticks\":\"\"}}],\"histogram2d\":[{\"type\":\"histogram2d\",\"colorbar\":{\"outlinewidth\":0,\"ticks\":\"\"},\"colorscale\":[[0.0,\"#0d0887\"],[0.1111111111111111,\"#46039f\"],[0.2222222222222222,\"#7201a8\"],[0.3333333333333333,\"#9c179e\"],[0.4444444444444444,\"#bd3786\"],[0.5555555555555556,\"#d8576b\"],[0.6666666666666666,\"#ed7953\"],[0.7777777777777778,\"#fb9f3a\"],[0.8888888888888888,\"#fdca26\"],[1.0,\"#f0f921\"]]}],\"heatmap\":[{\"type\":\"heatmap\",\"colorbar\":{\"outlinewidth\":0,\"ticks\":\"\"},\"colorscale\":[[0.0,\"#0d0887\"],[0.1111111111111111,\"#46039f\"],[0.2222222222222222,\"#7201a8\"],[0.3333333333333333,\"#9c179e\"],[0.4444444444444444,\"#bd3786\"],[0.5555555555555556,\"#d8576b\"],[0.6666666666666666,\"#ed7953\"],[0.7777777777777778,\"#fb9f3a\"],[0.8888888888888888,\"#fdca26\"],[1.0,\"#f0f921\"]]}],\"heatmapgl\":[{\"type\":\"heatmapgl\",\"colorbar\":{\"outlinewidth\":0,\"ticks\":\"\"},\"colorscale\":[[0.0,\"#0d0887\"],[0.1111111111111111,\"#46039f\"],[0.2222222222222222,\"#7201a8\"],[0.3333333333333333,\"#9c179e\"],[0.4444444444444444,\"#bd3786\"],[0.5555555555555556,\"#d8576b\"],[0.6666666666666666,\"#ed7953\"],[0.7777777777777778,\"#fb9f3a\"],[0.8888888888888888,\"#fdca26\"],[1.0,\"#f0f921\"]]}],\"contourcarpet\":[{\"type\":\"contourcarpet\",\"colorbar\":{\"outlinewidth\":0,\"ticks\":\"\"}}],\"contour\":[{\"type\":\"contour\",\"colorbar\":{\"outlinewidth\":0,\"ticks\":\"\"},\"colorscale\":[[0.0,\"#0d0887\"],[0.1111111111111111,\"#46039f\"],[0.2222222222222222,\"#7201a8\"],[0.3333333333333333,\"#9c179e\"],[0.4444444444444444,\"#bd3786\"],[0.5555555555555556,\"#d8576b\"],[0.6666666666666666,\"#ed7953\"],[0.7777777777777778,\"#fb9f3a\"],[0.8888888888888888,\"#fdca26\"],[1.0,\"#f0f921\"]]}],\"surface\":[{\"type\":\"surface\",\"colorbar\":{\"outlinewidth\":0,\"ticks\":\"\"},\"colorscale\":[[0.0,\"#0d0887\"],[0.1111111111111111,\"#46039f\"],[0.2222222222222222,\"#7201a8\"],[0.3333333333333333,\"#9c179e\"],[0.4444444444444444,\"#bd3786\"],[0.5555555555555556,\"#d8576b\"],[0.6666666666666666,\"#ed7953\"],[0.7777777777777778,\"#fb9f3a\"],[0.8888888888888888,\"#fdca26\"],[1.0,\"#f0f921\"]]}],\"mesh3d\":[{\"type\":\"mesh3d\",\"colorbar\":{\"outlinewidth\":0,\"ticks\":\"\"}}],\"scatter\":[{\"fillpattern\":{\"fillmode\":\"overlay\",\"size\":10,\"solidity\":0.2},\"type\":\"scatter\"}],\"parcoords\":[{\"type\":\"parcoords\",\"line\":{\"colorbar\":{\"outlinewidth\":0,\"ticks\":\"\"}}}],\"scatterpolargl\":[{\"type\":\"scatterpolargl\",\"marker\":{\"colorbar\":{\"outlinewidth\":0,\"ticks\":\"\"}}}],\"bar\":[{\"error_x\":{\"color\":\"#2a3f5f\"},\"error_y\":{\"color\":\"#2a3f5f\"},\"marker\":{\"line\":{\"color\":\"#E5ECF6\",\"width\":0.5},\"pattern\":{\"fillmode\":\"overlay\",\"size\":10,\"solidity\":0.2}},\"type\":\"bar\"}],\"scattergeo\":[{\"type\":\"scattergeo\",\"marker\":{\"colorbar\":{\"outlinewidth\":0,\"ticks\":\"\"}}}],\"scatterpolar\":[{\"type\":\"scatterpolar\",\"marker\":{\"colorbar\":{\"outlinewidth\":0,\"ticks\":\"\"}}}],\"histogram\":[{\"marker\":{\"pattern\":{\"fillmode\":\"overlay\",\"size\":10,\"solidity\":0.2}},\"type\":\"histogram\"}],\"scattergl\":[{\"type\":\"scattergl\",\"marker\":{\"colorbar\":{\"outlinewidth\":0,\"ticks\":\"\"}}}],\"scatter3d\":[{\"type\":\"scatter3d\",\"line\":{\"colorbar\":{\"outlinewidth\":0,\"ticks\":\"\"}},\"marker\":{\"colorbar\":{\"outlinewidth\":0,\"ticks\":\"\"}}}],\"scattermapbox\":[{\"type\":\"scattermapbox\",\"marker\":{\"colorbar\":{\"outlinewidth\":0,\"ticks\":\"\"}}}],\"scatterternary\":[{\"type\":\"scatterternary\",\"marker\":{\"colorbar\":{\"outlinewidth\":0,\"ticks\":\"\"}}}],\"scattercarpet\":[{\"type\":\"scattercarpet\",\"marker\":{\"colorbar\":{\"outlinewidth\":0,\"ticks\":\"\"}}}],\"carpet\":[{\"aaxis\":{\"endlinecolor\":\"#2a3f5f\",\"gridcolor\":\"white\",\"linecolor\":\"white\",\"minorgridcolor\":\"white\",\"startlinecolor\":\"#2a3f5f\"},\"baxis\":{\"endlinecolor\":\"#2a3f5f\",\"gridcolor\":\"white\",\"linecolor\":\"white\",\"minorgridcolor\":\"white\",\"startlinecolor\":\"#2a3f5f\"},\"type\":\"carpet\"}],\"table\":[{\"cells\":{\"fill\":{\"color\":\"#EBF0F8\"},\"line\":{\"color\":\"white\"}},\"header\":{\"fill\":{\"color\":\"#C8D4E3\"},\"line\":{\"color\":\"white\"}},\"type\":\"table\"}],\"barpolar\":[{\"marker\":{\"line\":{\"color\":\"#E5ECF6\",\"width\":0.5},\"pattern\":{\"fillmode\":\"overlay\",\"size\":10,\"solidity\":0.2}},\"type\":\"barpolar\"}],\"pie\":[{\"automargin\":true,\"type\":\"pie\"}]},\"layout\":{\"autotypenumbers\":\"strict\",\"colorway\":[\"rgb(55, 126, 184)\",\"rgb(255, 127, 0)\",\"rgb(77, 175, 74)\",\"rgb(247, 129, 191)\",\"rgb(228, 26, 28)\",\"rgb(152, 78, 163)\",\"rgb(166, 86, 40)\",\"rgb(153, 153, 153)\",\"rgb(222, 222, 0)\"],\"font\":{\"color\":\"#2a3f5f\",\"size\":19},\"hovermode\":\"closest\",\"hoverlabel\":{\"align\":\"left\"},\"paper_bgcolor\":\"white\",\"plot_bgcolor\":\"#E5ECF6\",\"polar\":{\"bgcolor\":\"#E5ECF6\",\"angularaxis\":{\"gridcolor\":\"white\",\"linecolor\":\"white\",\"ticks\":\"\"},\"radialaxis\":{\"gridcolor\":\"white\",\"linecolor\":\"white\",\"ticks\":\"\"}},\"ternary\":{\"bgcolor\":\"#E5ECF6\",\"aaxis\":{\"gridcolor\":\"white\",\"linecolor\":\"white\",\"ticks\":\"\"},\"baxis\":{\"gridcolor\":\"white\",\"linecolor\":\"white\",\"ticks\":\"\"},\"caxis\":{\"gridcolor\":\"white\",\"linecolor\":\"white\",\"ticks\":\"\"}},\"coloraxis\":{\"colorbar\":{\"outlinewidth\":0,\"ticks\":\"\"}},\"colorscale\":{\"sequential\":[[0.0,\"#0d0887\"],[0.1111111111111111,\"#46039f\"],[0.2222222222222222,\"#7201a8\"],[0.3333333333333333,\"#9c179e\"],[0.4444444444444444,\"#bd3786\"],[0.5555555555555556,\"#d8576b\"],[0.6666666666666666,\"#ed7953\"],[0.7777777777777778,\"#fb9f3a\"],[0.8888888888888888,\"#fdca26\"],[1.0,\"#f0f921\"]],\"sequentialminus\":[[0.0,\"#0d0887\"],[0.1111111111111111,\"#46039f\"],[0.2222222222222222,\"#7201a8\"],[0.3333333333333333,\"#9c179e\"],[0.4444444444444444,\"#bd3786\"],[0.5555555555555556,\"#d8576b\"],[0.6666666666666666,\"#ed7953\"],[0.7777777777777778,\"#fb9f3a\"],[0.8888888888888888,\"#fdca26\"],[1.0,\"#f0f921\"]],\"diverging\":[[0,\"#8e0152\"],[0.1,\"#c51b7d\"],[0.2,\"#de77ae\"],[0.3,\"#f1b6da\"],[0.4,\"#fde0ef\"],[0.5,\"#f7f7f7\"],[0.6,\"#e6f5d0\"],[0.7,\"#b8e186\"],[0.8,\"#7fbc41\"],[0.9,\"#4d9221\"],[1,\"#276419\"]]},\"xaxis\":{\"gridcolor\":\"white\",\"linecolor\":\"white\",\"ticks\":\"\",\"title\":{\"standoff\":15},\"zerolinecolor\":\"white\",\"automargin\":true,\"zerolinewidth\":2},\"yaxis\":{\"gridcolor\":\"white\",\"linecolor\":\"white\",\"ticks\":\"\",\"title\":{\"standoff\":15},\"zerolinecolor\":\"white\",\"automargin\":true,\"zerolinewidth\":2},\"scene\":{\"xaxis\":{\"backgroundcolor\":\"#E5ECF6\",\"gridcolor\":\"white\",\"linecolor\":\"white\",\"showbackground\":true,\"ticks\":\"\",\"zerolinecolor\":\"white\",\"gridwidth\":2},\"yaxis\":{\"backgroundcolor\":\"#E5ECF6\",\"gridcolor\":\"white\",\"linecolor\":\"white\",\"showbackground\":true,\"ticks\":\"\",\"zerolinecolor\":\"white\",\"gridwidth\":2},\"zaxis\":{\"backgroundcolor\":\"#E5ECF6\",\"gridcolor\":\"white\",\"linecolor\":\"white\",\"showbackground\":true,\"ticks\":\"\",\"zerolinecolor\":\"white\",\"gridwidth\":2}},\"shapedefaults\":{\"line\":{\"color\":\"#2a3f5f\"}},\"annotationdefaults\":{\"arrowcolor\":\"#2a3f5f\",\"arrowhead\":0,\"arrowwidth\":1},\"geo\":{\"bgcolor\":\"white\",\"landcolor\":\"#E5ECF6\",\"subunitcolor\":\"white\",\"showland\":true,\"showlakes\":true,\"lakecolor\":\"white\"},\"title\":{\"x\":0.05},\"mapbox\":{\"style\":\"light\"}}},\"title\":{\"text\":\"Subnetwork Probing\"},\"xaxis\":{\"title\":{\"text\":\"Step\"}}},                        {\"responsive\": true}                    ).then(function(){\n",
       "                            \n",
       "var gd = document.getElementById('b73828b7-a53d-4af4-8375-a8076939f2c9');\n",
       "var x = new MutationObserver(function (mutations, observer) {{\n",
       "        var display = window.getComputedStyle(gd).display;\n",
       "        if (!display || display === 'none') {{\n",
       "            console.log([gd, 'removed!']);\n",
       "            Plotly.purge(gd);\n",
       "            observer.disconnect();\n",
       "        }}\n",
       "}});\n",
       "\n",
       "// Listen for the removal of the full notebook cells\n",
       "var notebookContainer = gd.closest('#notebook-container');\n",
       "if (notebookContainer) {{\n",
       "    x.observe(notebookContainer, {childList: true});\n",
       "}}\n",
       "\n",
       "// Listen for the clearing of the current output cell\n",
       "var outputEl = gd.closest('.output');\n",
       "if (outputEl) {{\n",
       "    x.observe(outputEl, {childList: true});\n",
       "}}\n",
       "\n",
       "                        })                };                });            </script>        </div>"
      ]
     },
     "metadata": {},
     "output_type": "display_data"
    },
    {
     "name": "stderr",
     "output_type": "stream",
     "text": [
      "Circuit Probing Size 50: ██████████| 3/3 [01:49<00:00, 36.40s/it]\n"
     ]
    }
   ],
   "source": [
    "if conf.prune_algo == PruneAlgo.CIRC_PROBE and conf.answer_func == AnswerFunc.KL_DIV:\n",
    "    circ_probe_ps_path = out_answer_dir / \"circ_probe_prune_scores.pkl\"\n",
    "    # if circ_probe_ps_path.exists():\n",
    "    #     circ_probe_prune_scores = torch.load(circ_probe_ps_path)\n",
    "    # else:\n",
    "    circ_probe_prune_scores = circuit_probing_prune_scores(\n",
    "        model=task.model, \n",
    "        dataloader=task.train_loader, \n",
    "        official_edges=None,\n",
    "        tree_optimisation=True,\n",
    "        faithfulness_target=conf.answer_func.value, \n",
    "        circuit_sizes=edge_counts_util(task.model.edges, conf.edge_counts, zero_edges=False),\n",
    "        learning_rate=0.1,\n",
    "        epochs=100, \n",
    "        regularize_lambda=0.1, \n",
    "        show_train_graph=True,\n",
    "    )\n",
    "    if conf.save_cache:\n",
    "        torch.save(circ_probe_prune_scores, circ_probe_ps_path)"
   ]
  },
  {
   "cell_type": "markdown",
   "metadata": {},
   "source": [
    "## Activation Patching Prune Scores"
   ]
  },
  {
   "cell_type": "code",
   "execution_count": 10,
   "metadata": {},
   "outputs": [
    {
     "name": "stderr",
     "output_type": "stream",
     "text": [
      "/tmp/ipykernel_570095/3009715161.py:4: FutureWarning: You are using `torch.load` with `weights_only=False` (the current default value), which uses the default pickle module implicitly. It is possible to construct malicious pickle data which will execute arbitrary code during unpickling (See https://github.com/pytorch/pytorch/blob/main/SECURITY.md#untrusted-models for more details). In a future release, the default value for `weights_only` will be flipped to `True`. This limits the functions that could be executed during unpickling. Arbitrary objects will no longer be allowed to be loaded via this mode unless they are explicitly allowlisted by the user via `torch.serialization.add_safe_globals`. We recommend you start setting `weights_only=True` for any use case where you don't have full control of the loaded file. Please open an issue on GitHub for any issues related to this experimental feature.\n",
      "  act_prune_scores = torch.load(act_ps_path, map_location=\"cpu\")\n"
     ]
    }
   ],
   "source": [
    "# load from cache if exists \n",
    "act_ps_path = out_answer_dir / \"act_patch_prune_scores.pt\"\n",
    "if act_ps_path.exists():\n",
    "    act_prune_scores = torch.load(act_ps_path, map_location=\"cpu\")\n",
    "else:\n",
    "    act_prune_scores = None\n",
    "\n",
    "# # if act_patch and act_patch doesn't exist, exit\n",
    "# if conf.prune_algo == PruneAlgo.ACT_PATCH and act_prune_scores is None:\n",
    "#     print(\"act_patch_prune_scores.pkl not found, exiting\")\n",
    "#     exit()"
   ]
  },
  {
   "cell_type": "markdown",
   "metadata": {},
   "source": [
    "##  Attribution Patching Prune Scores"
   ]
  },
  {
   "cell_type": "code",
   "execution_count": 11,
   "metadata": {},
   "outputs": [
    {
     "name": "stderr",
     "output_type": "stream",
     "text": [
      "Layer: 0██████████| 1/1 [00:02<00:00,  2.19s/it]\n"
     ]
    }
   ],
   "source": [
    "if conf.prune_algo == PruneAlgo.ATTR_PATCH:\n",
    "    attr_ps_name = \"attrib_patch_prune_scores\"\n",
    "    attr_ps_path = (ps_dir / attr_ps_name).with_suffix(\".pt\")\n",
    "    # if (attr_ps_path).exists():\n",
    "    #     attr_prune_scores = torch.load(attr_ps_path)\n",
    "    # else: \n",
    "    max_layer = max([edge.src.layer for edge in task.model.edges])\n",
    "\n",
    "    attr_prune_scores = mask_gradient_prune_scores(\n",
    "        model=task.model, \n",
    "        dataloader=task.train_loader,\n",
    "        official_edges=None,\n",
    "        grad_function=conf.grad_func.value, \n",
    "        answer_function=conf.answer_func.value, #answer_func,\n",
    "        mask_val=0.0 if conf.ig_samples is None else None, \n",
    "        ablation_type=conf.ablation_type,\n",
    "        integrated_grad_samples=conf.ig_samples, \n",
    "        layers=max_layer if conf.layerwise else None,\n",
    "        clean_corrupt=conf.clean_corrupt,\n",
    "    )\n",
    "    attr_prune_scores = {mod_name: score.to(\"cpu\") for mod_name, score in attr_prune_scores.items()}\n",
    "    if conf.save_cache:\n",
    "        torch.save(attr_prune_scores, attr_ps_path)"
   ]
  },
  {
   "cell_type": "markdown",
   "metadata": {},
   "source": [
    "##  Compare Activation and Attribution Patching"
   ]
  },
  {
   "cell_type": "code",
   "execution_count": 12,
   "metadata": {},
   "outputs": [],
   "source": [
    "if conf.prune_algo == PruneAlgo.ATTR_PATCH and act_prune_scores is not None:\n",
    "    # order = sorted(list(act_prune_scores.keys()), key=lambda x: int(x.split('.')[1]))\n",
    "    order = list(act_prune_scores.keys())\n",
    "    act_prune_scores_flat = flat_prune_scores_ordered(act_prune_scores, order=order)\n",
    "    attr_prune_scores_flat = flat_prune_scores_ordered(attr_prune_scores, order=order)"
   ]
  },
  {
   "cell_type": "markdown",
   "metadata": {},
   "source": [
    "### MSE"
   ]
  },
  {
   "cell_type": "code",
   "execution_count": 13,
   "metadata": {},
   "outputs": [
    {
     "name": "stdout",
     "output_type": "stream",
     "text": [
      "{'median_se': 3.396384897769167e-07, 'mean_se': 0.009668508544564247}\n"
     ]
    }
   ],
   "source": [
    "# mse and median se\n",
    "if conf.prune_algo == PruneAlgo.ATTR_PATCH and act_prune_scores is not None:\n",
    "    mse_result_name = \"act_attr_mse\"\n",
    "    mse_result_path = (ps_dir / mse_result_name).with_suffix(\".json\")\n",
    "    if mse_result_path.exists():\n",
    "        mse_result = load_json(ps_dir, mse_result_name + '.json')\n",
    "    else:\n",
    "        prune_score_diffs = [\n",
    "            (act_prune_scores[mod_name] - attr_prune_scores[mod_name]).flatten()\n",
    "            for mod_name, _patch_mask in task.model.patch_masks.items()\n",
    "        ]\n",
    "        sq_error = torch.concat(prune_score_diffs).pow(2)\n",
    "        median_se = sq_error.median()\n",
    "        mean_se = sq_error.mean()\n",
    "        mse_result = {\n",
    "            \"median_se\": median_se.item(),\n",
    "            \"mean_se\": mean_se.item(),\n",
    "        }\n",
    "        save_json(mse_result, ps_dir, mse_result_name)\n",
    "    print(mse_result)"
   ]
  },
  {
   "cell_type": "markdown",
   "metadata": {},
   "source": [
    "### Spearman Rank Correlation"
   ]
  },
  {
   "cell_type": "code",
   "execution_count": 14,
   "metadata": {},
   "outputs": [
    {
     "name": "stdout",
     "output_type": "stream",
     "text": [
      "abs corr: 0.9568597695434886, abs p-value: 0.0\n",
      "corr: 0.9429650047563111, p-value: 0.0\n",
      "Saving json to /nas/ucb/oliveradk/auto-circuit-tests/output/hypo_test_results/Indirect_Object_Identification_Component_Circuit/RESAMPLE/LOGIT_MAX_DIFF/None_False/spearman_results.json\n"
     ]
    }
   ],
   "source": [
    "if conf.prune_algo == PruneAlgo.ATTR_PATCH and act_prune_scores is not None:\n",
    "    from scipy import stats \n",
    "    abs_corr, abs_p_value = stats.spearmanr(act_prune_scores_flat.abs().cpu(), attr_prune_scores_flat.abs().cpu())\n",
    "    corr, p_value = stats.spearmanr(act_prune_scores_flat.cpu(), attr_prune_scores_flat.cpu())\n",
    "    print(f\"abs corr: {abs_corr}, abs p-value: {abs_p_value}\")\n",
    "    print(f\"corr: {corr}, p-value: {p_value}\")\n",
    "\n",
    "    spearman_results = {\n",
    "        \"abs_corr\": abs_corr,\n",
    "        \"abs_p_value\": abs_p_value,\n",
    "        \"corr\": corr,\n",
    "        \"p_value\": p_value,\n",
    "    }\n",
    "    save_json(spearman_results, ps_dir, \"spearman_results\")"
   ]
  },
  {
   "cell_type": "markdown",
   "metadata": {},
   "source": [
    "### Plot Rank "
   ]
  },
  {
   "cell_type": "code",
   "execution_count": 15,
   "metadata": {},
   "outputs": [],
   "source": [
    "# get rank for scores\n",
    "if conf.prune_algo == PruneAlgo.ATTR_PATCH and act_prune_scores is not None:\n",
    "    act_prune_scores_rank = get_el_rank(act_prune_scores_flat.cpu())\n",
    "    attr_prune_scores_rank = get_el_rank(attr_prune_scores_flat.cpu())\n",
    "\n",
    "    act_prune_scores_0 = (act_prune_scores_flat == 0).cpu()\n",
    "    act_prune_scores_0_rank = act_prune_scores_rank[act_prune_scores_0]\n",
    "    min_0_rank, max_0_rank = act_prune_scores_0_rank.min().item(), act_prune_scores_0_rank.max().item()"
   ]
  },
  {
   "cell_type": "code",
   "execution_count": 16,
   "metadata": {},
   "outputs": [],
   "source": [
    "if conf.prune_algo == PruneAlgo.ATTR_PATCH and act_prune_scores is not None:\n",
    "    # TODO: plot x=0\n",
    "    plt.scatter(act_prune_scores_rank, attr_prune_scores_rank, s=0.1)\n",
    "    # plot min rank, max rank as vertical lines\n",
    "    plt.axvline(min_0_rank, color='blue', linestyle='--')\n",
    "    plt.axvline(max_0_rank, color='blue', linestyle='--')\n",
    "    # shade area between min and max rank\n",
    "    plt.axvspan(min_0_rank, max_0_rank, color='lightblue', alpha=0.5)\n",
    "    \n",
    "    plt.xlabel(\"Act Patch Rank\")\n",
    "    plt.ylabel(\"Attrib Patch Rank\")\n",
    "    plt.title(\"Rank Correlation\")\n",
    "\n",
    "    plt.savefig(ps_dir / \"rank_corr.png\")\n",
    "    plt.close()"
   ]
  },
  {
   "cell_type": "code",
   "execution_count": 17,
   "metadata": {},
   "outputs": [],
   "source": [
    "# TODO: I think there must be a bug? \n",
    "# get rank for scores\n",
    "if conf.prune_algo == PruneAlgo.ATTR_PATCH and act_prune_scores is not None:\n",
    "    act_prune_scores_abs_rank = get_el_rank(act_prune_scores_flat.abs().cpu())\n",
    "    attr_prune_scores_abs_rank = get_el_rank(attr_prune_scores_flat.abs().cpu())\n",
    "\n",
    "    max_0_rank = act_prune_scores_abs_rank[act_prune_scores_0].max().item()\n",
    "\n",
    "    plt.scatter(act_prune_scores_abs_rank, attr_prune_scores_abs_rank, s=0.1)\n",
    "    # plot max rank as vertical lines\n",
    "    plt.axvline(max_0_rank, color='blue', linestyle='--')\n",
    "    # shade area between min and max rank\n",
    "    plt.axvspan(0, max_0_rank, color='lightblue', alpha=0.5)\n",
    "\n",
    "    \n",
    "    plt.xlabel(\"Act Patch Rank\")\n",
    "    plt.ylabel(\"Attrib Patch Rank\")\n",
    "    plt.title(\"Rank Correlation Abs\")\n",
    "    plt.savefig(ps_dir / \"rank_corr_abs.png\")\n",
    "    plt.close()"
   ]
  },
  {
   "cell_type": "markdown",
   "metadata": {},
   "source": [
    "### Compute Fraction of \"Mis-Signed\" Components"
   ]
  },
  {
   "cell_type": "code",
   "execution_count": 18,
   "metadata": {},
   "outputs": [
    {
     "name": "stdout",
     "output_type": "stream",
     "text": [
      "Fraction of missigned: 0.05980117619037628\n",
      "Saving json to /nas/ucb/oliveradk/auto-circuit-tests/output/hypo_test_results/Indirect_Object_Identification_Component_Circuit/RESAMPLE/LOGIT_MAX_DIFF/None_False/missigned.json\n"
     ]
    }
   ],
   "source": [
    "if conf.prune_algo == PruneAlgo.ATTR_PATCH and act_prune_scores is not None:\n",
    "    num_missigned = (act_prune_scores_flat.sign() != attr_prune_scores_flat.sign()).sum()\n",
    "    frac_missigned = num_missigned / len(act_prune_scores_flat)\n",
    "    print(f\"Fraction of missigned: {frac_missigned}\")\n",
    "    save_json({\"frac_missigned\": frac_missigned.item()}, ps_dir, \"missigned\")"
   ]
  },
  {
   "cell_type": "markdown",
   "metadata": {},
   "source": [
    "### Compute Fraction of Edges Recovered for Each Edge Threshold"
   ]
  },
  {
   "cell_type": "code",
   "execution_count": 19,
   "metadata": {},
   "outputs": [
    {
     "name": "stdout",
     "output_type": "stream",
     "text": [
      "Saving json to /nas/ucb/oliveradk/auto-circuit-tests/output/hypo_test_results/Indirect_Object_Identification_Component_Circuit/RESAMPLE/LOGIT_MAX_DIFF/None_False/frac_edges_recovered.json\n"
     ]
    }
   ],
   "source": [
    "# for different edge thresholds, compute fraction of edges not included in top k\n",
    "if conf.prune_algo == PruneAlgo.ATTR_PATCH and act_prune_scores is not None:\n",
    "    edge_counts = edge_counts_util(task.model.edges, conf.edge_counts, zero_edges=True)\n",
    "\n",
    "    frac_edges_recovered: Dict[int, float] = {}\n",
    "\n",
    "    for edge_count in edge_counts:\n",
    "        # get indicies where act_prune_scores_abs_rank >= task.n_edges - edge_count\n",
    "        act_indices = act_prune_scores_abs_rank >= task.model.n_edges - edge_count\n",
    "        frac_edges_recovered[edge_count] = (attr_prune_scores_abs_rank[act_indices] >= task.model.n_edges - edge_count).to(t.float).mean().item()\n",
    "\n",
    "    save_json(frac_edges_recovered, ps_dir, \"frac_edges_recovered\")"
   ]
  },
  {
   "cell_type": "markdown",
   "metadata": {},
   "source": [
    "### Parition by Dest Component\n",
    "\n",
    "We partion by Dest B/c we expect difficulties to arise from estimating effects that route through non-linearities"
   ]
  },
  {
   "cell_type": "code",
   "execution_count": 20,
   "metadata": {},
   "outputs": [],
   "source": [
    "from auto_circuit_tests.edge_graph import NodeType\n",
    "\n",
    "def mod_name_to_layer_and_node_type(mod_name: str) -> Tuple[int, NodeType]:\n",
    "    _blocks, layer, node_type_str = mod_name.split('.')\n",
    "    layer = int(layer)\n",
    "    if node_type_str == \"hook_k_input\":\n",
    "        node_type = NodeType.K \n",
    "    elif node_type_str == \"hook_q_input\":\n",
    "        node_type = NodeType.Q\n",
    "    elif node_type_str == \"hook_v_input\":\n",
    "        node_type = NodeType.V\n",
    "    elif node_type_str == \"hook_resid_post\":\n",
    "        node_type = NodeType.RESID_END \n",
    "    elif node_type_str == \"hook_mlp_in\":\n",
    "        node_type = NodeType.MLP\n",
    "    else: \n",
    "        raise ValueError(f\"Unknown node type: {node_type_str}\")\n",
    "    return layer, node_type"
   ]
  },
  {
   "cell_type": "code",
   "execution_count": 21,
   "metadata": {},
   "outputs": [],
   "source": [
    "if conf.prune_algo == PruneAlgo.ATTR_PATCH:\n",
    "    from auto_circuit_tests.edge_graph import NodeType\n",
    "    # compute ranking by flatten by order, including module name \n",
    "    def prune_score_rankings_by_component(\n",
    "        prune_scores: PruneScores, \n",
    "        prune_scores_rank: torch.Tensor, \n",
    "        order: list[str]\n",
    "    ) -> dict[tuple[int, NodeType], list[int]]:\n",
    "        # collect mod_name ranking tuples\n",
    "        flat_mod_names = [] \n",
    "        for mod_name in order:\n",
    "            flat_mod_names.extend([mod_name for _ in range(prune_scores[mod_name].numel())])\n",
    "        # get ranking by component type and layer\n",
    "        rank_by_component: dict[tuple[int, NodeType], list[int]] = defaultdict(list)\n",
    "        for mod_name, rank in zip(flat_mod_names, prune_scores_rank):\n",
    "            layer, node_type = mod_name_to_layer_and_node_type(mod_name)\n",
    "            rank_by_component[(layer, node_type)].append(rank)\n",
    "        return rank_by_component\n",
    "\n",
    "    act_rank_by_component = prune_score_rankings_by_component(act_prune_scores, act_prune_scores_abs_rank, order)\n",
    "    attr_rank_by_component = prune_score_rankings_by_component(attr_prune_scores, attr_prune_scores_abs_rank, order)"
   ]
  },
  {
   "cell_type": "code",
   "execution_count": 22,
   "metadata": {},
   "outputs": [
    {
     "name": "stdout",
     "output_type": "stream",
     "text": [
      "Saving json to /nas/ucb/oliveradk/auto-circuit-tests/output/hypo_test_results/Indirect_Object_Identification_Component_Circuit/RESAMPLE/LOGIT_MAX_DIFF/None_False/rank_cor_by_component.json\n"
     ]
    }
   ],
   "source": [
    "if conf.prune_algo == PruneAlgo.ATTR_PATCH and act_prune_scores is not None:\n",
    "    import matplotlib.pyplot as plt\n",
    "    import numpy as np\n",
    "\n",
    "    # plot ranks for each component type all in one figure\n",
    "    n_layers = max([layer for layer, _ in act_rank_by_component.keys()])\n",
    "    components = sorted(list(set([node_type for _, node_type in act_rank_by_component.keys()])), key=lambda x: x.value)\n",
    "\n",
    "    # Create a 2D array to store the Axes objects\n",
    "    axs = np.empty((len(components), n_layers + 1), dtype=object)\n",
    "\n",
    "    # Create the figure without subplots initially\n",
    "    fig = plt.figure(figsize=(3 * (n_layers+1), 3 * len(components)))\n",
    "\n",
    "\n",
    "    rank_correlations: dict[tuple[int, NodeType], float] = {}\n",
    "    for layer in range(0, n_layers + 1):\n",
    "        for i, node_type in enumerate(components):\n",
    "            act_ranks = act_rank_by_component[(layer, node_type)]\n",
    "            attr_ranks = attr_rank_by_component[(layer, node_type)]\n",
    "            \n",
    "            if len(act_ranks) == 0 and len(attr_ranks) == 0:\n",
    "                continue\n",
    "\n",
    "            # compute rank correlation\n",
    "            corr, p_value = stats.spearmanr(act_ranks, attr_ranks)\n",
    "            rank_correlations[(layer, node_type)] = corr\n",
    "            \n",
    "            # Create a subplot only if there's data to plot\n",
    "            ax = fig.add_subplot(len(components), (n_layers+1), (i * (n_layers+1)) + layer+1)\n",
    "            ax.scatter(act_ranks, attr_ranks, s=1)\n",
    "            # set title below scatter plot\n",
    "            ax.set_title(f\"Correlation: {corr:.2f}\", y=-0.20)\n",
    "\n",
    "            \n",
    "            # Store the Axes object in our 2D array\n",
    "            axs[i, layer - 1] = ax\n",
    "\n",
    "            # Add x-label at the top\n",
    "            if i == 0:\n",
    "                ax.xaxis.set_label_position('top')\n",
    "                ax.set_xlabel(f\"Layer {layer}\", fontweight='bold')\n",
    "            \n",
    "            # Add y-label on the left\n",
    "            if layer == 0 or node_type == NodeType.RESID_END:\n",
    "                ax.set_ylabel(str(node_type.name), fontweight='bold')\n",
    "\n",
    "    # Remove empty spaces in the figure\n",
    "    fig.tight_layout()\n",
    "    # Adjust the spacing between subplots\n",
    "    plt.subplots_adjust(wspace=0.3, hspace=0.3)\n",
    "\n",
    "    # save figure\n",
    "\n",
    "    plt.savefig(ps_dir / \"rank_corr_by_component.png\")\n",
    "    plt.close()\n",
    "\n",
    "\n",
    "    # save rank correlations\n",
    "    save_json({str(k): v for k, v in rank_correlations.items()}, ps_dir, \"rank_cor_by_component\")"
   ]
  },
  {
   "cell_type": "markdown",
   "metadata": {},
   "source": [
    "### Plot Scores"
   ]
  },
  {
   "cell_type": "code",
   "execution_count": 23,
   "metadata": {},
   "outputs": [],
   "source": [
    "if conf.prune_algo == PruneAlgo.ATTR_PATCH and act_prune_scores is not None:\n",
    "    # plot scores on x, y\n",
    "    plt.scatter(act_prune_scores_flat.cpu(), attr_prune_scores_flat.cpu(), alpha=0.25)\n",
    "    plt.xlabel(\"Act Patch Scores\")\n",
    "    plt.ylabel(\"Attrib Patch Scores\")\n",
    "    plt.xscale(\"symlog\")\n",
    "    plt.yscale(\"symlog\")\n",
    "    plt.savefig(ps_dir / \"act_attr_scores.png\")\n",
    "    plt.close()"
   ]
  },
  {
   "cell_type": "code",
   "execution_count": 24,
   "metadata": {},
   "outputs": [],
   "source": [
    "if conf.prune_algo == PruneAlgo.ATTR_PATCH and act_prune_scores is not None:\n",
    "    # plot scores on x, y\n",
    "    plt.scatter(act_prune_scores_flat.abs().cpu(), attr_prune_scores_flat.abs().cpu(), alpha=0.25)\n",
    "    plt.xlabel(\"Act Patch Scores\")\n",
    "    plt.ylabel(\"Attrib Patch Scores\")\n",
    "    plt.xscale(\"log\")\n",
    "    plt.yscale(\"log\")\n",
    "    plt.savefig(ps_dir / \"act_attr_abs_scores.png\")\n",
    "    plt.close()\n"
   ]
  },
  {
   "cell_type": "markdown",
   "metadata": {},
   "source": [
    "# Construt Circuits from Prune Scores "
   ]
  },
  {
   "cell_type": "markdown",
   "metadata": {},
   "source": [
    "Constructing circuits from prune scores using either edge or fraction of prune score thresholds"
   ]
  },
  {
   "cell_type": "code",
   "execution_count": 15,
   "metadata": {},
   "outputs": [],
   "source": [
    "# set prune scores\n",
    "if conf.prune_algo == PruneAlgo.ACDC:\n",
    "    prune_scores = auto_prune_scores\n",
    "elif conf.prune_algo == PruneAlgo.CIRC_PROBE:\n",
    "    prune_scores = circ_probe_prune_scores\n",
    "elif conf.prune_algo == PruneAlgo.ACT_PATCH:\n",
    "    prune_scores = act_prune_scores\n",
    "else:\n",
    "    prune_scores = attr_prune_scores\n",
    "\n",
    "prune_scores = {mod_name: score.to(task.device) for mod_name, score in prune_scores.items()}\n",
    "# sort prune scores\n",
    "sorted_prune_scores = desc_prune_scores(prune_scores)"
   ]
  },
  {
   "cell_type": "code",
   "execution_count": 26,
   "metadata": {},
   "outputs": [],
   "source": [
    "# plot prune scores\n",
    "def plot_prune_scores(edge_scores):\n",
    "    fig, ax = plt.subplots()\n",
    "    # plot edge scores with x labels max to 0 \n",
    "    ax.plot(sorted(edge_scores, reverse=True))\n",
    "    ax.set_xlim(len(edge_scores), 0)\n",
    "    # log axis \n",
    "    ax.set_yscale('log')\n",
    "    ax.set_xlabel(\"Edge Count\")\n",
    "    ax.set_ylabel(\"Edge Score\")\n",
    "    return fig, ax\n",
    "\n",
    "fig, ax = plot_prune_scores(sorted_prune_scores.cpu().numpy().tolist())\n",
    "plt.savefig(ps_dir / \"edge_scores.png\")\n",
    "plt.close()"
   ]
  },
  {
   "cell_type": "code",
   "execution_count": 16,
   "metadata": {},
   "outputs": [
    {
     "name": "stdout",
     "output_type": "stream",
     "text": [
      "Saving json to /nas/ucb/oliveradk/auto-circuit-tests/output/hypo_test_results/Docstring_Token_Circuit/RESAMPLE/LOGPROB_KL_DIV/circ_probe/edges/n_circ_edges.json\n"
     ]
    }
   ],
   "source": [
    "# compute n_edges \n",
    "from auto_circuit.utils.graph_utils import edge_counts_util\n",
    "circ_edges = []\n",
    "if conf.prune_algo == PruneAlgo.ACDC:\n",
    "     circ_edges = [\n",
    "         t.sum(t.cat([t.flatten(v) for v in auto_prune_scores.values()]) > tao).item()\n",
    "        for tao in taos\n",
    "    ]\n",
    "     circ_thresholds = taos[1:] + [t.inf] # prune scores set to tau if change less than tau\n",
    "elif conf.prune_algo == PruneAlgo.CIRC_PROBE:\n",
    "     # get size of each circuit and thresholds \n",
    "    circ_edges = edge_counts_util(task.model.edges, prune_scores=prune_scores, zero_edges=False)\n",
    "    circ_thresholds = [sorted_prune_scores[n_edges-1].item() for n_edges in circ_edges]\n",
    "else:\n",
    "    circ_edges = edge_counts_util(task.model.edges, conf.edge_counts, zero_edges=False)\n",
    "    circ_thresholds = [sorted_prune_scores[n_edges-1].item() for n_edges in circ_edges]\n",
    "\n",
    "save_json(circ_edges, edge_dir, \"n_circ_edges\")"
   ]
  },
  {
   "cell_type": "markdown",
   "metadata": {},
   "source": [
    "# Faithfulness: % Loss Recovered and Equivalence Test"
   ]
  },
  {
   "cell_type": "markdown",
   "metadata": {},
   "source": [
    "Use equivalence test from Shi et al to test a. if not equivalent and b. if equivalent\n",
    "\n",
    "We also compute: \n",
    "- mean absolute error: E[abs(score(M) - score(C))] \n",
    "(spiritually similar to Transfomer Circuits not Robust and this comment https://www.lesswrong.com/posts/kcZZAsEjwrbczxN2i/causal-scrubbing-appendix#hJoCMcgXpk8jBLvb7, we don't do fraction of recovered b/c the negatives are weird and annoying)\n",
    "- mean difference: E[score(M)] - E[score(C)] \n",
    "(kind of a middle ground, measuring bias)\n",
    "- frac mean difference recovered: E[score(C)] - E[score(A)] / E[score(M)] - E[score(A)] \n",
    "(SAE work, similar to causal scrubbing, don't need to worry about variance)"
   ]
  },
  {
   "cell_type": "code",
   "execution_count": 28,
   "metadata": {},
   "outputs": [
    {
     "name": "stderr",
     "output_type": "stream",
     "text": [
      "Pruning Batch 3██████████| 4/4 [00:00<00:00,  4.83it/s]\n",
      "Pruning Batch 3██████████| 4/4 [00:00<00:00,  4.37it/s]\n"
     ]
    }
   ],
   "source": [
    "# first full model outt and ablated model out\n",
    "\n",
    "with t.inference_mode():\n",
    "    model_out_train: BatchOutputs = {\n",
    "        batch.key: task.model(batch.clean)[task.model.out_slice] \n",
    "        for batch in task.train_loader\n",
    "    }\n",
    "    model_out_test: BatchOutputs = {\n",
    "        batch.key: task.model(batch.clean)[task.model.out_slice] \n",
    "        for batch in task.test_loader\n",
    "    }\n",
    "\n",
    "ablated_out_train: BatchOutputs = run_fully_ablated_model(\n",
    "    model=task.model,\n",
    "    dataloader=task.train_loader,\n",
    "    ablation_type=conf.ablation_type,\n",
    ")\n",
    "\n",
    "ablated_out_test: BatchOutputs = run_fully_ablated_model(\n",
    "    model=task.model,\n",
    "    dataloader=task.test_loader,\n",
    "    ablation_type=conf.ablation_type,\n",
    ")"
   ]
  },
  {
   "cell_type": "code",
   "execution_count": 29,
   "metadata": {},
   "outputs": [
    {
     "name": "stderr",
     "output_type": "stream",
     "text": [
      "Pruning Batch 3██████████| 4/4 [00:26<00:00,  6.59s/it]\n",
      "Pruning Batch 0          | 0/4 [00:05<?, ?it/s]\n"
     ]
    },
    {
     "ename": "KeyboardInterrupt",
     "evalue": "",
     "output_type": "error",
     "traceback": [
      "\u001b[0;31m---------------------------------------------------------------------------\u001b[0m",
      "\u001b[0;31mKeyboardInterrupt\u001b[0m                         Traceback (most recent call last)",
      "Cell \u001b[0;32mIn[29], line 15\u001b[0m\n\u001b[1;32m      4\u001b[0m circuit_outs_train: CircuitOutputs \u001b[38;5;241m=\u001b[39m run_circuits(\n\u001b[1;32m      5\u001b[0m     model\u001b[38;5;241m=\u001b[39mtask\u001b[38;5;241m.\u001b[39mmodel, \n\u001b[1;32m      6\u001b[0m     dataloader\u001b[38;5;241m=\u001b[39mtask\u001b[38;5;241m.\u001b[39mtrain_loader,\n\u001b[0;32m   (...)\u001b[0m\n\u001b[1;32m     11\u001b[0m     reverse_clean_corrupt\u001b[38;5;241m=\u001b[39m\u001b[38;5;28;01mFalse\u001b[39;00m, \n\u001b[1;32m     12\u001b[0m )\n\u001b[1;32m     13\u001b[0m circuit_outs_train \u001b[38;5;241m=\u001b[39m \u001b[38;5;28mdict\u001b[39m(circuit_outs_train)\n\u001b[0;32m---> 15\u001b[0m circuit_outs_test: CircuitOutputs \u001b[38;5;241m=\u001b[39m \u001b[43mrun_circuits\u001b[49m\u001b[43m(\u001b[49m\n\u001b[1;32m     16\u001b[0m \u001b[43m    \u001b[49m\u001b[43mmodel\u001b[49m\u001b[38;5;241;43m=\u001b[39;49m\u001b[43mtask\u001b[49m\u001b[38;5;241;43m.\u001b[39;49m\u001b[43mmodel\u001b[49m\u001b[43m,\u001b[49m\u001b[43m \u001b[49m\n\u001b[1;32m     17\u001b[0m \u001b[43m    \u001b[49m\u001b[43mdataloader\u001b[49m\u001b[38;5;241;43m=\u001b[39;49m\u001b[43mtask\u001b[49m\u001b[38;5;241;43m.\u001b[39;49m\u001b[43mtest_loader\u001b[49m\u001b[43m,\u001b[49m\n\u001b[1;32m     18\u001b[0m \u001b[43m    \u001b[49m\u001b[43mprune_scores\u001b[49m\u001b[38;5;241;43m=\u001b[39;49m\u001b[43mprune_scores\u001b[49m\u001b[43m,\u001b[49m\n\u001b[1;32m     19\u001b[0m \u001b[43m    \u001b[49m\u001b[43mtest_edge_counts\u001b[49m\u001b[38;5;241;43m=\u001b[39;49m\u001b[43mcirc_edges\u001b[49m\u001b[43m,\u001b[49m\n\u001b[1;32m     20\u001b[0m \u001b[43m    \u001b[49m\u001b[43mpatch_type\u001b[49m\u001b[38;5;241;43m=\u001b[39;49m\u001b[43mPatchType\u001b[49m\u001b[38;5;241;43m.\u001b[39;49m\u001b[43mTREE_PATCH\u001b[49m\u001b[43m,\u001b[49m\u001b[43m \u001b[49m\n\u001b[1;32m     21\u001b[0m \u001b[43m    \u001b[49m\u001b[43mablation_type\u001b[49m\u001b[38;5;241;43m=\u001b[39;49m\u001b[43mconf\u001b[49m\u001b[38;5;241;43m.\u001b[39;49m\u001b[43mablation_type\u001b[49m\u001b[43m,\u001b[49m\n\u001b[1;32m     22\u001b[0m \u001b[43m    \u001b[49m\u001b[43mreverse_clean_corrupt\u001b[49m\u001b[38;5;241;43m=\u001b[39;49m\u001b[38;5;28;43;01mFalse\u001b[39;49;00m\u001b[43m,\u001b[49m\u001b[43m \u001b[49m\n\u001b[1;32m     23\u001b[0m \u001b[43m)\u001b[49m\n\u001b[1;32m     24\u001b[0m circuit_outs_test \u001b[38;5;241m=\u001b[39m \u001b[38;5;28mdict\u001b[39m(circuit_outs_test)\n",
      "File \u001b[0;32m/nas/ucb/oliveradk/auto-circuit-tests/auto-circuit/auto_circuit/prune.py:126\u001b[0m, in \u001b[0;36mrun_circuits\u001b[0;34m(model, dataloader, prune_scores, test_edge_counts, thresholds, patch_type, ablation_type, reverse_clean_corrupt, use_abs, render_graph, render_score_threshold, render_file_path)\u001b[0m\n\u001b[1;32m    124\u001b[0m         \u001b[38;5;28;01massert\u001b[39;00m patch_type \u001b[38;5;241m==\u001b[39m PatchType\u001b[38;5;241m.\u001b[39mTREE_PATCH\n\u001b[1;32m    125\u001b[0m         dest\u001b[38;5;241m.\u001b[39mpatch_mask\u001b[38;5;241m.\u001b[39mdata \u001b[38;5;241m=\u001b[39m ((patch_mask\u001b[38;5;241m.\u001b[39mabs() \u001b[38;5;28;01mif\u001b[39;00m use_abs \u001b[38;5;28;01melse\u001b[39;00m patch_mask) \u001b[38;5;241m<\u001b[39m threshold)\u001b[38;5;241m.\u001b[39mfloat()\n\u001b[0;32m--> 126\u001b[0m         patch_edge_count \u001b[38;5;241m+\u001b[39m\u001b[38;5;241m=\u001b[39m \u001b[43m(\u001b[49m\u001b[38;5;241;43m1\u001b[39;49m\u001b[43m \u001b[49m\u001b[38;5;241;43m-\u001b[39;49m\u001b[43m \u001b[49m\u001b[43mdest\u001b[49m\u001b[38;5;241;43m.\u001b[39;49m\u001b[43mpatch_mask\u001b[49m\u001b[38;5;241;43m.\u001b[39;49m\u001b[43mint\u001b[49m\u001b[43m(\u001b[49m\u001b[43m)\u001b[49m\u001b[43m)\u001b[49m\u001b[38;5;241;43m.\u001b[39;49m\u001b[43msum\u001b[49m\u001b[43m(\u001b[49m\u001b[43m)\u001b[49m\u001b[38;5;241;43m.\u001b[39;49m\u001b[43mitem\u001b[49m\u001b[43m(\u001b[49m\u001b[43m)\u001b[49m\n\u001b[1;32m    127\u001b[0m \u001b[38;5;28;01mwith\u001b[39;00m t\u001b[38;5;241m.\u001b[39minference_mode():\n\u001b[1;32m    128\u001b[0m     model_output \u001b[38;5;241m=\u001b[39m model(batch_input)[model\u001b[38;5;241m.\u001b[39mout_slice]\n",
      "\u001b[0;31mKeyboardInterrupt\u001b[0m: "
     ]
    }
   ],
   "source": [
    "# next get circuit outs for each threshold\n",
    "from auto_circuit.prune import run_circuits\n",
    "from auto_circuit.types import CircuitOutputs, PatchType\n",
    "circuit_outs_train: CircuitOutputs = run_circuits(\n",
    "    model=task.model, \n",
    "    dataloader=task.train_loader,\n",
    "    prune_scores=prune_scores,\n",
    "    test_edge_counts=circ_edges,\n",
    "    patch_type=PatchType.TREE_PATCH, \n",
    "    ablation_type=conf.ablation_type,\n",
    "    reverse_clean_corrupt=False, \n",
    ")\n",
    "circuit_outs_train = dict(circuit_outs_train)\n",
    "\n",
    "circuit_outs_test: CircuitOutputs = run_circuits(\n",
    "    model=task.model, \n",
    "    dataloader=task.test_loader,\n",
    "    prune_scores=prune_scores,\n",
    "    test_edge_counts=circ_edges,\n",
    "    patch_type=PatchType.TREE_PATCH, \n",
    "    ablation_type=conf.ablation_type,\n",
    "    reverse_clean_corrupt=False, \n",
    ")\n",
    "circuit_outs_test = dict(circuit_outs_test)"
   ]
  },
  {
   "cell_type": "markdown",
   "metadata": {},
   "source": [
    "## Faithfulness Metrics"
   ]
  },
  {
   "cell_type": "markdown",
   "metadata": {},
   "source": [
    "- mae: E[abs(score(M) - score(C))] \n",
    "- mean difference: E[score(M)] - E[score(C)] \n",
    "- frac mean difference recovered: E[score(C)] - E[score(A)] / E[score(M)] - E[score(A)]"
   ]
  },
  {
   "cell_type": "code",
   "execution_count": null,
   "metadata": {},
   "outputs": [],
   "source": [
    "[batch.key for batch in task.train_loader], [k for k in model_out_train.keys()], "
   ]
  },
  {
   "cell_type": "code",
   "execution_count": null,
   "metadata": {},
   "outputs": [],
   "source": [
    "[[k for k in out.keys()] for out in circuit_outs_train.values()]"
   ]
  },
  {
   "cell_type": "code",
   "execution_count": null,
   "metadata": {},
   "outputs": [],
   "source": [
    "faith_metric_results_train, faith_metrics_train = compute_faith_metrics(\n",
    "    task.train_loader,\n",
    "    model_out_train,\n",
    "    ablated_out_train,\n",
    "    conf.grad_func,\n",
    "    conf.answer_func,\n",
    "    circs_outs=circuit_outs_train,\n",
    ")\n",
    "\n",
    "faith_metric_results_test, faith_metrics_test = compute_faith_metrics(\n",
    "    task.test_loader,\n",
    "    model_out_test,\n",
    "    ablated_out_test,\n",
    "    conf.grad_func,\n",
    "    conf.answer_func,\n",
    "    circs_outs=circuit_outs_test,\n",
    ")\n",
    "\n",
    "save_json(faith_metric_results_train, edge_dir, \"faith_metric_results_train\")\n",
    "save_json(faith_metrics_train, edge_dir, \"faith_metrics_train\")\n",
    "save_json(faith_metric_results_test, edge_dir, \"faith_metric_results_test\")\n",
    "save_json(faith_metrics_test, edge_dir, \"faith_metrics_test\")"
   ]
  },
  {
   "cell_type": "code",
   "execution_count": 33,
   "metadata": {},
   "outputs": [],
   "source": [
    "# faith metrics eval \n",
    "if conf.eval_answer_func is not None and conf.eval_answer_func != conf.answer_func:\n",
    "    faith_metric_results_train_eval, faith_metrics_train_eval = compute_faith_metrics(\n",
    "        task.train_loader,\n",
    "        model_out_train,\n",
    "        ablated_out_train,\n",
    "        conf.eval_grad_func,\n",
    "        conf.eval_answer_func,\n",
    "        circs_outs=circuit_outs_train,\n",
    "    )\n",
    "\n",
    "    faith_metric_results_test_eval, faith_metrics_test_eval = compute_faith_metrics(\n",
    "        task.test_loader,\n",
    "        model_out_test,\n",
    "        ablated_out_test,\n",
    "        conf.eval_grad_func,\n",
    "        conf.eval_answer_func,\n",
    "        circs_outs=circuit_outs_test,\n",
    "    )\n",
    "    save_json(faith_metric_results_train_eval, edge_dir, \"faith_metric_results_train_eval\")\n",
    "    save_json(faith_metrics_train_eval, edge_dir, \"faith_metrics_train_eval\")\n",
    "    save_json(faith_metric_results_test_eval, edge_dir, \"faith_metric_results_test_eval\")\n",
    "    save_json(faith_metrics_test_eval, edge_dir, \"faith_metrics_test_eval\")"
   ]
  },
  {
   "cell_type": "markdown",
   "metadata": {},
   "source": [
    "## Equivalence Tests"
   ]
  },
  {
   "cell_type": "code",
   "execution_count": null,
   "metadata": {},
   "outputs": [],
   "source": [
    "use_eval_metrics = conf.answer_func in DIV_ANSWER_FUNCS\n",
    "equiv_test_results_train = equiv_tests(\n",
    "    model=task.model, \n",
    "    dataloader=task.train_loader,\n",
    "    prune_scores=prune_scores,\n",
    "    grad_func=conf.grad_func if not use_eval_metrics else conf.eval_grad_func,\n",
    "    answer_func=conf.answer_func if not use_eval_metrics else conf.eval_answer_func,\n",
    "    ablation_type=conf.ablation_type,\n",
    "    model_out=model_out_train,\n",
    "    circuit_outs=circuit_outs_train,\n",
    "    alpha=conf.alpha,\n",
    "    epsilon=conf.epsilon,\n",
    ")\n",
    "\n",
    "equiv_test_results_test = equiv_tests(\n",
    "    model=task.model, \n",
    "    dataloader=task.test_loader,\n",
    "    prune_scores=prune_scores,\n",
    "    grad_func=conf.grad_func if not use_eval_metrics else conf.eval_grad_func,\n",
    "    answer_func=conf.answer_func if not use_eval_metrics else conf.eval_answer_func,\n",
    "    ablation_type=conf.ablation_type,\n",
    "    model_out=model_out_test,\n",
    "    circuit_outs=circuit_outs_test,\n",
    "    alpha=conf.alpha,\n",
    "    epsilon=conf.epsilon,\n",
    ")\n",
    "\n",
    "save_json(equiv_test_results_train, edge_dir, \"equiv_test_results_train\")\n",
    "save_json(equiv_test_results_test, edge_dir, \"equiv_test_results_test\")"
   ]
  },
  {
   "cell_type": "markdown",
   "metadata": {},
   "source": [
    "## TODO: Sufficiency Test, and Expected Loss Recovered with Respect to Expected Value of Random Circuit of the same size"
   ]
  },
  {
   "cell_type": "markdown",
   "metadata": {},
   "source": [
    "## Plot % loss recovered and Equiv Test Results Along Frac Edges / Frac Prune Scores"
   ]
  },
  {
   "cell_type": "code",
   "execution_count": 35,
   "metadata": {},
   "outputs": [],
   "source": [
    "import matplotlib.pyplot as plt\n",
    "import numpy as np\n",
    "from fractions import Fraction\n",
    "from auto_circuit_tests.hypo_tests.equiv_test import EquivResult\n",
    "from auto_circuit_tests.hypo_tests.indep_test import IndepResult\n",
    "from typing import cast\n",
    "\n",
    "def plot_frac_loss_recovered_and_equiv_test_results(\n",
    "    faith_metric_results: Dict[int, Dict[str, float]], \n",
    "    equiv_test_results: Optional[Dict[int, Union[EquivResult, IndepResult]]]=None,\n",
    "    title: str = \"\", \n",
    "    result_type: Optional[Literal[\"equiv\", \"indep\"]] = \"equiv\",\n",
    "    x_label: str = \"Edges\"\n",
    "):\n",
    "    n_edges = list(faith_metric_results.keys())\n",
    "    fracs = [n_edge / task.model.n_edges for n_edge in n_edges]\n",
    "    frac_loss_recovered = [faith_metric_results[n_edge][\"frac_mean_diff_recovered\"] for n_edge in n_edges]\n",
    "    \n",
    "\n",
    "    fig, ax = plt.subplots(figsize=(10, 6))\n",
    "    \n",
    "    # Plot line\n",
    "    ax.plot(fracs, frac_loss_recovered, color='blue')\n",
    "\n",
    "    good_color = 'green'\n",
    "    bad_color = 'blue'\n",
    "\n",
    "    # color points based on hypothesis test results\n",
    "    if result_type == \"equiv\":\n",
    "        equiv_test_results = cast(Dict[int, EquivResult], equiv_test_results)\n",
    "        reject_equivs = [result.reject_equiv for result in equiv_test_results.values()]\n",
    "        reject_non_equivs = [result.reject_non_equiv for result in equiv_test_results.values()]\n",
    "        for frac, loss, reject_equiv, reject_non_equiv in zip(fracs, frac_loss_recovered, reject_equivs,reject_non_equivs):\n",
    "            color = 'light' + good_color if reject_non_equiv else (good_color if not reject_equiv else bad_color)\n",
    "            ax.scatter(frac, loss, color=color, s=100, zorder=5)  # s is the size of the dot, zorder ensures it's on top\n",
    "        \n",
    "        ax.scatter([], [], color='light' + good_color, label='Non-Equiv Rejected', s=100)\n",
    "        ax.scatter([], [], color=good_color, label='Equiv Not Rejected', s=100)\n",
    "        ax.scatter([], [], color=bad_color, label='Equiv Rejected', s=100)\n",
    "        ax.legend()\n",
    "    elif result_type == \"indep\": \n",
    "        indep_test_results = cast(Dict[int, IndepResult], equiv_test_results)\n",
    "        reject_indeps = [result.reject_null for result in indep_test_results.values()]\n",
    "        for frac, loss, reject_indep in zip(fracs, frac_loss_recovered, reject_indeps):\n",
    "            color = 'light' + good_color if not reject_indep else bad_color\n",
    "            ax.scatter(frac, loss, color=color, s=100, zorder=5)\n",
    "        \n",
    "        ax.scatter([], [], color=good_color, label='Indep Not Rejected', s=100)\n",
    "        ax.scatter([], [], color=bad_color, label='Indep Rejected', s=100)\n",
    "        \n",
    "\n",
    "    ax.set_xlabel(f\"Fraction of Total {x_label}\")\n",
    "    ax.set_ylabel(\"Fraction of Loss Recovered\")\n",
    "    ax.set_title(title)\n",
    "\n",
    "    # horizontal line at 0.95\n",
    "    ax.axhline(0.95, color='r', linestyle='--')\n",
    "\n",
    "    # Set x-axis ticks and labels\n",
    "    x_ticks = np.arange(0, 1.0, 0.1)\n",
    "    ax.set_xticks(x_ticks)\n",
    "    ax.set_xticklabels([f'{x:.1f}' for x in x_ticks])\n",
    "\n",
    "    # Set x-axis limits\n",
    "    ax.set_xlim(0, 1.0)\n",
    "\n",
    "\n",
    "    # Adjust layout to prevent clipping of labels\n",
    "    plt.tight_layout()\n",
    "\n",
    "    return fig, ax"
   ]
  },
  {
   "cell_type": "code",
   "execution_count": 36,
   "metadata": {},
   "outputs": [],
   "source": [
    "# plot results using div answer function (no equivalence results)\n",
    "if use_eval_metrics:\n",
    "    # TODO: figure out why this plotting is off\n",
    "    fig, ax = plot_frac_loss_recovered_and_equiv_test_results(\n",
    "        faith_metric_results_train,\n",
    "        title=\"(Train) Fraction of Loss Recovered\",\n",
    "        result_type=None,\n",
    "        x_label=\"Edges\" if not conf.prune_score_thresh else \"Prune Scores\"\n",
    "    )\n",
    "    fig.savefig(edge_dir / \"frac_loss_recovered_results_train.png\")\n",
    "    plt.close()"
   ]
  },
  {
   "cell_type": "code",
   "execution_count": 37,
   "metadata": {},
   "outputs": [],
   "source": [
    "# plot results using div answer function (no equivalence results)\n",
    "if use_eval_metrics:\n",
    "    fig, ax = plot_frac_loss_recovered_and_equiv_test_results(\n",
    "        faith_metric_results_test,\n",
    "        title=\"(Test) Fraction of Loss Recovered\",\n",
    "        result_type=None,\n",
    "        x_label=\"Edges\" if not conf.prune_score_thresh else \"Prune Scores\"\n",
    "    )\n",
    "    fig.savefig(edge_dir / \"frac_loss_recovered_results_test.png\")\n",
    "    plt.close()"
   ]
  },
  {
   "cell_type": "code",
   "execution_count": 38,
   "metadata": {},
   "outputs": [],
   "source": [
    "# TODO: figure out why this plotting is off\n",
    "\n",
    "fig, ax = plot_frac_loss_recovered_and_equiv_test_results(\n",
    "    faith_metric_results_train if not use_eval_metrics else faith_metric_results_train_eval, \n",
    "    equiv_test_results_train,\n",
    "    title=\"(Train) Fraction of Loss Recovered and Equiv Test Results\",\n",
    "    result_type=\"equiv\",\n",
    "    x_label=\"Edges\" if not conf.prune_score_thresh else \"Prune Scores\"\n",
    ")\n",
    "fig.savefig(edge_dir / \"frac_loss_recovered_and_equiv_test_results_train.png\")\n",
    "plt.close()\n"
   ]
  },
  {
   "cell_type": "code",
   "execution_count": 39,
   "metadata": {},
   "outputs": [],
   "source": [
    "fig, ax = plot_frac_loss_recovered_and_equiv_test_results(\n",
    "    faith_metric_results_test if not use_eval_metrics else faith_metric_results_test_eval, \n",
    "    equiv_test_results_test,\n",
    "    title=\"(Test) Fraction of Loss Recovered and Equiv Test Results\",\n",
    "    result_type=\"equiv\",\n",
    "    x_label=\"Edges\" if not conf.prune_score_thresh else \"Prune Scores\"\n",
    ")\n",
    "fig.savefig(edge_dir / \"frac_loss_recovered_and_equiv_test_results_test.png\")\n",
    "plt.close()"
   ]
  },
  {
   "cell_type": "markdown",
   "metadata": {},
   "source": [
    "# Minimality of Smallest Circuit with %loss recovered > 0.95"
   ]
  },
  {
   "cell_type": "markdown",
   "metadata": {},
   "source": [
    "## Find Smallest Equivalent Circuit"
   ]
  },
  {
   "cell_type": "code",
   "execution_count": 40,
   "metadata": {},
   "outputs": [],
   "source": [
    "flat_ps = flat_prune_scores_ordered(prune_scores, order=prune_scores.keys())"
   ]
  },
  {
   "cell_type": "code",
   "execution_count": null,
   "metadata": {},
   "outputs": [],
   "source": [
    "# find smallest equiv circuit on training distribution\n",
    "edge_counts_equiv_idx = [\n",
    "    i for i, (k, v) in enumerate(equiv_test_results_train.items())\n",
    "    if faith_metric_results_train[k]['frac_mean_diff_recovered'] > 0.95 \n",
    "    #and v.reject_null \n",
    "]\n",
    "n_edges_min_equi_idx = min(edge_counts_equiv_idx) if edge_counts_equiv_idx else -1\n",
    "n_edges_min_equiv = circ_edges[n_edges_min_equi_idx]\n",
    "threshold = circ_thresholds[n_edges_min_equi_idx]\n",
    "\n",
    "# get edges of circuit\n",
    "edge_mask = {k: torch.abs(v) >= threshold for k, v in prune_scores.items()}\n",
    "edges = edges_from_mask(task.model.srcs, task.model.dests, edge_mask, task.token_circuit)\n",
    "save_json([(edge.seq_idx, edge.name) for edge in  edges], edge_dir, \"min_equiv_edges_train\")"
   ]
  },
  {
   "cell_type": "code",
   "execution_count": 42,
   "metadata": {},
   "outputs": [],
   "source": [
    "valid_task = TASK_TO_OUTPUT_ANSWER_FUNCS[conf.task] == (conf.grad_func, conf.answer_func) or conf.answer_func in DIV_ANSWER_FUNCS\n",
    "test_smallest = valid_task and len(edges) < 20_000"
   ]
  },
  {
   "cell_type": "markdown",
   "metadata": {},
   "source": [
    "## Plot Pruned Smallest Equivalent Circuit"
   ]
  },
  {
   "cell_type": "code",
   "execution_count": 43,
   "metadata": {},
   "outputs": [],
   "source": [
    "if test_smallest:\n",
    "    fig = draw_seq_graph(\n",
    "        model=task.model,\n",
    "        prune_scores=prune_scores,\n",
    "        score_threshold=threshold,\n",
    "        show_all_seq_pos=True,\n",
    "        orientation=\"h\",\n",
    "        display_ipython=False,#is_notebook(),\n",
    "        seq_labels=task.test_loader.seq_labels,\n",
    "    )\n",
    "    fig.write_image(repo_path_to_abs_path(edge_dir / \"smallest_equiv_circ_graph_train.png\"))"
   ]
  },
  {
   "cell_type": "markdown",
   "metadata": {},
   "source": [
    "## Find Unused Edges\n",
    "\n",
    "Note: Seems like there is some leakage, not exactly sure why, but I guess its fine, not using this anyway"
   ]
  },
  {
   "cell_type": "code",
   "execution_count": null,
   "metadata": {},
   "outputs": [],
   "source": [
    "if test_smallest:\n",
    "    # from auto_circuit_tests.edge_graph import find_unused_edges\n",
    "    def sum_prune_scores(edges: list[Edge]) -> t.Tensor:\n",
    "        return sum([\n",
    "            torch.abs(prune_scores[edge.dest.module_name][edge.patch_idx])\n",
    "            for edge in edges\n",
    "        ])\n",
    "    # find unused edges\n",
    "    used_edges, unused_edges, _circ_graph = find_unused_edges(\n",
    "        edges, conf.ablation_type, token_circuit=task.token_circuit, attn_only=task.model.cfg.attn_only\n",
    "        )\n",
    "    # get prune scores for each unused edge \n",
    "    unused_edge_prune_scores_train = {\n",
    "        edge: prune_scores[edge.dest.module_name][edge.patch_idx]\n",
    "        for edge in unused_edges\n",
    "    }\n",
    "    # save unused edges with prune scores\n",
    "    # save_json(unused_edge_prune_scores_train, edge_dir, \"unused_edges_train\")\n",
    "    print(f\"Fraction of unused edges: {len(unused_edges) / len(edges)}\")\n",
    "    save_json(len(unused_edges) / len(edges), edge_dir, \"frac_unused_edges\")\n",
    "    # save fraction of prune scores attributed to unused edges in circuit\n",
    "    total_circuit_prune_scores = sum_prune_scores(edges)\n",
    "    unused_edge_prune_scores_abs = sum_prune_scores(unused_edges)\n",
    "    save_json((unused_edge_prune_scores_abs / total_circuit_prune_scores).item(), edge_dir, \"frac_unused_edge_scores\")"
   ]
  },
  {
   "cell_type": "markdown",
   "metadata": {},
   "source": [
    "### Verify Pruned Smallest Circuit Still Equivalent and achieves >95% loss recovered"
   ]
  },
  {
   "cell_type": "code",
   "execution_count": null,
   "metadata": {},
   "outputs": [],
   "source": [
    "if test_smallest:\n",
    "    from auto_circuit.types import PruneScores\n",
    "    # get prune score mask\n",
    "    def edges_to_prune_score_mask(edges: list[Edge]) -> t.Tensor:\n",
    "        mask = task.model.new_prune_scores()\n",
    "        for edge in edges:\n",
    "            mask[edge.dest.module_name][edge.patch_idx] = 1\n",
    "        return mask\n",
    "\n",
    "    # compute circuit outputs for used edges \n",
    "    def run_circuit_from_mask(\n",
    "        mask: PruneScores, \n",
    "        dataloader: PromptDataLoader,\n",
    "    ) -> CircuitOutputs:\n",
    "        circuit_out: CircuitOutputs = run_circuits(\n",
    "            model=task.model, \n",
    "            dataloader=dataloader,\n",
    "            prune_scores=mask,\n",
    "            thresholds = [0.5],\n",
    "            patch_type=PatchType.TREE_PATCH, \n",
    "            ablation_type=conf.ablation_type,\n",
    "            reverse_clean_corrupt=False, \n",
    "        )\n",
    "        return circuit_out\n",
    "\n",
    "    used_edges_mask = edges_to_prune_score_mask(used_edges)\n",
    "    used_edges_out = run_circuit_from_mask(used_edges_mask, task.train_loader)"
   ]
  },
  {
   "cell_type": "code",
   "execution_count": null,
   "metadata": {},
   "outputs": [],
   "source": [
    "if test_smallest:\n",
    "# compute faithfulness metrics \n",
    "    faith_metric_results_used_edges, faith_metrics_used_edges = compute_faith_metrics(\n",
    "        task.train_loader,\n",
    "        model_out_train,\n",
    "        ablated_out_train,\n",
    "        conf.grad_func,\n",
    "        conf.answer_func,\n",
    "        circs_outs=used_edges_out,\n",
    "    )\n",
    "    print(f\"Used Edges Train %loss recovered: {list(faith_metric_results_used_edges.values())[0]['frac_mean_diff_recovered']}\")\n",
    "    save_json(faith_metric_results_used_edges, edge_dir, \"faith_metric_results_used_edges\")"
   ]
  },
  {
   "cell_type": "code",
   "execution_count": null,
   "metadata": {},
   "outputs": [],
   "source": [
    "# run equiv tests on used edges\n",
    "if test_smallest:\n",
    "    equiv_test_results_used_edges = equiv_tests(\n",
    "        model=task.model, \n",
    "        dataloader=task.train_loader,\n",
    "        prune_scores=used_edges_mask,\n",
    "        grad_func=conf.grad_func,\n",
    "        answer_func=conf.answer_func,\n",
    "        ablation_type=conf.ablation_type,\n",
    "        model_out=model_out_train,\n",
    "        circuit_outs=used_edges_out,\n",
    "        alpha=conf.alpha,\n",
    "        epsilon=conf.epsilon,\n",
    "    )\n",
    "    print(f\"Used Edges Null Rejected: {list(equiv_test_results_used_edges.values())[0].reject_non_equiv}\")\n",
    "    save_json(equiv_test_results_used_edges, edge_dir, \"equiv_test_results_used_edges\")\n"
   ]
  },
  {
   "cell_type": "markdown",
   "metadata": {},
   "source": [
    "## Minimality Test and Change in %loss Recovered"
   ]
  },
  {
   "cell_type": "code",
   "execution_count": 48,
   "metadata": {},
   "outputs": [],
   "source": [
    "# only run on docstring to save time\n",
    "run_min_test = test_smallest"
   ]
  },
  {
   "cell_type": "markdown",
   "metadata": {},
   "source": [
    "### Compute Scores after  Ablating Each Edge"
   ]
  },
  {
   "cell_type": "code",
   "execution_count": null,
   "metadata": {},
   "outputs": [],
   "source": [
    "if run_min_test:\n",
    "    edges_scores_train = compute_edge_scores(\n",
    "        model=task.model,\n",
    "        dataloader=task.train_loader,\n",
    "        prune_scores=prune_scores,\n",
    "        edges=edges,\n",
    "        grad_func=conf.grad_func,\n",
    "        answer_func=conf.answer_func,\n",
    "        ablation_type=conf.ablation_type,\n",
    "        model_out=model_out_train,\n",
    "        threshold=threshold,\n",
    "    )\n",
    "\n",
    "    edges_scores_test = compute_edge_scores(\n",
    "        model=task.model,\n",
    "        dataloader=task.test_loader,\n",
    "        prune_scores=prune_scores,\n",
    "        edges=edges,\n",
    "        grad_func=conf.grad_func,\n",
    "        answer_func=conf.answer_func,\n",
    "        ablation_type=conf.ablation_type,\n",
    "        model_out=model_out_test,\n",
    "        threshold=threshold,\n",
    "    )"
   ]
  },
  {
   "cell_type": "markdown",
   "metadata": {},
   "source": [
    "### Compute Change in %loss recovered"
   ]
  },
  {
   "cell_type": "code",
   "execution_count": null,
   "metadata": {},
   "outputs": [],
   "source": [
    "if run_min_test:\n",
    "    edge_faith_metric_results_train, edge_faith_metrics_train = compute_faith_metrics(\n",
    "        task.train_loader,\n",
    "        model_out_train,\n",
    "        ablated_out_train,\n",
    "        conf.grad_func,\n",
    "        conf.answer_func,\n",
    "        circs_scores=edges_scores_train,\n",
    "    )\n",
    "    # hmm this should just be by edge, also I want the edge order\n",
    "    save_json({edge_name(k): v for k, v in edge_faith_metric_results_train.items()}, edge_dir, \"edge_faith_metric_results_train\")\n",
    "    save_json({edge_name(k): v for k, v in edge_faith_metrics_train.items()}, edge_dir, \"edge_faith_metrics_train\")\n",
    "\n",
    "    edge_faith_metric_results_test, edge_faith_metrics_test = compute_faith_metrics(\n",
    "        task.test_loader,\n",
    "        model_out_test,\n",
    "        ablated_out_test,\n",
    "        conf.grad_func,\n",
    "        conf.answer_func,\n",
    "        circs_scores=edges_scores_test,\n",
    "    )\n",
    "    save_json({edge_name(k): v for k, v in edge_faith_metric_results_test.items()}, edge_dir, \"edge_faith_metric_results_test\")\n",
    "    save_json({edge_name(k): v for k, v in edge_faith_metrics_test.items()}, edge_dir, \"edge_faith_metrics_test\")"
   ]
  },
  {
   "cell_type": "code",
   "execution_count": 51,
   "metadata": {},
   "outputs": [],
   "source": [
    "if run_min_test:\n",
    "    # plot change in loss recovered \n",
    "    frac_loss_recovered_train = faith_metric_results_train[n_edges_min_equiv]['frac_mean_diff_recovered']\n",
    "    frac_loss_recovered_test = faith_metric_results_test[n_edges_min_equiv]['frac_mean_diff_recovered']\n",
    "    # sort edges by prune scores \n",
    "    edge_prune_scores = {\n",
    "        edge: prune_scores[edge.dest.module_name][edge.patch_idx].cpu().item()\n",
    "        for edge in edges\n",
    "    }\n",
    "    sorted_edge_prune_scores = sorted(edge_prune_scores.items(), key=lambda x: abs(x[1]), reverse=True)\n",
    "    frac_loss_recovered_train_sorted = [edge_faith_metric_results_train[edge]['frac_mean_diff_recovered'] for edge, _ in sorted_edge_prune_scores]\n",
    "    frac_loss_recovered_test_sorted = [edge_faith_metric_results_test[edge]['frac_mean_diff_recovered'] for edge, _ in sorted_edge_prune_scores]\n",
    "\n",
    "    fig, ax = plt.subplots()\n",
    "    # add transparency to lines\n",
    "    ax.plot([frac_loss_recovered_train - x for x in reversed(frac_loss_recovered_train_sorted)], label=\"Train\")\n",
    "    ax.plot([frac_loss_recovered_test - x for x in reversed(frac_loss_recovered_test_sorted)], label=\"Test\", alpha=0.75)\n",
    "    # horizontal line at 1/circuit_size\n",
    "    ax.axhline((1/ len(edges)) * 100, color='r', linestyle='--')\n",
    "\n",
    "    ax.set_xlabel(\"Edge Index\")\n",
    "    ax.set_ylabel(\"Change in Fraction of Loss Recovered\")\n",
    "    ax.set_title(\"Change in Fraction of Loss Recovered for Each Edge\")\n",
    "\n",
    "    # add legend\n",
    "    ax.legend()\n",
    "\n",
    "    plt.savefig(edge_dir / \"frac_loss_recovered_change.png\")\n",
    "    plt.close()"
   ]
  },
  {
   "cell_type": "markdown",
   "metadata": {},
   "source": [
    "### Compute Activation Patching Scores on Circuit and Correlation Between Activation Patching Scores on Full Model"
   ]
  },
  {
   "cell_type": "code",
   "execution_count": 52,
   "metadata": {},
   "outputs": [],
   "source": [
    "if run_min_test:\n",
    "    from auto_circuit.prune_algos.utils import compute_loss \n",
    "    def compute_full_model_score(\n",
    "        model: PatchableModel,\n",
    "        dataloader: PromptDataLoader,\n",
    "        model_outs: BatchOutputs,\n",
    "        grad_func: str,\n",
    "        answer_func: str,\n",
    "    ):\n",
    "        full_model_score = 0\n",
    "        for batch in dataloader:\n",
    "            full_model_score -= compute_loss(\n",
    "                model, \n",
    "                batch, \n",
    "                grad_func, \n",
    "                answer_func, \n",
    "                logits=model_outs[batch.key].to(task.device)\n",
    "            ).sum().item()\n",
    "        return full_model_score\n",
    "\n",
    "    full_model_score = 0\n",
    "    if conf.answer_func not in DIV_ANSWER_FUNCS:\n",
    "        full_model_score = compute_full_model_score(\n",
    "            task.model,\n",
    "            task.train_loader, \n",
    "            model_out_train, \n",
    "            conf.grad_func.value, \n",
    "            conf.answer_func.value\n",
    "        )\n",
    "\n",
    "    def compute_edge_act_prune_scores(\n",
    "        model: PatchableModel,\n",
    "        edges_scores: dict[Edge, BatchOutputs],\n",
    "        full_model_score: float,\n",
    "    ) -> PruneScores:\n",
    "        edge_prune_scores = model.new_prune_scores()\n",
    "        for mod_name in edge_prune_scores.keys():\n",
    "            edge_prune_scores[mod_name] += full_model_score\n",
    "        for edge, edge_scores in edges_scores.items():\n",
    "                edge_scores = t.cat([v for v in edge_scores.values()])\n",
    "                edge_prune_scores[edge.dest.module_name][edge.patch_idx] -= edge_scores.sum()\n",
    "        return edge_prune_scores\n",
    "\n",
    "\n",
    "    # edge outs train \n",
    "    edge_circ_act_prune_scores = compute_edge_act_prune_scores(\n",
    "        task.model,\n",
    "        edges_scores_train,\n",
    "        full_model_score,\n",
    "    )"
   ]
  },
  {
   "cell_type": "code",
   "execution_count": null,
   "metadata": {},
   "outputs": [],
   "source": [
    "# compute correlation\n",
    "# TODO: compute actual activation patching scores for circuit, compute actual correlation\n",
    "if run_min_test:\n",
    "    # plot correlation between minimality score (change in score) and prune score \n",
    "    edge_act_prune_scores_flat = [act_prune_scores[edge.dest.module_name][edge.patch_idx].item() for edge in edges]\n",
    "    edge_circ_act_prune_scores_flat = [edge_circ_act_prune_scores[edge.dest.module_name][edge.patch_idx].item() for edge in edges]\n",
    "    \n",
    "    # compute correlation coefficient \n",
    "    from scipy import stats\n",
    "    corr, p_value = stats.pearsonr(edge_act_prune_scores_flat, edge_circ_act_prune_scores_flat)\n",
    "    \n",
    "    plt.scatter(edge_act_prune_scores_flat, edge_circ_act_prune_scores_flat, s=1.0)\n",
    "    plt.xlabel(\"Act Patch Scores\")\n",
    "    plt.ylabel(\"Circuit Act Patch Scores\")\n",
    "    plt.title(f\"Correlation: {corr:.2f}, p-value: {p_value:.2f}\")\n",
    "    plt.savefig(edge_dir / \"circ_act_patch_corr.png\")\n",
    "    plt.close()\n",
    "\n",
    "    save_json({\"corr\": corr, \"p_value\": p_value}, edge_dir, \"circ_act_patch_corr_results\")"
   ]
  },
  {
   "cell_type": "markdown",
   "metadata": {},
   "source": [
    "### Minimality Test"
   ]
  },
  {
   "cell_type": "code",
   "execution_count": 54,
   "metadata": {},
   "outputs": [],
   "source": [
    "if run_min_test:\n",
    "    # build full grap to sample paths\n",
    "    graph = SeqGraph(task.model.edges, token=task.token_circuit, attn_only=task.model.cfg.attn_only)"
   ]
  },
  {
   "cell_type": "code",
   "execution_count": null,
   "metadata": {},
   "outputs": [],
   "source": [
    "if run_min_test:\n",
    "    # ok so there should be columns for each sequence position, and subcolumsn for each component\n",
    "    seq_idxs = [0, task.test_loader.seq_len-1] if task.token_circuit else None\n",
    "    if is_notebook():\n",
    "        visualize_graph(graph, sort_by_head=False, max_layer=None, seq_idxs=seq_idxs, column_width=5, figsize=(36, 24))"
   ]
  },
  {
   "cell_type": "code",
   "execution_count": null,
   "metadata": {},
   "outputs": [],
   "source": [
    "# plot circuit graph\n",
    "if run_min_test:\n",
    "    circ_graph = SeqGraph(edges, token=task.token_circuit, attn_only=task.model.cfg.attn_only)\n",
    "    seq_idxs = set([seq_node.seq_idx for seq_node in circ_graph.seq_nodes])\n",
    "    if is_notebook():\n",
    "        visualize_graph(circ_graph, sort_by_head=False, max_layer=None, seq_idxs=seq_idxs, column_width=10, figsize=(72, 24))"
   ]
  },
  {
   "cell_type": "code",
   "execution_count": null,
   "metadata": {},
   "outputs": [],
   "source": [
    "# sample paths from complement for each data instance\n",
    "if run_min_test:\n",
    "    complement_edges = set(task.model.edges) - set(edges)\n",
    "    sampled_paths = sample_paths(\n",
    "        seq_graph=graph, \n",
    "        n_paths=conf.n_paths, \n",
    "        complement_edges=complement_edges,\n",
    "    )\n",
    "    edges_set = set(edges)\n",
    "    novel_edge_paths = [[edge for edge in path if edge not in edges_set] for path in sampled_paths]"
   ]
  },
  {
   "cell_type": "code",
   "execution_count": null,
   "metadata": {},
   "outputs": [],
   "source": [
    "if run_min_test:\n",
    "    path_idx = 0\n",
    "    sampled_path = sampled_paths[path_idx]\n",
    "    novel_edges = novel_edge_paths[path_idx]\n",
    "    redundant_edges = set(sampled_path).intersection(set(edges))\n",
    "    print(f\"Added edges: {novel_edges}\")\n",
    "    print(f\"Redundant edges: {redundant_edges}\")\n",
    "    ex_inflated_graph = SeqGraph(edges + list(novel_edges), token=task.token_circuit, attn_only=task.model.cfg.attn_only)\n",
    "    seq_idxs = set([seq_node.seq_idx for seq_node in ex_inflated_graph.seq_nodes]) if task.token_circuit else None\n",
    "    edge_colors = {}\n",
    "    [edge_colors.update({edge: 'blue'}) for edge in novel_edges]\n",
    "    [edge_colors.update({edge: 'darkblue'}) for edge in redundant_edges]\n",
    "    if is_notebook():\n",
    "        visualize_graph(ex_inflated_graph, sort_by_head=False, max_layer=None, seq_idxs=seq_idxs, edge_colors=edge_colors)"
   ]
  },
  {
   "cell_type": "code",
   "execution_count": null,
   "metadata": {},
   "outputs": [],
   "source": [
    "# sample paths to remove \n",
    "if run_min_test:\n",
    "    ablated_paths, removed_edges = [], []\n",
    "    for path in novel_edge_paths:\n",
    "        edge_idx_to_remove = random.choice(range(len(path)))\n",
    "        ablated_path = remove_el(path, edge_idx_to_remove)\n",
    "        ablated_paths.append(ablated_path)\n",
    "        removed_edges.append(path[edge_idx_to_remove])\n",
    "    removed_edge = removed_edges[path_idx]\n",
    "    edge_colors[removed_edge] = 'red'\n",
    "    if is_notebook():\n",
    "        visualize_graph(ex_inflated_graph, sort_by_head=False, max_layer=None, seq_idxs=seq_idxs, edge_colors=edge_colors)"
   ]
  },
  {
   "cell_type": "code",
   "execution_count": null,
   "metadata": {},
   "outputs": [],
   "source": [
    "if run_min_test:\n",
    "    inflated_outs, ablated_outs = run_circuits_inflated_ablated(\n",
    "        model=task.model, \n",
    "        dataloader=task.train_loader,\n",
    "        ablation_type=conf.ablation_type,\n",
    "        edges=edges,\n",
    "        n_paths=conf.n_paths,\n",
    "        graph=graph,\n",
    "        paths=sampled_paths,\n",
    "        ablated_paths=ablated_paths,\n",
    "        token=task.token_circuit,\n",
    "    )"
   ]
  },
  {
   "cell_type": "code",
   "execution_count": 61,
   "metadata": {},
   "outputs": [],
   "source": [
    "if run_min_test:\n",
    "    # compute mean diffs for each inflated circuit / ablated circuit\n",
    "    inflated_ablated_mean_diffs: list[float] = []\n",
    "    for i, inflated_out in inflated_outs.items():\n",
    "        inflated_ablated_diffs = score_diffs(\n",
    "            dataloader=task.train_loader,\n",
    "            grad_func=conf.grad_func,\n",
    "            answer_func=conf.answer_func,\n",
    "            outs_1=inflated_out,\n",
    "            outs_2=ablated_outs[i],\n",
    "            model_outs=model_out_train,\n",
    "            device=task.device\n",
    "        )\n",
    "        inflated_ablated_mean_diffs.append(inflated_ablated_diffs.mean().item())\n",
    "\n",
    "    # compute mean diffs for each ablated edge\n",
    "    ablated_edge_mean_diffs: dict[Edge, float] = {}\n",
    "    for edge in edges:\n",
    "        ablated_diffs = score_diffs(\n",
    "            dataloader=task.train_loader,\n",
    "            scores_1=edges_scores_train[edge],\n",
    "            outs_2=circuit_outs_train[n_edges_min_equiv],\n",
    "            grad_func=conf.grad_func,\n",
    "            answer_func=conf.answer_func,\n",
    "            model_outs=model_out_train,\n",
    "            device=task.device\n",
    "        )\n",
    "        ablated_edge_mean_diffs[edge] = ablated_diffs.mean().item()"
   ]
  },
  {
   "cell_type": "code",
   "execution_count": null,
   "metadata": {},
   "outputs": [],
   "source": [
    "from auto_circuit_tests.hypo_tests.minimality_test import MinResult\n",
    "if run_min_test:\n",
    "    min_results_train: dict[Edge, MinResult] = {}\n",
    "    for edge in tqdm(edges):\n",
    "        min_results_train[edge] = minimality_test_edge(\n",
    "            ablated_edge_mean_diff=ablated_edge_mean_diffs[edge],\n",
    "            inflated_ablated_mean_diffs=inflated_ablated_mean_diffs,\n",
    "            n_edges=len(edges),\n",
    "            alpha=conf.alpha, # bonferroni handled internally\n",
    "            q_star=conf.q_star,\n",
    "        )"
   ]
  },
  {
   "cell_type": "code",
   "execution_count": null,
   "metadata": {},
   "outputs": [],
   "source": [
    "if run_min_test:\n",
    "    # plot minimality scores and fraction of loss recovered sorted by minimality score with threshold for rejection (from paper)\n",
    "    edges_by_min_score = sorted(edges, key=lambda edge: ablated_edge_mean_diffs[edge], reverse=False)\n",
    "    min_scores = [ablated_edge_mean_diffs[edge] for edge in edges_by_min_score]\n",
    "    frac_loss_recovered_train = faith_metric_results_train[n_edges_min_equiv]['frac_mean_diff_recovered']\n",
    "    frac_loss_recovered_delta = [frac_loss_recovered_train - edge_faith_metric_results_train[edge]['frac_mean_diff_recovered'] for edge in edges_by_min_score]\n",
    "    \n",
    "    # get first edge which does not reject miniamlity, and first edge that rejects non-minimality\n",
    "    first_min_not_rejected = [min_results_train[edge].reject_min_null for edge in edges_by_min_score].index(False)\n",
    "    first_not_min_rejected = [min_results_train[edge].reject_null_non_min for edge in edges_by_min_score].index(True)\n",
    "\n",
    "    # plot minimality scores and fraction of loss recovered\n",
    "    fig, ax = plt.subplots()\n",
    "    ax.plot(min_scores, label=\"Change in Score\")\n",
    "    ax.set_xlabel(\"Edge Index\")\n",
    "    ax.set_ylabel(\"Change in Score\")\n",
    "    # ax.set_yscale('log')\n",
    "    # new axis for fraction of loss recovered\n",
    "    ax2 = ax.twinx()\n",
    "    ax2.plot(frac_loss_recovered_delta, label=\"Change in Fraction of Loss Recovered\", color='orange', alpha=0.75)\n",
    "    ax2.set_ylabel(\"Change in Fraction of Loss Recovered\")\n",
    "\n",
    "    # add vertical line and shaed region for first edge that does not reject minimality\n",
    "    ax.axvline(first_min_not_rejected, color='blue', linestyle='--')\n",
    "    ax.axvspan(0,first_min_not_rejected, color='lightblue', alpha=0.5)\n",
    "    # add veritical line and shaded region for first edge that rejects non-minimality\n",
    "    ax.axvline(first_not_min_rejected, color='green', linestyle='--')\n",
    "    ax.axvspan(first_min_not_rejected, first_not_min_rejected, color='lightgreen', alpha=0.5)\n",
    "    # TODO: put fig legend where ax legend would be \n",
    "    fig.legend(loc='upper left', bbox_to_anchor=(0.15, 0.95))\n",
    "    fig.tight_layout()"
   ]
  },
  {
   "cell_type": "code",
   "execution_count": 64,
   "metadata": {},
   "outputs": [],
   "source": [
    "# if run_min_test:\n",
    "#     min_results_test, null_rejected_test = minimality_test(\n",
    "#         model=task.model, \n",
    "#         dataloader=task.test_loader,\n",
    "#         edges=edges,\n",
    "#         prune_scores=prune_scores,\n",
    "#         threshold=threshold,\n",
    "#         grad_func=conf.grad_func,\n",
    "#         answer_func=conf.answer_func,\n",
    "#         ablation_type=conf.ablation_type,\n",
    "#         token=task.token_circuit,\n",
    "#         model_outs=model_out_test,\n",
    "#         n_paths=conf.n_paths,\n",
    "#         q_star=conf.q_star,\n",
    "#         device=task.device,\n",
    "#     )"
   ]
  },
  {
   "cell_type": "markdown",
   "metadata": {},
   "source": [
    "### Minimality Test on \"Ground Truth\" Circuit"
   ]
  },
  {
   "cell_type": "code",
   "execution_count": 65,
   "metadata": {},
   "outputs": [],
   "source": [
    "# if TASK_TO_OUTPUT_ANSWER_FUNCS[task.key] == (conf.grad_func, conf.answer_func):\n",
    "#     # inflated ablated \n",
    "#     inflated_outs_true, ablated_outs_true = run_circuits_inflated_ablated(\n",
    "#         model=task.model,\n",
    "#         dataloader=task.test_loader,\n",
    "#         ablation_type=conf.ablation_type,\n",
    "#         edges=edges,\n",
    "#         n_paths=conf.n_paths,\n",
    "#         token=task.token_circuit\n",
    "#     )\n",
    "\n",
    "#     # compute mean diffs for each inflated circuit / ablated circuit\n",
    "#     inflated_ablated_mean_diffs_true: list[float] = []\n",
    "#     for i, inflated_out in inflated_outs_true.items():\n",
    "#         inflated_ablated_diffs = score_diffs(\n",
    "#             dataloader=task.test_loader,\n",
    "#             outs_1=inflated_out,\n",
    "#             outs_2=ablated_outs_true[i],\n",
    "#             grad_func=conf.grad_func,\n",
    "#             answer_func=conf.answer_func,\n",
    "#             model_outs=model_out_test,\n",
    "#             device=task.device\n",
    "#         )\n",
    "#         inflated_ablated_mean_diffs_true.append(inflated_ablated_diffs.mean().item())"
   ]
  },
  {
   "cell_type": "code",
   "execution_count": 66,
   "metadata": {},
   "outputs": [],
   "source": [
    "# true_edges_min_test_path = out_answer_dir / \"true_edges_min_test_results.json\"\n",
    "# if TASK_TO_OUTPUT_ANSWER_FUNCS[task.key] == (conf.grad_func, conf.answer_func) and not true_edges_min_test_path.exists():\n",
    "#     true_edges_min_test_results, null_rejected = minimality_test(\n",
    "#         model=task.model, \n",
    "#         dataloader=task.test_loader,\n",
    "#         edges=list(task.true_edges),\n",
    "#         prune_scores=task.model.circuit_prune_scores(task.true_edges),\n",
    "#         threshold=0.5,\n",
    "#         grad_func=conf.grad_func,\n",
    "#         answer_func=conf.answer_func,\n",
    "#         ablation_type=conf.ablation_type,\n",
    "#         token=task.token_circuit,\n",
    "#         inflated_outs=inflated_outs_true,\n",
    "#         ablated_outs=ablated_outs_true,\n",
    "#         q_star=conf.q_star,\n",
    "#         device=task.device,\n",
    "#         stop_if_reject=True\n",
    "#     )\n",
    "#     save_json({edge_name(k): v for k, v in true_edges_min_test_results.items()}, out_answer_dir, \"true_edges_min_test_results\")"
   ]
  },
  {
   "cell_type": "markdown",
   "metadata": {},
   "source": [
    "# Independence Test and Complement %Loss Recovered"
   ]
  },
  {
   "cell_type": "markdown",
   "metadata": {},
   "source": [
    "## % Loss Recovered of Complement Model"
   ]
  },
  {
   "cell_type": "code",
   "execution_count": null,
   "metadata": {},
   "outputs": [],
   "source": [
    "# get complement outs\n",
    "complement_outs_train = run_circuits(\n",
    "    model=task.model, \n",
    "    dataloader=task.train_loader,\n",
    "    prune_scores=prune_scores,\n",
    "    test_edge_counts=circ_edges,\n",
    "    patch_type=PatchType.EDGE_PATCH, \n",
    "    ablation_type=conf.ablation_type,\n",
    "    reverse_clean_corrupt=True, # ablated edges are corrupt \n",
    ")\n",
    "\n",
    "complement_outs_test: CircuitOutputs = run_circuits(\n",
    "    model=task.model, \n",
    "    dataloader=task.test_loader,\n",
    "    prune_scores=prune_scores,\n",
    "    test_edge_counts=circ_edges,\n",
    "    patch_type=PatchType.EDGE_PATCH, \n",
    "    ablation_type=conf.ablation_type,\n",
    "    reverse_clean_corrupt=True, # ablated edges are corrupt\n",
    ")"
   ]
  },
  {
   "cell_type": "code",
   "execution_count": null,
   "metadata": {},
   "outputs": [],
   "source": [
    "# get faithfulness metrics of complement\n",
    "faith_metric_results_c_train, faith_metrics_c_train = compute_faith_metrics(\n",
    "    task.train_loader,\n",
    "    model_out_train, \n",
    "    ablated_out_train,\n",
    "    conf.grad_func,\n",
    "    conf.answer_func,\n",
    "    circs_outs=complement_outs_train,\n",
    ")\n",
    "\n",
    "\n",
    "faith_metric_results_c_test, faith_metrics_c_test = compute_faith_metrics(\n",
    "    task.test_loader,\n",
    "    model_out_test,\n",
    "    ablated_out_test,\n",
    "    conf.grad_func,\n",
    "    conf.answer_func,\n",
    "    circs_outs=complement_outs_test,\n",
    ")\n",
    "\n",
    "\n",
    "save_json(faith_metric_results_c_train, edge_dir, \"faith_metric_results_c_train\")\n",
    "save_json(faith_metrics_c_train, edge_dir, \"faith_metrics_c_train\")\n",
    "save_json(faith_metric_results_c_test, edge_dir, \"faith_metric_results_c_test\")\n",
    "save_json(faith_metrics_c_test, edge_dir, \"faith_metrics_c_test\")"
   ]
  },
  {
   "cell_type": "code",
   "execution_count": 78,
   "metadata": {},
   "outputs": [],
   "source": [
    "# compute faithfulness metrics using eval functions\n",
    "if conf.eval_answer_func is not None and conf.eval_answer_func != conf.answer_func:\n",
    "    faith_metric_results_c_train_eval, faith_metrics_c_train_eval = compute_faith_metrics(\n",
    "        task.train_loader,\n",
    "        model_out_train,\n",
    "        ablated_out_train,\n",
    "        conf.eval_grad_func,\n",
    "        conf.eval_answer_func,\n",
    "        circs_outs=complement_outs_train,\n",
    "    )\n",
    "\n",
    "    faith_metric_results_c_test_eval, faith_metrics_c_test_eval = compute_faith_metrics(\n",
    "        task.test_loader,\n",
    "        model_out_test,\n",
    "        ablated_out_test,\n",
    "        conf.eval_grad_func,\n",
    "        conf.eval_answer_func,\n",
    "        circs_outs=complement_outs_test,\n",
    "    )\n",
    "    save_json(faith_metric_results_c_train_eval, edge_dir, \"faith_metric_results_c_train_eval\")\n",
    "    save_json(faith_metrics_c_train_eval, edge_dir, \"faith_metrics_c_train_eval\")\n",
    "    save_json(faith_metric_results_c_test_eval, edge_dir, \"faith_metric_results_c_test_eval\")\n",
    "    save_json(faith_metrics_c_test_eval, edge_dir, \"faith_metrics_c_test_eval\")"
   ]
  },
  {
   "cell_type": "markdown",
   "metadata": {},
   "source": [
    "## Independence HCIC (Frequentist) Test"
   ]
  },
  {
   "cell_type": "markdown",
   "metadata": {},
   "source": [
    "\n",
    "Test for completeness - if the circuit contains all the components required to perform the task, then the output of the complement should be independent of the original model\n",
    "\n",
    "$H_0$: Score of complement indepedendent of score of model\n",
    "\n",
    "Hilbert Schmdit Indepednence Criterion - non-parametric measure of independence \n",
    "\n",
    "- Background: (see https://jejjohnson.github.io/research_journal/appendix/similarity/hsic/)\n",
    "\n",
    "Intuition: the trace sums along the interaction terms on each data point, which \n",
    "we expect to be larger then other interaction terms across samples if X, and Y are \n",
    "correlated, fewer of the perumations should be greater, our p-value will be smaller, \n",
    "and thus we're more likely to reject the null\n",
    "\n",
    "\n",
    "Note: the hypothesis paper defines HCIC as  K_{x,y}K_{x,y}, but can also define it as \n",
    "{K_x}{K_y}, b/c that that equality holds in general for Cross Covariance and Auto \n",
    "Covariance \n",
    "\n",
    "The paper uses $\\rho$ = median(||score(complement) - score(model)||), based on this \n",
    "paper https://arxiv.org/pdf/1707.07269\n",
    "\n",
    "I'm not sure if we can do an interval test, because it seems like we need to assume \n",
    "a kind of uniform null - I basically don't understand the test enough\n",
    "\n",
    "I want to say something like independent only if \"p value\" between 0.5 +- epsilon \n",
    "\n"
   ]
  },
  {
   "cell_type": "code",
   "execution_count": 79,
   "metadata": {},
   "outputs": [],
   "source": [
    "from auto_circuit_tests.hypo_tests.indep_test import independence_tests"
   ]
  },
  {
   "cell_type": "code",
   "execution_count": null,
   "metadata": {},
   "outputs": [],
   "source": [
    "indep_results_train = independence_tests(\n",
    "    model=task.model, \n",
    "    dataloader=task.train_loader, \n",
    "    prune_scores=prune_scores, \n",
    "    grad_func=conf.grad_func,\n",
    "    answer_func=conf.answer_func,\n",
    "    ablation_type=conf.ablation_type,\n",
    "    model_out=model_out_train,\n",
    "    complement_circuit_outs=complement_outs_train,\n",
    "    alpha=conf.alpha,\n",
    "    B=1000\n",
    ")\n",
    "save_json(indep_results_train, edge_dir, \"indep_results_train\")"
   ]
  },
  {
   "cell_type": "code",
   "execution_count": null,
   "metadata": {},
   "outputs": [],
   "source": [
    "indep_results_test = independence_tests(\n",
    "    model=task.model, \n",
    "    dataloader=task.test_loader, \n",
    "    prune_scores=prune_scores, \n",
    "    grad_func=conf.grad_func,\n",
    "    answer_func=conf.answer_func,\n",
    "    ablation_type=conf.ablation_type,\n",
    "    model_out=model_out_test,\n",
    "    complement_circuit_outs=complement_outs_test,\n",
    "    alpha=conf.alpha,\n",
    "    B=1000\n",
    ")\n",
    "\n",
    "save_json(indep_results_test, edge_dir, \"indep_results_test\")"
   ]
  },
  {
   "cell_type": "code",
   "execution_count": 71,
   "metadata": {},
   "outputs": [],
   "source": [
    "if conf.eval_answer_func is not None and conf.eval_answer_func != conf.answer_func:\n",
    "    indep_results_train_eval = independence_tests(\n",
    "        model=task.model, \n",
    "        dataloader=task.train_loader, \n",
    "        prune_scores=prune_scores, \n",
    "        grad_func=conf.eval_grad_func,\n",
    "        answer_func=conf.eval_answer_func,\n",
    "        ablation_type=conf.ablation_type,\n",
    "        model_out=model_out_train,\n",
    "        complement_circuit_outs=complement_outs_train,\n",
    "        alpha=conf.alpha,\n",
    "        B=1000\n",
    "    )\n",
    "    save_json(indep_results_train_eval, edge_dir, \"indep_results_train_eval\")\n",
    "\n",
    "    indep_results_test_eval = independence_tests(\n",
    "        model=task.model, \n",
    "        dataloader=task.test_loader, \n",
    "        prune_scores=prune_scores, \n",
    "        grad_func=conf.eval_grad_func,\n",
    "        answer_func=conf.eval_answer_func,\n",
    "        ablation_type=conf.ablation_type,\n",
    "        model_out=model_out_test,\n",
    "        complement_circuit_outs=complement_outs_test,\n",
    "        alpha=conf.alpha,\n",
    "        B=1000\n",
    "    )\n",
    "    save_json(indep_results_test_eval, edge_dir, \"indep_results_test_eval\")"
   ]
  },
  {
   "cell_type": "code",
   "execution_count": null,
   "metadata": {},
   "outputs": [],
   "source": [
    "# plot % loss recovered and indep test results\n",
    "fig, ax = plot_frac_loss_recovered_and_equiv_test_results(\n",
    "    faith_metric_results_c_train, \n",
    "    indep_results_train,\n",
    "    title=\"(Train) Fraction of Loss Recovered by Complement and Independence Test Results\",\n",
    "    result_type=\"indep\",\n",
    "    x_label=\"Edges\" if not conf.prune_score_thresh else \"Prune Scores\"\n",
    ")\n",
    "fig.savefig(edge_dir / \"frac_loss_recovered_and_indep_test_results_train.png\")"
   ]
  },
  {
   "cell_type": "code",
   "execution_count": null,
   "metadata": {},
   "outputs": [],
   "source": [
    "# plot % loss recovered and indep test results\n",
    "fig, ax = plot_frac_loss_recovered_and_equiv_test_results(\n",
    "    faith_metric_results_c_test, \n",
    "    indep_results_test,\n",
    "    title=\"(Test) Fraction of Loss Recovered by Complement and Independence Test Results\",\n",
    "    result_type=\"indep\",\n",
    "    x_label=\"Edges\" if not conf.prune_score_thresh else \"Prune Scores\"\n",
    ")\n",
    "fig.savefig(edge_dir / \"frac_loss_recovered_and_indep_test_results_test.png\")"
   ]
  },
  {
   "cell_type": "code",
   "execution_count": 74,
   "metadata": {},
   "outputs": [],
   "source": [
    "if conf.eval_answer_func is not None and conf.eval_answer_func != conf.answer_func:\n",
    "    fig, ax = plot_frac_loss_recovered_and_equiv_test_results(\n",
    "        faith_metric_results_c_train_eval, \n",
    "        indep_results_train_eval,\n",
    "        title=\"(Train) Fraction of Loss Recovered by Complement and Independence Test Results\",\n",
    "        result_type=\"indep\",\n",
    "        x_label=\"Edges\" if not conf.prune_score_thresh else \"Prune Scores\"\n",
    "    )\n",
    "    fig.savefig(edge_dir / \"frac_loss_recovered_and_indep_test_results_train_eval.png\")"
   ]
  },
  {
   "cell_type": "code",
   "execution_count": 75,
   "metadata": {},
   "outputs": [],
   "source": [
    "if conf.eval_answer_func is not None and conf.eval_answer_func != conf.answer_func:\n",
    "    fig, ax = plot_frac_loss_recovered_and_equiv_test_results(\n",
    "        faith_metric_results_c_test_eval, \n",
    "        indep_results_test_eval,\n",
    "        title=\"(Test) Fraction of Loss Recovered by Complement and Independence Test Results\",\n",
    "        result_type=\"indep\",\n",
    "        x_label=\"Edges\" if not conf.prune_score_thresh else \"Prune Scores\"\n",
    "    )\n",
    "    fig.savefig(edge_dir / \"frac_loss_recovered_and_indep_test_results_test_eval.png\")"
   ]
  },
  {
   "cell_type": "markdown",
   "metadata": {},
   "source": [
    "### Run Independence Test on True Edges"
   ]
  },
  {
   "cell_type": "code",
   "execution_count": null,
   "metadata": {},
   "outputs": [],
   "source": [
    "indep_true_edge_results_path = out_answer_dir / \"indep_true_edge_results.json\"\n",
    "if TASK_TO_OUTPUT_ANSWER_FUNCS[task.key] == (conf.grad_func, conf.answer_func) and not indep_true_edge_results_path.exists():\n",
    "    indep_true_edge_result_test = next(iter(independence_tests(\n",
    "        task.model, \n",
    "        task.test_loader, \n",
    "        task.model.circuit_prune_scores(task.true_edges), \n",
    "        ablation_type=conf.ablation_type,\n",
    "        grad_func=conf.grad_func,\n",
    "        answer_func=conf.answer_func,\n",
    "        thresholds=[0.5], \n",
    "        model_out=model_out_test,\n",
    "        alpha=conf.alpha,\n",
    "        B=1000\n",
    "    ).values()))\n",
    "    save_json(result_to_json(indep_true_edge_result_test), out_answer_dir, f\"indep_true_edge_result\")"
   ]
  }
 ],
 "metadata": {
  "kernelspec": {
   "display_name": "elk-experiments-AZ2LBS3Q-py3.10",
   "language": "python",
   "name": "python3"
  },
  "language_info": {
   "codemirror_mode": {
    "name": "ipython",
    "version": 3
   },
   "file_extension": ".py",
   "mimetype": "text/x-python",
   "name": "python",
   "nbconvert_exporter": "python",
   "pygments_lexer": "ipython3",
   "version": "3.10.14"
  }
 },
 "nbformat": 4,
 "nbformat_minor": 2
}
